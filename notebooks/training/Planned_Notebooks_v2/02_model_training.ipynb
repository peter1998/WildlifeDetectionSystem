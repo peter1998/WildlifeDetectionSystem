{
 "cells": [
  {
   "cell_type": "code",
   "execution_count": 1,
   "id": "2a5dfa06",
   "metadata": {},
   "outputs": [
    {
     "name": "stdout",
     "output_type": "stream",
     "text": [
      "Python version: 3.12.3\n",
      "Platform: Linux-6.8.0-58-generic-x86_64-with-glibc2.39\n",
      "PyTorch version: 2.6.0+cu124\n",
      "CUDA available: True\n",
      "CUDA version: 12.4\n",
      "GPU device: NVIDIA GeForce RTX 4050 Laptop GPU\n",
      "Number of GPUs: 1\n",
      "GPU Memory: 5.76 GB\n",
      "✅ numpy is installed (version: 2.1.1)\n",
      "✅ matplotlib is installed (version: 3.10.1)\n",
      "✅ pandas is installed (version: 2.2.3)\n",
      "✅ ultralytics is installed (version: 8.3.106)\n",
      "\n",
      "Project root path: /home/peter/Desktop/TU PHD/WildlifeDetectionSystem\n",
      "Current working directory: /home/peter/Desktop/TU PHD/WildlifeDetectionSystem/notebooks/training/Planned_Notebooks_v2\n",
      "\n",
      "Environment setup check complete!\n"
     ]
    }
   ],
   "source": [
    "# Cell 1: Environment Setup and Dependencies\n",
    "import os\n",
    "import sys\n",
    "import platform\n",
    "import time\n",
    "from datetime import datetime\n",
    "from pathlib import Path\n",
    "import json\n",
    "import yaml\n",
    "import shutil\n",
    "import random\n",
    "\n",
    "# Deep learning\n",
    "import torch\n",
    "from ultralytics import YOLO\n",
    "\n",
    "# Data analysis\n",
    "import numpy as np\n",
    "import pandas as pd\n",
    "\n",
    "# Visualization\n",
    "import matplotlib.pyplot as plt\n",
    "import seaborn as sns\n",
    "\n",
    "# Progress tracking\n",
    "from tqdm.notebook import tqdm\n",
    "\n",
    "# Print Python and environment information\n",
    "print(f\"Python version: {platform.python_version()}\")\n",
    "print(f\"Platform: {platform.platform()}\")\n",
    "\n",
    "# Check for CUDA\n",
    "try:\n",
    "    import torch\n",
    "    print(f\"PyTorch version: {torch.__version__}\")\n",
    "    print(f\"CUDA available: {torch.cuda.is_available()}\")\n",
    "    if torch.cuda.is_available():\n",
    "        print(f\"CUDA version: {torch.version.cuda}\")\n",
    "        print(f\"GPU device: {torch.cuda.get_device_name(0)}\")\n",
    "        print(f\"Number of GPUs: {torch.cuda.device_count()}\")\n",
    "        print(f\"GPU Memory: {torch.cuda.get_device_properties(0).total_memory / (1024**3):.2f} GB\")\n",
    "    else:\n",
    "        print(\"CUDA is not available - training will use CPU\")\n",
    "except ImportError:\n",
    "    print(\"PyTorch is not installed - you'll need to install it with pip install torch torchvision\")\n",
    "\n",
    "# Check for other required libraries\n",
    "required_packages = ['numpy', 'matplotlib', 'pandas', 'ultralytics']\n",
    "for package in required_packages:\n",
    "    try:\n",
    "        module = __import__(package.replace('-', '_'))\n",
    "        print(f\"✅ {package} is installed (version: {module.__version__})\")\n",
    "    except ImportError:\n",
    "        print(f\"❌ {package} is NOT installed - use pip install {package}\")\n",
    "    except AttributeError:\n",
    "        print(f\"✅ {package} is installed (version unknown)\")\n",
    "\n",
    "# Manually set the project root path to ensure accuracy\n",
    "project_root = \"/home/peter/Desktop/TU PHD/WildlifeDetectionSystem\"\n",
    "print(f\"\\nProject root path: {project_root}\")\n",
    "\n",
    "# Output the current working directory for reference\n",
    "print(f\"Current working directory: {os.getcwd()}\")\n",
    "\n",
    "# Create tracking directory\n",
    "tracking_dir = os.path.join(project_root, \"tracking\")\n",
    "os.makedirs(tracking_dir, exist_ok=True)\n",
    "\n",
    "print(\"\\nEnvironment setup check complete!\")"
   ]
  },
  {
   "cell_type": "code",
   "execution_count": 2,
   "id": "d4bfe035",
   "metadata": {},
   "outputs": [
    {
     "name": "stdout",
     "output_type": "stream",
     "text": [
      "Project root path: /home/peter/Desktop/TU PHD/WildlifeDetectionSystem\n",
      "Found configuration from notebook 1: /home/peter/Desktop/TU PHD/WildlifeDetectionSystem/config/notebook_data_20250510_0038.json\n",
      "\n",
      "Loaded configuration with timestamp: 20250510_0038\n",
      "Number of classes: 30\n",
      "Number of taxonomic groups: 5\n",
      "Standard dataset: /home/peter/Desktop/TU PHD/WildlifeDetectionSystem/data/export/yolo_export_test_01_20250510_0038\n",
      "Hierarchical dataset: /home/peter/Desktop/TU PHD/WildlifeDetectionSystem/data/export/yolo_hierarchical_test_01_20250510_0038\n",
      "✅ Standard YOLO dataset exists\n",
      "   Classes in data.yaml: 30\n",
      "✅ Hierarchical YOLO dataset exists\n",
      "   Groups in data.yaml: 5\n",
      "\n",
      "Output paths for trained models:\n",
      "- Standard model: /home/peter/Desktop/TU PHD/WildlifeDetectionSystem/models/trained/wildlife_detector_20250510_1706\n",
      "- Hierarchical model: /home/peter/Desktop/TU PHD/WildlifeDetectionSystem/models/trained/wildlife_detector_hierarchical_20250510_1706\n",
      "\n",
      "Training configuration saved to: /home/peter/Desktop/TU PHD/WildlifeDetectionSystem/config/training_config_20250510_1706.json\n"
     ]
    }
   ],
   "source": [
    "# Cell 2: Load Configuration from Notebook 1\n",
    "# Find and load the configuration generated by the data preparation notebook\n",
    "import os\n",
    "import json\n",
    "import yaml\n",
    "from datetime import datetime\n",
    "\n",
    "# Manually set the project root path to ensure accuracy - this makes the cell self-contained\n",
    "project_root = \"/home/peter/Desktop/TU PHD/WildlifeDetectionSystem\"\n",
    "print(f\"Project root path: {project_root}\")\n",
    "\n",
    "def find_latest_config(config_dir, prefix=\"notebook_data_\"):\n",
    "    \"\"\"Find the latest configuration file based on timestamp in filename\"\"\"\n",
    "    config_files = [f for f in os.listdir(config_dir) if f.startswith(prefix) and f.endswith('.json')]\n",
    "    if not config_files:\n",
    "        return None\n",
    "    \n",
    "    # Sort by timestamp (assuming format notebook_data_YYYYMMDD_HHMM.json)\n",
    "    latest_config = sorted(config_files, reverse=True)[0]\n",
    "    return os.path.join(config_dir, latest_config)\n",
    "\n",
    "# Define paths\n",
    "config_dir = os.path.join(project_root, \"config\")\n",
    "if not os.path.exists(config_dir):\n",
    "    print(f\"❌ Config directory not found: {config_dir}\")\n",
    "    print(\"Please run notebook 1 (data preparation) first\")\n",
    "else:\n",
    "    # Try to find the latest config file\n",
    "    latest_config = find_latest_config(config_dir)\n",
    "    \n",
    "    if latest_config and os.path.exists(latest_config):\n",
    "        print(f\"Found configuration from notebook 1: {latest_config}\")\n",
    "        \n",
    "        # Load configuration\n",
    "        with open(latest_config, 'r') as f:\n",
    "            notebook1_config = json.load(f)\n",
    "        \n",
    "        # Extract key paths and parameters\n",
    "        timestamp = notebook1_config[\"timestamp\"]\n",
    "        class_names = notebook1_config[\"class_names\"]\n",
    "        taxonomic_groups = notebook1_config[\"taxonomic_groups\"]\n",
    "        standard_export_path = notebook1_config[\"standard_export_path\"]\n",
    "        hierarchical_export_path = notebook1_config[\"hierarchical_export_path\"]\n",
    "        \n",
    "        print(f\"\\nLoaded configuration with timestamp: {timestamp}\")\n",
    "        print(f\"Number of classes: {len(class_names)}\")\n",
    "        print(f\"Number of taxonomic groups: {len(taxonomic_groups)}\")\n",
    "        print(f\"Standard dataset: {standard_export_path}\")\n",
    "        print(f\"Hierarchical dataset: {hierarchical_export_path}\")\n",
    "        \n",
    "        # Check if the datasets exist\n",
    "        if os.path.exists(standard_export_path):\n",
    "            print(f\"✅ Standard YOLO dataset exists\")\n",
    "            \n",
    "            # Verify data.yaml\n",
    "            data_yaml_path = os.path.join(standard_export_path, 'data.yaml')\n",
    "            if os.path.exists(data_yaml_path):\n",
    "                with open(data_yaml_path, 'r') as f:\n",
    "                    data_yaml = yaml.safe_load(f)\n",
    "                print(f\"   Classes in data.yaml: {data_yaml.get('nc', 'unknown')}\")\n",
    "            else:\n",
    "                print(f\"❌ data.yaml not found in standard dataset\")\n",
    "        else:\n",
    "            print(f\"❌ Standard YOLO dataset not found: {standard_export_path}\")\n",
    "        \n",
    "        if os.path.exists(hierarchical_export_path):\n",
    "            print(f\"✅ Hierarchical YOLO dataset exists\")\n",
    "            \n",
    "            # Verify data.yaml\n",
    "            hierarchical_yaml_path = os.path.join(hierarchical_export_path, 'data.yaml')\n",
    "            if os.path.exists(hierarchical_yaml_path):\n",
    "                with open(hierarchical_yaml_path, 'r') as f:\n",
    "                    hierarchical_yaml = yaml.safe_load(f)\n",
    "                print(f\"   Groups in data.yaml: {hierarchical_yaml.get('nc', 'unknown')}\")\n",
    "            else:\n",
    "                print(f\"❌ data.yaml not found in hierarchical dataset\")\n",
    "        else:\n",
    "            print(f\"❌ Hierarchical YOLO dataset not found: {hierarchical_export_path}\")\n",
    "    else:\n",
    "        print(f\"❌ Configuration from notebook 1 not found in {config_dir}\")\n",
    "        print(\"Please run notebook 1 (data preparation) first\")\n",
    "\n",
    "# Define the output paths for this notebook\n",
    "model_save_dir = os.path.join(project_root, \"models\", \"trained\")\n",
    "reports_dir = os.path.join(project_root, \"reports\")\n",
    "timestamp_now = datetime.now().strftime(\"%Y%m%d_%H%M\")\n",
    "\n",
    "# Generate paths for model outputs\n",
    "standard_model_name = f\"wildlife_detector_{timestamp_now}\"\n",
    "hierarchical_model_name = f\"wildlife_detector_hierarchical_{timestamp_now}\"\n",
    "\n",
    "standard_model_path = os.path.join(model_save_dir, standard_model_name)\n",
    "hierarchical_model_path = os.path.join(model_save_dir, hierarchical_model_name)\n",
    "\n",
    "print(f\"\\nOutput paths for trained models:\")\n",
    "print(f\"- Standard model: {standard_model_path}\")\n",
    "print(f\"- Hierarchical model: {hierarchical_model_path}\")\n",
    "\n",
    "# Save the training configuration for reference and tracking\n",
    "training_config = {\n",
    "    \"notebook\": \"02_model_training\",\n",
    "    \"timestamp\": timestamp_now,\n",
    "    \"input\": {\n",
    "        \"config\": latest_config,\n",
    "        \"standard_dataset\": standard_export_path,\n",
    "        \"hierarchical_dataset\": hierarchical_export_path,\n",
    "        \"class_names\": class_names,\n",
    "        \"taxonomic_groups\": taxonomic_groups\n",
    "    },\n",
    "    \"output\": {\n",
    "        \"standard_model\": standard_model_path,\n",
    "        \"hierarchical_model\": hierarchical_model_path,\n",
    "        \"reports_dir\": reports_dir\n",
    "    }\n",
    "}\n",
    "\n",
    "# Save configuration\n",
    "training_config_path = os.path.join(config_dir, f\"training_config_{timestamp_now}.json\")\n",
    "with open(training_config_path, 'w') as f:\n",
    "    json.dump(training_config, f, indent=2)\n",
    "\n",
    "print(f\"\\nTraining configuration saved to: {training_config_path}\")"
   ]
  },
  {
   "cell_type": "code",
   "execution_count": 3,
   "id": "cf7fff37-3849-4fbc-8430-36f6b436f4ed",
   "metadata": {},
   "outputs": [
    {
     "name": "stdout",
     "output_type": "stream",
     "text": [
      "Detecting hardware capabilities...\n",
      "GPU detected with 5.76 GB memory\n",
      "\n",
      "Recommended Configuration Based on Hardware:\n",
      "- Model: YOLOv8s (Small)\n",
      "- Parameters: 11.2M\n",
      "- Device: GPU\n",
      "- Batch Size: 4\n",
      "- Image Size: 416px\n",
      "- Workers: 2\n",
      "\n",
      "Would you like to override the recommended model size? (y/n)\n"
     ]
    },
    {
     "name": "stdout",
     "output_type": "stream",
     "text": [
      " n\n"
     ]
    },
    {
     "name": "stdout",
     "output_type": "stream",
     "text": [
      "\n",
      "Base model path: yolov8s.pt\n",
      "Updated training configuration with hardware and model settings.\n"
     ]
    },
    {
     "name": "stdout",
     "output_type": "stream",
     "text": [
      "\n",
      "Base model path: yolov8s.pt\n",
      "Updated training configuration with hardware and model settings.\n"
     ]
    }
   ],
   "source": [
    "# Cell 3: Hardware-Aware Model Selection and Optimization\n",
    "# Automatically selects the optimal model size based on available hardware\n",
    "\n",
    "import torch \n",
    "\n",
    "def detect_hardware_capabilities():\n",
    "    \"\"\"Detect hardware capabilities and recommend model size\"\"\"\n",
    "    # Check for CUDA availability\n",
    "    cuda_available = torch.cuda.is_available()\n",
    "    \n",
    "    if not cuda_available:\n",
    "        print(\"No CUDA detected. Using CPU for training.\")\n",
    "        return {\n",
    "            \"device\": \"cpu\",\n",
    "            \"recommended_model\": \"n\",  # nano model for CPU\n",
    "            \"batch_size\": 1,\n",
    "            \"image_size\": 320,\n",
    "            \"workers\": 0\n",
    "        }\n",
    "    \n",
    "    # Get GPU memory in GB\n",
    "    try:\n",
    "        gpu_memory = torch.cuda.get_device_properties(0).total_memory / (1024**3)\n",
    "        print(f\"GPU detected with {gpu_memory:.2f} GB memory\")\n",
    "        \n",
    "        # Determine model size based on available GPU memory\n",
    "        if gpu_memory >= 24:\n",
    "            # High-end GPU (RTX 3090/4090, A100, etc.)\n",
    "            return {\n",
    "                \"device\": 0,\n",
    "                \"recommended_model\": \"x\",  # largest model\n",
    "                \"batch_size\": 16,\n",
    "                \"image_size\": 640,\n",
    "                \"workers\": 4\n",
    "            }\n",
    "        elif gpu_memory >= 16:\n",
    "            # Good GPU (RTX 3080, RTX A6000, etc.)\n",
    "            return {\n",
    "                \"device\": 0,\n",
    "                \"recommended_model\": \"l\",  # large model\n",
    "                \"batch_size\": 12,\n",
    "                \"image_size\": 640,\n",
    "                \"workers\": 4\n",
    "            }\n",
    "        elif gpu_memory >= 8:\n",
    "            # Mid-range GPU (RTX 3070, RTX 2080, etc.)\n",
    "            return {\n",
    "                \"device\": 0,\n",
    "                \"recommended_model\": \"m\",  # medium model\n",
    "                \"batch_size\": 8,\n",
    "                \"image_size\": 512,\n",
    "                \"workers\": 2\n",
    "            }\n",
    "        elif gpu_memory >= 4:\n",
    "            # Entry-level GPU (GTX 1660, RTX 3050, etc.)\n",
    "            return {\n",
    "                \"device\": 0,\n",
    "                \"recommended_model\": \"s\",  # small model\n",
    "                \"batch_size\": 4,\n",
    "                \"image_size\": 416,\n",
    "                \"workers\": 2\n",
    "            }\n",
    "        else:\n",
    "            # Low-end GPU or integrated (MX series, etc.)\n",
    "            return {\n",
    "                \"device\": 0,\n",
    "                \"recommended_model\": \"n\",  # nano model\n",
    "                \"batch_size\": 2,\n",
    "                \"image_size\": 320,\n",
    "                \"workers\": 1\n",
    "            }\n",
    "    except Exception as e:\n",
    "        print(f\"Error detecting GPU properties: {e}\")\n",
    "        print(\"Defaulting to safe configuration\")\n",
    "        return {\n",
    "            \"device\": 0 if cuda_available else \"cpu\",\n",
    "            \"recommended_model\": \"n\",  # nano model for safety\n",
    "            \"batch_size\": 1,\n",
    "            \"image_size\": 320,\n",
    "            \"workers\": 0\n",
    "        }\n",
    "\n",
    "# Detect hardware capabilities\n",
    "print(\"Detecting hardware capabilities...\")\n",
    "hw_config = detect_hardware_capabilities()\n",
    "\n",
    "# Map model size to readable name and parameters\n",
    "model_sizes = {\n",
    "    \"n\": {\"name\": \"YOLOv8n\", \"description\": \"Nano\", \"params\": \"3.2M\"},\n",
    "    \"s\": {\"name\": \"YOLOv8s\", \"description\": \"Small\", \"params\": \"11.2M\"},\n",
    "    \"m\": {\"name\": \"YOLOv8m\", \"description\": \"Medium\", \"params\": \"25.9M\"},\n",
    "    \"l\": {\"name\": \"YOLOv8l\", \"description\": \"Large\", \"params\": \"43.7M\"},\n",
    "    \"x\": {\"name\": \"YOLOv8x\", \"description\": \"Extra Large\", \"params\": \"68.2M\"}\n",
    "}\n",
    "\n",
    "# Display recommended configuration\n",
    "recommended_model_size = hw_config[\"recommended_model\"]\n",
    "recommended_model = model_sizes[recommended_model_size]\n",
    "\n",
    "print(\"\\nRecommended Configuration Based on Hardware:\")\n",
    "print(f\"- Model: {recommended_model['name']} ({recommended_model['description']})\")\n",
    "print(f\"- Parameters: {recommended_model['params']}\")\n",
    "print(f\"- Device: {'GPU' if hw_config['device'] == 0 else 'CPU'}\")\n",
    "print(f\"- Batch Size: {hw_config['batch_size']}\")\n",
    "print(f\"- Image Size: {hw_config['image_size']}px\")\n",
    "print(f\"- Workers: {hw_config['workers']}\")\n",
    "\n",
    "# Allow manual override\n",
    "print(\"\\nWould you like to override the recommended model size? (y/n)\")\n",
    "override = input().strip().lower()\n",
    "if override == 'y':\n",
    "    print(\"Select model size (n=nano, s=small, m=medium, l=large, x=extra-large):\")\n",
    "    model_input = input().strip().lower()\n",
    "    if model_input in model_sizes:\n",
    "        recommended_model_size = model_input\n",
    "        recommended_model = model_sizes[recommended_model_size]\n",
    "        print(f\"Using {recommended_model['name']} ({recommended_model['description']}) with {recommended_model['params']} parameters.\")\n",
    "    else:\n",
    "        print(f\"Invalid selection. Using recommended {recommended_model['name']}.\")\n",
    "\n",
    "# Define model paths\n",
    "base_model_path = f\"yolov8{recommended_model_size}.pt\"\n",
    "print(f\"\\nBase model path: {base_model_path}\")\n",
    "\n",
    "# Save hardware configuration to the training config\n",
    "training_config[\"hardware\"] = hw_config\n",
    "training_config[\"model\"] = {\n",
    "    \"size\": recommended_model_size,\n",
    "    \"name\": recommended_model[\"name\"],\n",
    "    \"description\": recommended_model[\"description\"],\n",
    "    \"parameters\": recommended_model[\"params\"],\n",
    "    \"base_model_path\": base_model_path\n",
    "}\n",
    "\n",
    "# Update training config file\n",
    "with open(training_config_path, 'w') as f:\n",
    "    json.dump(training_config, f, indent=2)\n",
    "\n",
    "print(f\"Updated training configuration with hardware and model settings.\")"
   ]
  },
  {
   "cell_type": "code",
   "execution_count": 4,
   "id": "9f257b44-02ad-469e-87b5-dc46e665d7f3",
   "metadata": {},
   "outputs": [
    {
     "name": "stdout",
     "output_type": "stream",
     "text": [
      "Selected memory optimization profile: gpu_standard\n",
      "\n",
      "Standard Model Training Configuration:\n",
      "- epochs: 100\n",
      "- patience: 25\n",
      "- optimizer: AdamW\n",
      "- lr0: 0.001\n",
      "- device: 0\n",
      "- workers: 2\n",
      "- batch: 4\n",
      "- imgsz: 416\n",
      "- amp: True\n",
      "\n",
      "Hierarchical Model Training Configuration:\n",
      "- epochs: 50\n",
      "- patience: 15\n",
      "- optimizer: AdamW\n",
      "- lr0: 0.001\n",
      "- device: 0\n",
      "- workers: 2\n",
      "- batch: 4\n",
      "- imgsz: 416\n",
      "- amp: True\n",
      "\n",
      "Hyperparameters added to training configuration.\n"
     ]
    }
   ],
   "source": [
    "# Cell 4: Training Configuration Setup\n",
    "# Define training parameters for both standard and hierarchical models\n",
    "\n",
    "# Memory optimization settings\n",
    "memory_optimizations = {\n",
    "    \"cpu\": {\n",
    "        # CPU-specific optimizations\n",
    "        \"device\": \"cpu\",\n",
    "        \"workers\": 0,\n",
    "        \"batch\": 1,\n",
    "        \"cache\": \"disk\",\n",
    "        \"imgsz\": min(hw_config[\"image_size\"], 320),  # Use 'imgsz' consistently\n",
    "        \"amp\": False  # No mixed precision on CPU\n",
    "    },\n",
    "    \"gpu_low_memory\": {\n",
    "        # For GPUs with less than 4GB memory\n",
    "        \"device\": 0,\n",
    "        \"workers\": hw_config[\"workers\"],\n",
    "        \"batch\": max(1, hw_config[\"batch_size\"] // 2),  # Reduce batch size\n",
    "        \"cache\": \"disk\",\n",
    "        \"imgsz\": min(hw_config[\"image_size\"], 384),  # Use 'imgsz' consistently\n",
    "        \"amp\": True  # Mixed precision\n",
    "    },\n",
    "    \"gpu_standard\": {\n",
    "        # For standard GPUs with sufficient memory\n",
    "        \"device\": 0,\n",
    "        \"workers\": hw_config[\"workers\"],\n",
    "        \"batch\": hw_config[\"batch_size\"],\n",
    "        \"cache\": \"ram\",\n",
    "        \"imgsz\": hw_config[\"image_size\"],  # Use 'imgsz' consistently\n",
    "        \"amp\": True  # Mixed precision\n",
    "    }\n",
    "}\n",
    "\n",
    "# Select memory optimization profile based on hardware\n",
    "if hw_config[\"device\"] == \"cpu\":\n",
    "    memory_profile = \"cpu\"\n",
    "elif hw_config[\"device\"] == 0 and torch.cuda.get_device_properties(0).total_memory / (1024**3) < 4:\n",
    "    memory_profile = \"gpu_low_memory\"\n",
    "else:\n",
    "    memory_profile = \"gpu_standard\"\n",
    "\n",
    "print(f\"Selected memory optimization profile: {memory_profile}\")\n",
    "memory_config = memory_optimizations[memory_profile]\n",
    "\n",
    "# Base hyperparameters common to both standard and hierarchical training\n",
    "base_hyperparams = {\n",
    "    # Standard YOLOv8 parameters\n",
    "    'epochs': 100,                    # Maximum number of epochs\n",
    "    'patience': 25,                   # Early stopping patience\n",
    "    'optimizer': 'AdamW',             # Optimizer (AdamW better for imbalanced data)\n",
    "    'lr0': 0.001,                     # Initial learning rate\n",
    "    'lrf': 0.01,                      # Final learning rate as a fraction of lr0\n",
    "    'momentum': 0.937,                # SGD momentum/Adam beta1\n",
    "    'weight_decay': 0.0005,           # Regularization \n",
    "    'warmup_epochs': 5,               # Warmup epochs\n",
    "    'warmup_momentum': 0.8,           # Initial warmup momentum\n",
    "    'warmup_bias_lr': 0.1,            # Initial warmup learning rate for bias\n",
    "    \n",
    "    # Loss function weights\n",
    "    'box': 7.5,                       # Box loss weight\n",
    "    'cls': 3.0,                       # Class loss weight\n",
    "    'dfl': 1.5,                       # DFL loss weight\n",
    "    \n",
    "    # Data augmentation\n",
    "    'hsv_h': 0.015,                   # HSV Hue augmentation\n",
    "    'hsv_s': 0.7,                     # HSV Saturation augmentation (higher for wildlife)\n",
    "    'hsv_v': 0.4,                     # HSV Value augmentation (for varying lighting)\n",
    "    'degrees': 10.0,                  # Rotation augmentation\n",
    "    'translate': 0.2,                 # Translation augmentation\n",
    "    'scale': 0.6,                     # Scale augmentation (stronger for wildlife)\n",
    "    'fliplr': 0.5,                    # Horizontal flip probability\n",
    "    'mosaic': 1.0,                    # Mosaic augmentation\n",
    "    'mixup': 0.1,                     # Mixup augmentation\n",
    "    'copy_paste': 0.1,                # Copy-paste augmentation (for rare classes)\n",
    "    \n",
    "    # Saving and checkpointing\n",
    "    'save': True,                     # Save model\n",
    "    'save_period': 10,                # Save checkpoints every X epochs\n",
    "    \n",
    "    # Nominal batch size for gradient accumulation \n",
    "    'nbs': 16                         # Nominal batch size\n",
    "}\n",
    "\n",
    "# Merge base hyperparameters with memory optimizations\n",
    "standard_hyperparams = {**base_hyperparams, **memory_config}\n",
    "hierarchical_hyperparams = {**base_hyperparams, **memory_config}\n",
    "\n",
    "# Special adjustments for hierarchical model (fewer classes, may need different parameters)\n",
    "hierarchical_hyperparams.update({\n",
    "    'cls': 2.0,                       # Reduced class weight (fewer classes)\n",
    "    'epochs': 50,                     # Fewer epochs may be sufficient for taxonomic groups\n",
    "    'patience': 15                    # Earlier stopping \n",
    "})\n",
    "\n",
    "# Display final training configurations\n",
    "print(\"\\nStandard Model Training Configuration:\")\n",
    "for key, value in standard_hyperparams.items():\n",
    "    if key in ['epochs', 'patience', 'optimizer', 'lr0', 'batch', 'imgsz', 'device', 'workers', 'amp']:\n",
    "        print(f\"- {key}: {value}\")\n",
    "\n",
    "print(\"\\nHierarchical Model Training Configuration:\")\n",
    "for key, value in hierarchical_hyperparams.items():\n",
    "    if key in ['epochs', 'patience', 'optimizer', 'lr0', 'batch', 'imgsz', 'device', 'workers', 'amp']:\n",
    "        print(f\"- {key}: {value}\")\n",
    "\n",
    "# Update training config with hyperparameters\n",
    "training_config[\"hyperparameters\"] = {\n",
    "    \"standard\": standard_hyperparams,\n",
    "    \"hierarchical\": hierarchical_hyperparams,\n",
    "    \"memory_profile\": memory_profile\n",
    "}\n",
    "\n",
    "# Update training config file\n",
    "with open(training_config_path, 'w') as f:\n",
    "    json.dump(training_config, f, indent=2)\n",
    "\n",
    "print(f\"\\nHyperparameters added to training configuration.\")"
   ]
  },
  {
   "cell_type": "code",
   "execution_count": 5,
   "id": "5fa6a0fc-d555-4ad0-ba95-81198ce088c5",
   "metadata": {},
   "outputs": [
    {
     "name": "stdout",
     "output_type": "stream",
     "text": [
      "Starting standard model training on all 30 classes\n",
      "Using base model: yolov8s.pt\n",
      "Dataset path: /home/peter/Desktop/TU PHD/WildlifeDetectionSystem/data/export/yolo_export_test_01_20250510_0038\n",
      "Model will be saved to: /home/peter/Desktop/TU PHD/WildlifeDetectionSystem/models/trained/wildlife_detector_20250510_1706\n",
      "\n",
      "Starting training with the following settings:\n",
      "- Model: yolov8s.pt\n",
      "- Epochs: 100\n",
      "- Batch size: 4\n",
      "- Image size: 416px\n",
      "- Device: GPU\n",
      "- Workers: 2\n",
      "\n",
      "Training attempt 1/4\n",
      "New https://pypi.org/project/ultralytics/8.3.130 available 😃 Update with 'pip install -U ultralytics'\n",
      "Ultralytics 8.3.106 🚀 Python-3.12.3 torch-2.6.0+cu124 CUDA:0 (NVIDIA GeForce RTX 4050 Laptop GPU, 5898MiB)\n",
      "\u001b[34m\u001b[1mengine/trainer: \u001b[0mtask=detect, mode=train, model=yolov8s.pt, data=/home/peter/Desktop/TU PHD/WildlifeDetectionSystem/data/export/yolo_export_test_01_20250510_0038/data.yaml, epochs=100, time=None, patience=25, batch=4, imgsz=416, save=True, save_period=10, cache=ram, device=0, workers=2, project=/home/peter/Desktop/TU PHD/WildlifeDetectionSystem/models/trained, name=wildlife_detector_20250510_17062, exist_ok=False, pretrained=True, optimizer=AdamW, verbose=True, seed=0, deterministic=True, single_cls=False, rect=False, cos_lr=False, close_mosaic=10, resume=False, amp=True, fraction=1.0, profile=False, freeze=None, multi_scale=False, overlap_mask=True, mask_ratio=4, dropout=0.0, val=True, split=val, save_json=False, conf=None, iou=0.7, max_det=300, half=False, dnn=False, plots=True, source=None, vid_stride=1, stream_buffer=False, visualize=False, augment=False, agnostic_nms=False, classes=None, retina_masks=False, embed=None, show=False, save_frames=False, save_txt=False, save_conf=False, save_crop=False, show_labels=True, show_conf=True, show_boxes=True, line_width=None, format=torchscript, keras=False, optimize=False, int8=False, dynamic=False, simplify=True, opset=None, workspace=None, nms=False, lr0=0.001, lrf=0.01, momentum=0.937, weight_decay=0.0005, warmup_epochs=5, warmup_momentum=0.8, warmup_bias_lr=0.1, box=7.5, cls=3.0, dfl=1.5, pose=12.0, kobj=1.0, nbs=16, hsv_h=0.015, hsv_s=0.7, hsv_v=0.4, degrees=10.0, translate=0.2, scale=0.6, shear=0.0, perspective=0.0, flipud=0.0, fliplr=0.5, bgr=0.0, mosaic=1.0, mixup=0.1, copy_paste=0.1, copy_paste_mode=flip, auto_augment=randaugment, erasing=0.4, crop_fraction=1.0, cfg=None, tracker=botsort.yaml, save_dir=/home/peter/Desktop/TU PHD/WildlifeDetectionSystem/models/trained/wildlife_detector_20250510_17062\n",
      "Overriding model.yaml nc=80 with nc=30\n",
      "\n",
      "                   from  n    params  module                                       arguments                     \n",
      "  0                  -1  1       928  ultralytics.nn.modules.conv.Conv             [3, 32, 3, 2]                 \n",
      "  1                  -1  1     18560  ultralytics.nn.modules.conv.Conv             [32, 64, 3, 2]                \n",
      "  2                  -1  1     29056  ultralytics.nn.modules.block.C2f             [64, 64, 1, True]             \n",
      "  3                  -1  1     73984  ultralytics.nn.modules.conv.Conv             [64, 128, 3, 2]               \n",
      "  4                  -1  2    197632  ultralytics.nn.modules.block.C2f             [128, 128, 2, True]           \n",
      "  5                  -1  1    295424  ultralytics.nn.modules.conv.Conv             [128, 256, 3, 2]              \n",
      "  6                  -1  2    788480  ultralytics.nn.modules.block.C2f             [256, 256, 2, True]           \n",
      "  7                  -1  1   1180672  ultralytics.nn.modules.conv.Conv             [256, 512, 3, 2]              \n",
      "  8                  -1  1   1838080  ultralytics.nn.modules.block.C2f             [512, 512, 1, True]           \n",
      "  9                  -1  1    656896  ultralytics.nn.modules.block.SPPF            [512, 512, 5]                 \n",
      " 10                  -1  1         0  torch.nn.modules.upsampling.Upsample         [None, 2, 'nearest']          \n",
      " 11             [-1, 6]  1         0  ultralytics.nn.modules.conv.Concat           [1]                           \n",
      " 12                  -1  1    591360  ultralytics.nn.modules.block.C2f             [768, 256, 1]                 \n",
      " 13                  -1  1         0  torch.nn.modules.upsampling.Upsample         [None, 2, 'nearest']          \n",
      " 14             [-1, 4]  1         0  ultralytics.nn.modules.conv.Concat           [1]                           \n",
      " 15                  -1  1    148224  ultralytics.nn.modules.block.C2f             [384, 128, 1]                 \n",
      " 16                  -1  1    147712  ultralytics.nn.modules.conv.Conv             [128, 128, 3, 2]              \n",
      " 17            [-1, 12]  1         0  ultralytics.nn.modules.conv.Concat           [1]                           \n",
      " 18                  -1  1    493056  ultralytics.nn.modules.block.C2f             [384, 256, 1]                 \n",
      " 19                  -1  1    590336  ultralytics.nn.modules.conv.Conv             [256, 256, 3, 2]              \n",
      " 20             [-1, 9]  1         0  ultralytics.nn.modules.conv.Concat           [1]                           \n",
      " 21                  -1  1   1969152  ultralytics.nn.modules.block.C2f             [768, 512, 1]                 \n",
      " 22        [15, 18, 21]  1   2127658  ultralytics.nn.modules.head.Detect           [30, [128, 256, 512]]         \n",
      "Model summary: 129 layers, 11,147,210 parameters, 11,147,194 gradients, 28.7 GFLOPs\n",
      "\n",
      "Transferred 349/355 items from pretrained weights\n",
      "Freezing layer 'model.22.dfl.conv.weight'\n",
      "\u001b[34m\u001b[1mAMP: \u001b[0mrunning Automatic Mixed Precision (AMP) checks...\n",
      "\u001b[34m\u001b[1mAMP: \u001b[0mchecks passed ✅\n"
     ]
    },
    {
     "name": "stderr",
     "output_type": "stream",
     "text": [
      "\u001b[34m\u001b[1mtrain: \u001b[0mScanning /home/peter/Desktop/TU PHD/WildlifeDetectionSystem/data/export/yolo_export_test_01_20250510_0038/labels/train.cache... 356 images, 0 backgrounds, 6 corrupt: 100%|██████████| 356/356 [00:00<?, ?it/s]"
     ]
    },
    {
     "name": "stdout",
     "output_type": "stream",
     "text": [
      "\u001b[34m\u001b[1mtrain: \u001b[0mWARNING ⚠️ /home/peter/Desktop/TU PHD/WildlifeDetectionSystem/data/export/yolo_export_test_01_20250510_0038/images/train/0092_11_09_100BMCIM_IMAG0004.JPG: ignoring corrupt image/label: non-normalized or out of bounds coordinates [1.0016239]\n",
      "\u001b[34m\u001b[1mtrain: \u001b[0mWARNING ⚠️ /home/peter/Desktop/TU PHD/WildlifeDetectionSystem/data/export/yolo_export_test_01_20250510_0038/images/train/0870_x_IMAG0009.JPG: ignoring corrupt image/label: non-normalized or out of bounds coordinates [1.0185256]\n",
      "\u001b[34m\u001b[1mtrain: \u001b[0mWARNING ⚠️ /home/peter/Desktop/TU PHD/WildlifeDetectionSystem/data/export/yolo_export_test_01_20250510_0038/images/train/1099_21_05_IMAG0136.JPG: ignoring corrupt image/label: non-normalized or out of bounds coordinates [1.0162761]\n",
      "\u001b[34m\u001b[1mtrain: \u001b[0mWARNING ⚠️ /home/peter/Desktop/TU PHD/WildlifeDetectionSystem/data/export/yolo_export_test_01_20250510_0038/images/train/1102_21_05_IMAG0134.JPG: ignoring corrupt image/label: non-normalized or out of bounds coordinates [1.0192918]\n",
      "\u001b[34m\u001b[1mtrain: \u001b[0mWARNING ⚠️ /home/peter/Desktop/TU PHD/WildlifeDetectionSystem/data/export/yolo_export_test_01_20250510_0038/images/train/1694_21_10_IMAG0251.JPG: ignoring corrupt image/label: non-normalized or out of bounds coordinates [1.0092396]\n",
      "\u001b[34m\u001b[1mtrain: \u001b[0mWARNING ⚠️ /home/peter/Desktop/TU PHD/WildlifeDetectionSystem/data/export/yolo_export_test_01_20250510_0038/images/train/1878_21_10_IMAG0203.JPG: ignoring corrupt image/label: non-normalized or out of bounds coordinates [1.0273335]\n"
     ]
    },
    {
     "name": "stderr",
     "output_type": "stream",
     "text": [
      "\n"
     ]
    },
    {
     "name": "stdout",
     "output_type": "stream",
     "text": [
      "WARNING ⚠️ cache='ram' may produce non-deterministic training results. Consider cache='disk' as a deterministic alternative if your disk space allows.\n"
     ]
    },
    {
     "name": "stderr",
     "output_type": "stream",
     "text": [
      "\u001b[34m\u001b[1mtrain: \u001b[0mCaching images (0.1GB RAM): 100%|██████████| 350/350 [00:03<00:00, 93.78it/s] \n"
     ]
    },
    {
     "name": "stdout",
     "output_type": "stream",
     "text": [
      "\u001b[34m\u001b[1malbumentations: \u001b[0mBlur(p=0.01, blur_limit=(3, 7)), MedianBlur(p=0.01, blur_limit=(3, 7)), ToGray(p=0.01, method='weighted_average', num_output_channels=3), CLAHE(p=0.01, clip_limit=(1.0, 4.0), tile_grid_size=(8, 8))\n"
     ]
    },
    {
     "name": "stderr",
     "output_type": "stream",
     "text": [
      "\u001b[34m\u001b[1mval: \u001b[0mScanning /home/peter/Desktop/TU PHD/WildlifeDetectionSystem/data/export/yolo_export_test_01_20250510_0038/labels/val.cache... 89 images, 0 backgrounds, 3 corrupt: 100%|██████████| 89/89 [00:00<?, ?it/s]"
     ]
    },
    {
     "name": "stdout",
     "output_type": "stream",
     "text": [
      "\u001b[34m\u001b[1mval: \u001b[0mWARNING ⚠️ /home/peter/Desktop/TU PHD/WildlifeDetectionSystem/data/export/yolo_export_test_01_20250510_0038/images/val/0106_11_09_100BMCIM_IMAG0107.JPG: ignoring corrupt image/label: non-normalized or out of bounds coordinates [1.01125]\n",
      "\u001b[34m\u001b[1mval: \u001b[0mWARNING ⚠️ /home/peter/Desktop/TU PHD/WildlifeDetectionSystem/data/export/yolo_export_test_01_20250510_0038/images/val/0748_30_4_24_100BMCIM_IMAG0116.JPG: ignoring corrupt image/label: non-normalized or out of bounds coordinates [1.0214955]\n",
      "\u001b[34m\u001b[1mval: \u001b[0mWARNING ⚠️ /home/peter/Desktop/TU PHD/WildlifeDetectionSystem/data/export/yolo_export_test_01_20250510_0038/images/val/1345_15_03_24_Моллова_курия_IMAG0389.JPG: ignoring corrupt image/label: non-normalized or out of bounds coordinates [1.0072291]\n"
     ]
    },
    {
     "name": "stderr",
     "output_type": "stream",
     "text": [
      "\n"
     ]
    },
    {
     "name": "stdout",
     "output_type": "stream",
     "text": [
      "WARNING ⚠️ cache='ram' may produce non-deterministic training results. Consider cache='disk' as a deterministic alternative if your disk space allows.\n"
     ]
    },
    {
     "name": "stderr",
     "output_type": "stream",
     "text": [
      "\u001b[34m\u001b[1mval: \u001b[0mCaching images (0.0GB RAM): 100%|██████████| 86/86 [00:00<00:00, 88.79it/s] \n"
     ]
    },
    {
     "name": "stdout",
     "output_type": "stream",
     "text": [
      "Plotting labels to /home/peter/Desktop/TU PHD/WildlifeDetectionSystem/models/trained/wildlife_detector_20250510_17062/labels.jpg... \n",
      "\u001b[34m\u001b[1moptimizer:\u001b[0m AdamW(lr=0.001, momentum=0.937) with parameter groups 57 weight(decay=0.0), 64 weight(decay=0.0005), 63 bias(decay=0.0)\n",
      "Image sizes 416 train, 416 val\n",
      "Using 2 dataloader workers\n",
      "Logging results to \u001b[1m/home/peter/Desktop/TU PHD/WildlifeDetectionSystem/models/trained/wildlife_detector_20250510_17062\u001b[0m\n",
      "Starting training for 100 epochs...\n",
      "\n",
      "      Epoch    GPU_mem   box_loss   cls_loss   dfl_loss  Instances       Size\n"
     ]
    },
    {
     "name": "stderr",
     "output_type": "stream",
     "text": [
      "      1/100     0.639G      2.005      22.21      1.843          4        416: 100%|██████████| 88/88 [00:04<00:00, 19.89it/s]\n",
      "                 Class     Images  Instances      Box(P          R      mAP50  mAP50-95): 100%|██████████| 11/11 [00:00<00:00, 26.90it/s]\n"
     ]
    },
    {
     "name": "stdout",
     "output_type": "stream",
     "text": [
      "                   all         86         88      0.232      0.282      0.195     0.0978\n",
      "\n",
      "      Epoch    GPU_mem   box_loss   cls_loss   dfl_loss  Instances       Size\n"
     ]
    },
    {
     "name": "stderr",
     "output_type": "stream",
     "text": [
      "      2/100     0.705G      1.892      16.04      1.732          6        416: 100%|██████████| 88/88 [00:03<00:00, 26.20it/s]\n",
      "                 Class     Images  Instances      Box(P          R      mAP50  mAP50-95): 100%|██████████| 11/11 [00:00<00:00, 40.66it/s]"
     ]
    },
    {
     "name": "stdout",
     "output_type": "stream",
     "text": [
      "                   all         86         88      0.251      0.277      0.132     0.0484\n"
     ]
    },
    {
     "name": "stderr",
     "output_type": "stream",
     "text": [
      "\n"
     ]
    },
    {
     "name": "stdout",
     "output_type": "stream",
     "text": [
      "\n",
      "      Epoch    GPU_mem   box_loss   cls_loss   dfl_loss  Instances       Size\n"
     ]
    },
    {
     "name": "stderr",
     "output_type": "stream",
     "text": [
      "      3/100     0.744G      1.905      14.39      1.794          3        416: 100%|██████████| 88/88 [00:03<00:00, 25.97it/s]\n",
      "                 Class     Images  Instances      Box(P          R      mAP50  mAP50-95): 100%|██████████| 11/11 [00:00<00:00, 41.58it/s]"
     ]
    },
    {
     "name": "stdout",
     "output_type": "stream",
     "text": [
      "                   all         86         88      0.864      0.102      0.204     0.0959\n"
     ]
    },
    {
     "name": "stderr",
     "output_type": "stream",
     "text": [
      "\n"
     ]
    },
    {
     "name": "stdout",
     "output_type": "stream",
     "text": [
      "\n",
      "      Epoch    GPU_mem   box_loss   cls_loss   dfl_loss  Instances       Size\n"
     ]
    },
    {
     "name": "stderr",
     "output_type": "stream",
     "text": [
      "      4/100      0.76G      1.973      14.41      1.865          6        416: 100%|██████████| 88/88 [00:03<00:00, 25.78it/s]\n",
      "                 Class     Images  Instances      Box(P          R      mAP50  mAP50-95): 100%|██████████| 11/11 [00:00<00:00, 41.98it/s]"
     ]
    },
    {
     "name": "stdout",
     "output_type": "stream",
     "text": [
      "                   all         86         88      0.418      0.135      0.161     0.0873\n"
     ]
    },
    {
     "name": "stderr",
     "output_type": "stream",
     "text": [
      "\n"
     ]
    },
    {
     "name": "stdout",
     "output_type": "stream",
     "text": [
      "\n",
      "      Epoch    GPU_mem   box_loss   cls_loss   dfl_loss  Instances       Size\n"
     ]
    },
    {
     "name": "stderr",
     "output_type": "stream",
     "text": [
      "      5/100      0.82G      1.897      13.19       1.79          2        416: 100%|██████████| 88/88 [00:03<00:00, 26.71it/s]\n",
      "                 Class     Images  Instances      Box(P          R      mAP50  mAP50-95): 100%|██████████| 11/11 [00:00<00:00, 40.85it/s]"
     ]
    },
    {
     "name": "stdout",
     "output_type": "stream",
     "text": [
      "                   all         86         88      0.699      0.186      0.209     0.0993\n"
     ]
    },
    {
     "name": "stderr",
     "output_type": "stream",
     "text": [
      "\n"
     ]
    },
    {
     "name": "stdout",
     "output_type": "stream",
     "text": [
      "\n",
      "      Epoch    GPU_mem   box_loss   cls_loss   dfl_loss  Instances       Size\n"
     ]
    },
    {
     "name": "stderr",
     "output_type": "stream",
     "text": [
      "      6/100      0.82G      1.836      12.86      1.739          3        416: 100%|██████████| 88/88 [00:03<00:00, 25.89it/s]\n",
      "                 Class     Images  Instances      Box(P          R      mAP50  mAP50-95): 100%|██████████| 11/11 [00:00<00:00, 41.36it/s]"
     ]
    },
    {
     "name": "stdout",
     "output_type": "stream",
     "text": [
      "                   all         86         88      0.481      0.311      0.222      0.108\n"
     ]
    },
    {
     "name": "stderr",
     "output_type": "stream",
     "text": [
      "\n"
     ]
    },
    {
     "name": "stdout",
     "output_type": "stream",
     "text": [
      "\n",
      "      Epoch    GPU_mem   box_loss   cls_loss   dfl_loss  Instances       Size\n"
     ]
    },
    {
     "name": "stderr",
     "output_type": "stream",
     "text": [
      "      7/100      0.82G      1.839      12.68      1.753          2        416: 100%|██████████| 88/88 [00:03<00:00, 26.59it/s]\n",
      "                 Class     Images  Instances      Box(P          R      mAP50  mAP50-95): 100%|██████████| 11/11 [00:00<00:00, 41.92it/s]"
     ]
    },
    {
     "name": "stdout",
     "output_type": "stream",
     "text": [
      "                   all         86         88      0.445      0.245      0.162     0.0868\n"
     ]
    },
    {
     "name": "stderr",
     "output_type": "stream",
     "text": [
      "\n"
     ]
    },
    {
     "name": "stdout",
     "output_type": "stream",
     "text": [
      "\n",
      "      Epoch    GPU_mem   box_loss   cls_loss   dfl_loss  Instances       Size\n"
     ]
    },
    {
     "name": "stderr",
     "output_type": "stream",
     "text": [
      "      8/100      0.82G      1.797      12.21       1.73          4        416: 100%|██████████| 88/88 [00:03<00:00, 26.09it/s]\n",
      "                 Class     Images  Instances      Box(P          R      mAP50  mAP50-95): 100%|██████████| 11/11 [00:00<00:00, 35.60it/s]"
     ]
    },
    {
     "name": "stdout",
     "output_type": "stream",
     "text": [
      "                   all         86         88      0.478      0.326      0.264      0.132\n"
     ]
    },
    {
     "name": "stderr",
     "output_type": "stream",
     "text": [
      "\n"
     ]
    },
    {
     "name": "stdout",
     "output_type": "stream",
     "text": [
      "\n",
      "      Epoch    GPU_mem   box_loss   cls_loss   dfl_loss  Instances       Size\n"
     ]
    },
    {
     "name": "stderr",
     "output_type": "stream",
     "text": [
      "      9/100      0.82G      1.792      12.29      1.735          3        416: 100%|██████████| 88/88 [00:03<00:00, 23.02it/s]\n",
      "                 Class     Images  Instances      Box(P          R      mAP50  mAP50-95): 100%|██████████| 11/11 [00:00<00:00, 37.69it/s]"
     ]
    },
    {
     "name": "stdout",
     "output_type": "stream",
     "text": [
      "                   all         86         88      0.565      0.325       0.27      0.139\n"
     ]
    },
    {
     "name": "stderr",
     "output_type": "stream",
     "text": [
      "\n"
     ]
    },
    {
     "name": "stdout",
     "output_type": "stream",
     "text": [
      "\n",
      "      Epoch    GPU_mem   box_loss   cls_loss   dfl_loss  Instances       Size\n"
     ]
    },
    {
     "name": "stderr",
     "output_type": "stream",
     "text": [
      "     10/100      0.82G      1.713      10.99      1.654          1        416: 100%|██████████| 88/88 [00:03<00:00, 25.67it/s]\n",
      "                 Class     Images  Instances      Box(P          R      mAP50  mAP50-95): 100%|██████████| 11/11 [00:00<00:00, 42.02it/s]"
     ]
    },
    {
     "name": "stdout",
     "output_type": "stream",
     "text": [
      "                   all         86         88      0.616      0.284      0.301      0.138\n"
     ]
    },
    {
     "name": "stderr",
     "output_type": "stream",
     "text": [
      "\n"
     ]
    },
    {
     "name": "stdout",
     "output_type": "stream",
     "text": [
      "\n",
      "      Epoch    GPU_mem   box_loss   cls_loss   dfl_loss  Instances       Size\n"
     ]
    },
    {
     "name": "stderr",
     "output_type": "stream",
     "text": [
      "     11/100      0.82G      1.737      10.67      1.695          5        416: 100%|██████████| 88/88 [00:03<00:00, 26.40it/s]\n",
      "                 Class     Images  Instances      Box(P          R      mAP50  mAP50-95): 100%|██████████| 11/11 [00:00<00:00, 41.71it/s]"
     ]
    },
    {
     "name": "stdout",
     "output_type": "stream",
     "text": [
      "                   all         86         88      0.552      0.221      0.236       0.13\n"
     ]
    },
    {
     "name": "stderr",
     "output_type": "stream",
     "text": [
      "\n"
     ]
    },
    {
     "name": "stdout",
     "output_type": "stream",
     "text": [
      "\n",
      "      Epoch    GPU_mem   box_loss   cls_loss   dfl_loss  Instances       Size\n"
     ]
    },
    {
     "name": "stderr",
     "output_type": "stream",
     "text": [
      "     12/100      0.82G      1.694      10.62      1.632          5        416: 100%|██████████| 88/88 [00:03<00:00, 26.54it/s]\n",
      "                 Class     Images  Instances      Box(P          R      mAP50  mAP50-95): 100%|██████████| 11/11 [00:00<00:00, 40.73it/s]"
     ]
    },
    {
     "name": "stdout",
     "output_type": "stream",
     "text": [
      "                   all         86         88      0.644      0.279      0.309      0.156\n"
     ]
    },
    {
     "name": "stderr",
     "output_type": "stream",
     "text": [
      "\n"
     ]
    },
    {
     "name": "stdout",
     "output_type": "stream",
     "text": [
      "\n",
      "      Epoch    GPU_mem   box_loss   cls_loss   dfl_loss  Instances       Size\n"
     ]
    },
    {
     "name": "stderr",
     "output_type": "stream",
     "text": [
      "     13/100      0.82G      1.662       10.2      1.631          5        416: 100%|██████████| 88/88 [00:03<00:00, 26.61it/s]\n",
      "                 Class     Images  Instances      Box(P          R      mAP50  mAP50-95): 100%|██████████| 11/11 [00:00<00:00, 41.89it/s]"
     ]
    },
    {
     "name": "stdout",
     "output_type": "stream",
     "text": [
      "                   all         86         88      0.594      0.324      0.282      0.144\n"
     ]
    },
    {
     "name": "stderr",
     "output_type": "stream",
     "text": [
      "\n"
     ]
    },
    {
     "name": "stdout",
     "output_type": "stream",
     "text": [
      "\n",
      "      Epoch    GPU_mem   box_loss   cls_loss   dfl_loss  Instances       Size\n"
     ]
    },
    {
     "name": "stderr",
     "output_type": "stream",
     "text": [
      "     14/100      0.82G      1.663      10.09      1.639          4        416: 100%|██████████| 88/88 [00:03<00:00, 26.47it/s]\n",
      "                 Class     Images  Instances      Box(P          R      mAP50  mAP50-95): 100%|██████████| 11/11 [00:00<00:00, 41.52it/s]"
     ]
    },
    {
     "name": "stdout",
     "output_type": "stream",
     "text": [
      "                   all         86         88      0.634      0.349      0.363      0.192\n"
     ]
    },
    {
     "name": "stderr",
     "output_type": "stream",
     "text": [
      "\n"
     ]
    },
    {
     "name": "stdout",
     "output_type": "stream",
     "text": [
      "\n",
      "      Epoch    GPU_mem   box_loss   cls_loss   dfl_loss  Instances       Size\n"
     ]
    },
    {
     "name": "stderr",
     "output_type": "stream",
     "text": [
      "     15/100      0.82G      1.619      9.993      1.657          6        416: 100%|██████████| 88/88 [00:03<00:00, 25.60it/s]\n",
      "                 Class     Images  Instances      Box(P          R      mAP50  mAP50-95): 100%|██████████| 11/11 [00:00<00:00, 41.51it/s]"
     ]
    },
    {
     "name": "stdout",
     "output_type": "stream",
     "text": [
      "                   all         86         88      0.596      0.373      0.262      0.152\n"
     ]
    },
    {
     "name": "stderr",
     "output_type": "stream",
     "text": [
      "\n"
     ]
    },
    {
     "name": "stdout",
     "output_type": "stream",
     "text": [
      "\n",
      "      Epoch    GPU_mem   box_loss   cls_loss   dfl_loss  Instances       Size\n"
     ]
    },
    {
     "name": "stderr",
     "output_type": "stream",
     "text": [
      "     16/100      0.82G      1.568      9.667      1.595          4        416: 100%|██████████| 88/88 [00:03<00:00, 26.15it/s]\n",
      "                 Class     Images  Instances      Box(P          R      mAP50  mAP50-95): 100%|██████████| 11/11 [00:00<00:00, 41.47it/s]"
     ]
    },
    {
     "name": "stdout",
     "output_type": "stream",
     "text": [
      "                   all         86         88      0.766      0.315      0.387      0.222\n"
     ]
    },
    {
     "name": "stderr",
     "output_type": "stream",
     "text": [
      "\n"
     ]
    },
    {
     "name": "stdout",
     "output_type": "stream",
     "text": [
      "\n",
      "      Epoch    GPU_mem   box_loss   cls_loss   dfl_loss  Instances       Size\n"
     ]
    },
    {
     "name": "stderr",
     "output_type": "stream",
     "text": [
      "     17/100      0.82G      1.571      9.372      1.584          3        416: 100%|██████████| 88/88 [00:03<00:00, 26.28it/s]\n",
      "                 Class     Images  Instances      Box(P          R      mAP50  mAP50-95): 100%|██████████| 11/11 [00:00<00:00, 41.76it/s]"
     ]
    },
    {
     "name": "stdout",
     "output_type": "stream",
     "text": [
      "                   all         86         88      0.648      0.343      0.351      0.188\n"
     ]
    },
    {
     "name": "stderr",
     "output_type": "stream",
     "text": [
      "\n"
     ]
    },
    {
     "name": "stdout",
     "output_type": "stream",
     "text": [
      "\n",
      "      Epoch    GPU_mem   box_loss   cls_loss   dfl_loss  Instances       Size\n"
     ]
    },
    {
     "name": "stderr",
     "output_type": "stream",
     "text": [
      "     18/100      0.82G       1.57       9.25      1.564          3        416: 100%|██████████| 88/88 [00:03<00:00, 26.03it/s]\n",
      "                 Class     Images  Instances      Box(P          R      mAP50  mAP50-95): 100%|██████████| 11/11 [00:00<00:00, 42.14it/s]"
     ]
    },
    {
     "name": "stdout",
     "output_type": "stream",
     "text": [
      "                   all         86         88      0.612      0.406      0.341      0.178\n"
     ]
    },
    {
     "name": "stderr",
     "output_type": "stream",
     "text": [
      "\n"
     ]
    },
    {
     "name": "stdout",
     "output_type": "stream",
     "text": [
      "\n",
      "      Epoch    GPU_mem   box_loss   cls_loss   dfl_loss  Instances       Size\n"
     ]
    },
    {
     "name": "stderr",
     "output_type": "stream",
     "text": [
      "     19/100      0.82G       1.54      9.244      1.549          4        416: 100%|██████████| 88/88 [00:03<00:00, 25.39it/s]\n",
      "                 Class     Images  Instances      Box(P          R      mAP50  mAP50-95): 100%|██████████| 11/11 [00:00<00:00, 40.72it/s]"
     ]
    },
    {
     "name": "stdout",
     "output_type": "stream",
     "text": [
      "                   all         86         88      0.588      0.255      0.274      0.132\n"
     ]
    },
    {
     "name": "stderr",
     "output_type": "stream",
     "text": [
      "\n"
     ]
    },
    {
     "name": "stdout",
     "output_type": "stream",
     "text": [
      "\n",
      "      Epoch    GPU_mem   box_loss   cls_loss   dfl_loss  Instances       Size\n"
     ]
    },
    {
     "name": "stderr",
     "output_type": "stream",
     "text": [
      "     20/100      0.82G      1.502      9.233      1.547          2        416: 100%|██████████| 88/88 [00:03<00:00, 25.66it/s]\n",
      "                 Class     Images  Instances      Box(P          R      mAP50  mAP50-95): 100%|██████████| 11/11 [00:00<00:00, 41.77it/s]"
     ]
    },
    {
     "name": "stdout",
     "output_type": "stream",
     "text": [
      "                   all         86         88      0.644      0.432      0.502      0.255\n"
     ]
    },
    {
     "name": "stderr",
     "output_type": "stream",
     "text": [
      "\n"
     ]
    },
    {
     "name": "stdout",
     "output_type": "stream",
     "text": [
      "\n",
      "      Epoch    GPU_mem   box_loss   cls_loss   dfl_loss  Instances       Size\n"
     ]
    },
    {
     "name": "stderr",
     "output_type": "stream",
     "text": [
      "     21/100      0.82G      1.487      8.858      1.532          3        416: 100%|██████████| 88/88 [00:03<00:00, 26.08it/s]\n",
      "                 Class     Images  Instances      Box(P          R      mAP50  mAP50-95): 100%|██████████| 11/11 [00:00<00:00, 31.68it/s]"
     ]
    },
    {
     "name": "stdout",
     "output_type": "stream",
     "text": [
      "                   all         86         88      0.653      0.434      0.504      0.268\n"
     ]
    },
    {
     "name": "stderr",
     "output_type": "stream",
     "text": [
      "\n"
     ]
    },
    {
     "name": "stdout",
     "output_type": "stream",
     "text": [
      "\n",
      "      Epoch    GPU_mem   box_loss   cls_loss   dfl_loss  Instances       Size\n"
     ]
    },
    {
     "name": "stderr",
     "output_type": "stream",
     "text": [
      "     22/100      0.82G      1.482      8.295      1.518          1        416: 100%|██████████| 88/88 [00:03<00:00, 26.26it/s]\n",
      "                 Class     Images  Instances      Box(P          R      mAP50  mAP50-95): 100%|██████████| 11/11 [00:00<00:00, 41.70it/s]"
     ]
    },
    {
     "name": "stdout",
     "output_type": "stream",
     "text": [
      "                   all         86         88      0.636      0.354      0.311      0.139\n"
     ]
    },
    {
     "name": "stderr",
     "output_type": "stream",
     "text": [
      "\n"
     ]
    },
    {
     "name": "stdout",
     "output_type": "stream",
     "text": [
      "\n",
      "      Epoch    GPU_mem   box_loss   cls_loss   dfl_loss  Instances       Size\n"
     ]
    },
    {
     "name": "stderr",
     "output_type": "stream",
     "text": [
      "     23/100      0.82G      1.486      8.632      1.521          3        416: 100%|██████████| 88/88 [00:03<00:00, 26.51it/s]\n",
      "                 Class     Images  Instances      Box(P          R      mAP50  mAP50-95): 100%|██████████| 11/11 [00:00<00:00, 40.95it/s]"
     ]
    },
    {
     "name": "stdout",
     "output_type": "stream",
     "text": [
      "                   all         86         88      0.604      0.517      0.401      0.208\n"
     ]
    },
    {
     "name": "stderr",
     "output_type": "stream",
     "text": [
      "\n"
     ]
    },
    {
     "name": "stdout",
     "output_type": "stream",
     "text": [
      "\n",
      "      Epoch    GPU_mem   box_loss   cls_loss   dfl_loss  Instances       Size\n"
     ]
    },
    {
     "name": "stderr",
     "output_type": "stream",
     "text": [
      "     24/100      0.82G      1.462      8.411      1.536          3        416: 100%|██████████| 88/88 [00:03<00:00, 26.11it/s]\n",
      "                 Class     Images  Instances      Box(P          R      mAP50  mAP50-95): 100%|██████████| 11/11 [00:00<00:00, 40.62it/s]"
     ]
    },
    {
     "name": "stdout",
     "output_type": "stream",
     "text": [
      "                   all         86         88      0.642      0.402      0.342      0.187\n"
     ]
    },
    {
     "name": "stderr",
     "output_type": "stream",
     "text": [
      "\n"
     ]
    },
    {
     "name": "stdout",
     "output_type": "stream",
     "text": [
      "\n",
      "      Epoch    GPU_mem   box_loss   cls_loss   dfl_loss  Instances       Size\n"
     ]
    },
    {
     "name": "stderr",
     "output_type": "stream",
     "text": [
      "     25/100      0.82G      1.516      8.467      1.523          2        416: 100%|██████████| 88/88 [00:03<00:00, 25.67it/s]\n",
      "                 Class     Images  Instances      Box(P          R      mAP50  mAP50-95): 100%|██████████| 11/11 [00:00<00:00, 40.96it/s]"
     ]
    },
    {
     "name": "stdout",
     "output_type": "stream",
     "text": [
      "                   all         86         88       0.73      0.312      0.379      0.188\n"
     ]
    },
    {
     "name": "stderr",
     "output_type": "stream",
     "text": [
      "\n"
     ]
    },
    {
     "name": "stdout",
     "output_type": "stream",
     "text": [
      "\n",
      "      Epoch    GPU_mem   box_loss   cls_loss   dfl_loss  Instances       Size\n"
     ]
    },
    {
     "name": "stderr",
     "output_type": "stream",
     "text": [
      "     26/100      0.82G       1.45      8.313      1.493          5        416: 100%|██████████| 88/88 [00:03<00:00, 25.82it/s]\n",
      "                 Class     Images  Instances      Box(P          R      mAP50  mAP50-95): 100%|██████████| 11/11 [00:00<00:00, 41.84it/s]"
     ]
    },
    {
     "name": "stdout",
     "output_type": "stream",
     "text": [
      "                   all         86         88      0.762       0.35      0.408      0.214\n"
     ]
    },
    {
     "name": "stderr",
     "output_type": "stream",
     "text": [
      "\n"
     ]
    },
    {
     "name": "stdout",
     "output_type": "stream",
     "text": [
      "\n",
      "      Epoch    GPU_mem   box_loss   cls_loss   dfl_loss  Instances       Size\n"
     ]
    },
    {
     "name": "stderr",
     "output_type": "stream",
     "text": [
      "     27/100      0.82G       1.42      7.712      1.462          3        416: 100%|██████████| 88/88 [00:03<00:00, 26.01it/s]\n",
      "                 Class     Images  Instances      Box(P          R      mAP50  mAP50-95): 100%|██████████| 11/11 [00:00<00:00, 41.67it/s]"
     ]
    },
    {
     "name": "stdout",
     "output_type": "stream",
     "text": [
      "                   all         86         88      0.711       0.36      0.456      0.255\n"
     ]
    },
    {
     "name": "stderr",
     "output_type": "stream",
     "text": [
      "\n"
     ]
    },
    {
     "name": "stdout",
     "output_type": "stream",
     "text": [
      "\n",
      "      Epoch    GPU_mem   box_loss   cls_loss   dfl_loss  Instances       Size\n"
     ]
    },
    {
     "name": "stderr",
     "output_type": "stream",
     "text": [
      "     28/100      0.82G      1.468      8.228      1.515          6        416: 100%|██████████| 88/88 [00:03<00:00, 26.32it/s]\n",
      "                 Class     Images  Instances      Box(P          R      mAP50  mAP50-95): 100%|██████████| 11/11 [00:00<00:00, 41.29it/s]"
     ]
    },
    {
     "name": "stdout",
     "output_type": "stream",
     "text": [
      "                   all         86         88      0.601      0.431      0.379        0.2\n"
     ]
    },
    {
     "name": "stderr",
     "output_type": "stream",
     "text": [
      "\n"
     ]
    },
    {
     "name": "stdout",
     "output_type": "stream",
     "text": [
      "\n",
      "      Epoch    GPU_mem   box_loss   cls_loss   dfl_loss  Instances       Size\n"
     ]
    },
    {
     "name": "stderr",
     "output_type": "stream",
     "text": [
      "     29/100      0.82G      1.455      7.815      1.494          6        416: 100%|██████████| 88/88 [00:03<00:00, 25.16it/s]\n",
      "                 Class     Images  Instances      Box(P          R      mAP50  mAP50-95): 100%|██████████| 11/11 [00:00<00:00, 41.33it/s]"
     ]
    },
    {
     "name": "stdout",
     "output_type": "stream",
     "text": [
      "                   all         86         88      0.618      0.424      0.371      0.201\n"
     ]
    },
    {
     "name": "stderr",
     "output_type": "stream",
     "text": [
      "\n"
     ]
    },
    {
     "name": "stdout",
     "output_type": "stream",
     "text": [
      "\n",
      "      Epoch    GPU_mem   box_loss   cls_loss   dfl_loss  Instances       Size\n"
     ]
    },
    {
     "name": "stderr",
     "output_type": "stream",
     "text": [
      "     30/100      0.82G      1.388      7.469      1.455          1        416: 100%|██████████| 88/88 [00:03<00:00, 26.00it/s]\n",
      "                 Class     Images  Instances      Box(P          R      mAP50  mAP50-95): 100%|██████████| 11/11 [00:00<00:00, 41.44it/s]"
     ]
    },
    {
     "name": "stdout",
     "output_type": "stream",
     "text": [
      "                   all         86         88      0.838      0.308       0.38      0.221\n"
     ]
    },
    {
     "name": "stderr",
     "output_type": "stream",
     "text": [
      "\n"
     ]
    },
    {
     "name": "stdout",
     "output_type": "stream",
     "text": [
      "\n",
      "      Epoch    GPU_mem   box_loss   cls_loss   dfl_loss  Instances       Size\n"
     ]
    },
    {
     "name": "stderr",
     "output_type": "stream",
     "text": [
      "     31/100      0.82G      1.358      7.421      1.431          2        416: 100%|██████████| 88/88 [00:03<00:00, 24.69it/s]\n",
      "                 Class     Images  Instances      Box(P          R      mAP50  mAP50-95): 100%|██████████| 11/11 [00:00<00:00, 41.54it/s]"
     ]
    },
    {
     "name": "stdout",
     "output_type": "stream",
     "text": [
      "                   all         86         88       0.65      0.368       0.42      0.243\n"
     ]
    },
    {
     "name": "stderr",
     "output_type": "stream",
     "text": [
      "\n"
     ]
    },
    {
     "name": "stdout",
     "output_type": "stream",
     "text": [
      "\n",
      "      Epoch    GPU_mem   box_loss   cls_loss   dfl_loss  Instances       Size\n"
     ]
    },
    {
     "name": "stderr",
     "output_type": "stream",
     "text": [
      "     32/100     0.822G      1.324      6.981      1.394          6        416: 100%|██████████| 88/88 [00:03<00:00, 25.75it/s]\n",
      "                 Class     Images  Instances      Box(P          R      mAP50  mAP50-95): 100%|██████████| 11/11 [00:00<00:00, 39.23it/s]"
     ]
    },
    {
     "name": "stdout",
     "output_type": "stream",
     "text": [
      "                   all         86         88      0.623      0.463      0.553      0.322\n"
     ]
    },
    {
     "name": "stderr",
     "output_type": "stream",
     "text": [
      "\n"
     ]
    },
    {
     "name": "stdout",
     "output_type": "stream",
     "text": [
      "\n",
      "      Epoch    GPU_mem   box_loss   cls_loss   dfl_loss  Instances       Size\n"
     ]
    },
    {
     "name": "stderr",
     "output_type": "stream",
     "text": [
      "     33/100     0.879G       1.37      7.231      1.431          2        416: 100%|██████████| 88/88 [00:03<00:00, 26.43it/s]\n",
      "                 Class     Images  Instances      Box(P          R      mAP50  mAP50-95): 100%|██████████| 11/11 [00:00<00:00, 40.84it/s]"
     ]
    },
    {
     "name": "stdout",
     "output_type": "stream",
     "text": [
      "                   all         86         88      0.523      0.472      0.536      0.321\n"
     ]
    },
    {
     "name": "stderr",
     "output_type": "stream",
     "text": [
      "\n"
     ]
    },
    {
     "name": "stdout",
     "output_type": "stream",
     "text": [
      "\n",
      "      Epoch    GPU_mem   box_loss   cls_loss   dfl_loss  Instances       Size\n"
     ]
    },
    {
     "name": "stderr",
     "output_type": "stream",
     "text": [
      "     34/100     0.955G       1.33      7.247      1.412          2        416: 100%|██████████| 88/88 [00:03<00:00, 25.99it/s]\n",
      "                 Class     Images  Instances      Box(P          R      mAP50  mAP50-95): 100%|██████████| 11/11 [00:00<00:00, 41.63it/s]"
     ]
    },
    {
     "name": "stdout",
     "output_type": "stream",
     "text": [
      "                   all         86         88       0.65      0.487      0.446      0.223\n"
     ]
    },
    {
     "name": "stderr",
     "output_type": "stream",
     "text": [
      "\n"
     ]
    },
    {
     "name": "stdout",
     "output_type": "stream",
     "text": [
      "\n",
      "      Epoch    GPU_mem   box_loss   cls_loss   dfl_loss  Instances       Size\n"
     ]
    },
    {
     "name": "stderr",
     "output_type": "stream",
     "text": [
      "     35/100      1.01G       1.36      7.535      1.445          3        416: 100%|██████████| 88/88 [00:03<00:00, 26.34it/s]\n",
      "                 Class     Images  Instances      Box(P          R      mAP50  mAP50-95): 100%|██████████| 11/11 [00:00<00:00, 41.36it/s]"
     ]
    },
    {
     "name": "stdout",
     "output_type": "stream",
     "text": [
      "                   all         86         88      0.519      0.383      0.393      0.212\n"
     ]
    },
    {
     "name": "stderr",
     "output_type": "stream",
     "text": [
      "\n"
     ]
    },
    {
     "name": "stdout",
     "output_type": "stream",
     "text": [
      "\n",
      "      Epoch    GPU_mem   box_loss   cls_loss   dfl_loss  Instances       Size\n"
     ]
    },
    {
     "name": "stderr",
     "output_type": "stream",
     "text": [
      "     36/100      1.09G      1.375      7.202      1.423          7        416: 100%|██████████| 88/88 [00:03<00:00, 26.08it/s]\n",
      "                 Class     Images  Instances      Box(P          R      mAP50  mAP50-95): 100%|██████████| 11/11 [00:00<00:00, 41.42it/s]"
     ]
    },
    {
     "name": "stdout",
     "output_type": "stream",
     "text": [
      "                   all         86         88      0.469      0.512      0.477      0.261\n"
     ]
    },
    {
     "name": "stderr",
     "output_type": "stream",
     "text": [
      "\n"
     ]
    },
    {
     "name": "stdout",
     "output_type": "stream",
     "text": [
      "\n",
      "      Epoch    GPU_mem   box_loss   cls_loss   dfl_loss  Instances       Size\n"
     ]
    },
    {
     "name": "stderr",
     "output_type": "stream",
     "text": [
      "     37/100      1.14G      1.352      7.035      1.419          7        416: 100%|██████████| 88/88 [00:03<00:00, 26.06it/s]\n",
      "                 Class     Images  Instances      Box(P          R      mAP50  mAP50-95): 100%|██████████| 11/11 [00:00<00:00, 41.08it/s]"
     ]
    },
    {
     "name": "stdout",
     "output_type": "stream",
     "text": [
      "                   all         86         88      0.679      0.431      0.465      0.245\n"
     ]
    },
    {
     "name": "stderr",
     "output_type": "stream",
     "text": [
      "\n"
     ]
    },
    {
     "name": "stdout",
     "output_type": "stream",
     "text": [
      "\n",
      "      Epoch    GPU_mem   box_loss   cls_loss   dfl_loss  Instances       Size\n"
     ]
    },
    {
     "name": "stderr",
     "output_type": "stream",
     "text": [
      "     38/100      1.22G      1.298      6.774      1.369          1        416: 100%|██████████| 88/88 [00:03<00:00, 25.87it/s]\n",
      "                 Class     Images  Instances      Box(P          R      mAP50  mAP50-95): 100%|██████████| 11/11 [00:00<00:00, 41.63it/s]"
     ]
    },
    {
     "name": "stdout",
     "output_type": "stream",
     "text": [
      "                   all         86         88      0.507       0.49      0.412      0.206\n"
     ]
    },
    {
     "name": "stderr",
     "output_type": "stream",
     "text": [
      "\n"
     ]
    },
    {
     "name": "stdout",
     "output_type": "stream",
     "text": [
      "\n",
      "      Epoch    GPU_mem   box_loss   cls_loss   dfl_loss  Instances       Size\n"
     ]
    },
    {
     "name": "stderr",
     "output_type": "stream",
     "text": [
      "     39/100      1.29G       1.31      6.615      1.403          4        416: 100%|██████████| 88/88 [00:03<00:00, 25.75it/s]\n",
      "                 Class     Images  Instances      Box(P          R      mAP50  mAP50-95): 100%|██████████| 11/11 [00:00<00:00, 41.73it/s]"
     ]
    },
    {
     "name": "stdout",
     "output_type": "stream",
     "text": [
      "                   all         86         88      0.537      0.475      0.463      0.248\n"
     ]
    },
    {
     "name": "stderr",
     "output_type": "stream",
     "text": [
      "\n"
     ]
    },
    {
     "name": "stdout",
     "output_type": "stream",
     "text": [
      "\n",
      "      Epoch    GPU_mem   box_loss   cls_loss   dfl_loss  Instances       Size\n"
     ]
    },
    {
     "name": "stderr",
     "output_type": "stream",
     "text": [
      "     40/100      1.29G      1.345      7.223      1.401          1        416: 100%|██████████| 88/88 [00:03<00:00, 25.47it/s]\n",
      "                 Class     Images  Instances      Box(P          R      mAP50  mAP50-95): 100%|██████████| 11/11 [00:00<00:00, 41.92it/s]"
     ]
    },
    {
     "name": "stdout",
     "output_type": "stream",
     "text": [
      "                   all         86         88       0.57      0.488      0.477      0.285\n"
     ]
    },
    {
     "name": "stderr",
     "output_type": "stream",
     "text": [
      "\n"
     ]
    },
    {
     "name": "stdout",
     "output_type": "stream",
     "text": [
      "\n",
      "      Epoch    GPU_mem   box_loss   cls_loss   dfl_loss  Instances       Size\n"
     ]
    },
    {
     "name": "stderr",
     "output_type": "stream",
     "text": [
      "     41/100      1.29G      1.323      6.938      1.404          4        416: 100%|██████████| 88/88 [00:03<00:00, 25.97it/s]\n",
      "                 Class     Images  Instances      Box(P          R      mAP50  mAP50-95): 100%|██████████| 11/11 [00:00<00:00, 40.16it/s]"
     ]
    },
    {
     "name": "stdout",
     "output_type": "stream",
     "text": [
      "                   all         86         88      0.708      0.401      0.473      0.292\n"
     ]
    },
    {
     "name": "stderr",
     "output_type": "stream",
     "text": [
      "\n"
     ]
    },
    {
     "name": "stdout",
     "output_type": "stream",
     "text": [
      "\n",
      "      Epoch    GPU_mem   box_loss   cls_loss   dfl_loss  Instances       Size\n"
     ]
    },
    {
     "name": "stderr",
     "output_type": "stream",
     "text": [
      "     42/100      1.29G      1.306      6.938      1.405          5        416: 100%|██████████| 88/88 [00:03<00:00, 25.60it/s]\n",
      "                 Class     Images  Instances      Box(P          R      mAP50  mAP50-95): 100%|██████████| 11/11 [00:00<00:00, 41.79it/s]"
     ]
    },
    {
     "name": "stdout",
     "output_type": "stream",
     "text": [
      "                   all         86         88      0.502        0.5      0.534      0.315\n"
     ]
    },
    {
     "name": "stderr",
     "output_type": "stream",
     "text": [
      "\n"
     ]
    },
    {
     "name": "stdout",
     "output_type": "stream",
     "text": [
      "\n",
      "      Epoch    GPU_mem   box_loss   cls_loss   dfl_loss  Instances       Size\n"
     ]
    },
    {
     "name": "stderr",
     "output_type": "stream",
     "text": [
      "     43/100      1.29G      1.288      6.774      1.372          4        416: 100%|██████████| 88/88 [00:03<00:00, 26.09it/s]\n",
      "                 Class     Images  Instances      Box(P          R      mAP50  mAP50-95): 100%|██████████| 11/11 [00:00<00:00, 41.70it/s]"
     ]
    },
    {
     "name": "stdout",
     "output_type": "stream",
     "text": [
      "                   all         86         88       0.75      0.488      0.503      0.281\n"
     ]
    },
    {
     "name": "stderr",
     "output_type": "stream",
     "text": [
      "\n"
     ]
    },
    {
     "name": "stdout",
     "output_type": "stream",
     "text": [
      "\n",
      "      Epoch    GPU_mem   box_loss   cls_loss   dfl_loss  Instances       Size\n"
     ]
    },
    {
     "name": "stderr",
     "output_type": "stream",
     "text": [
      "     44/100      1.29G      1.326      6.877      1.387          4        416: 100%|██████████| 88/88 [00:03<00:00, 26.13it/s]\n",
      "                 Class     Images  Instances      Box(P          R      mAP50  mAP50-95): 100%|██████████| 11/11 [00:00<00:00, 41.63it/s]"
     ]
    },
    {
     "name": "stdout",
     "output_type": "stream",
     "text": [
      "                   all         86         88       0.66      0.445      0.488      0.286\n"
     ]
    },
    {
     "name": "stderr",
     "output_type": "stream",
     "text": [
      "\n"
     ]
    },
    {
     "name": "stdout",
     "output_type": "stream",
     "text": [
      "\n",
      "      Epoch    GPU_mem   box_loss   cls_loss   dfl_loss  Instances       Size\n"
     ]
    },
    {
     "name": "stderr",
     "output_type": "stream",
     "text": [
      "     45/100      1.29G      1.247      6.693      1.359          9        416: 100%|██████████| 88/88 [00:03<00:00, 26.18it/s]\n",
      "                 Class     Images  Instances      Box(P          R      mAP50  mAP50-95): 100%|██████████| 11/11 [00:00<00:00, 41.22it/s]"
     ]
    },
    {
     "name": "stdout",
     "output_type": "stream",
     "text": [
      "                   all         86         88      0.533      0.489      0.464      0.265\n"
     ]
    },
    {
     "name": "stderr",
     "output_type": "stream",
     "text": [
      "\n"
     ]
    },
    {
     "name": "stdout",
     "output_type": "stream",
     "text": [
      "\n",
      "      Epoch    GPU_mem   box_loss   cls_loss   dfl_loss  Instances       Size\n"
     ]
    },
    {
     "name": "stderr",
     "output_type": "stream",
     "text": [
      "     46/100      1.29G      1.269      6.682      1.357          5        416: 100%|██████████| 88/88 [00:03<00:00, 25.80it/s]\n",
      "                 Class     Images  Instances      Box(P          R      mAP50  mAP50-95): 100%|██████████| 11/11 [00:00<00:00, 41.86it/s]"
     ]
    },
    {
     "name": "stdout",
     "output_type": "stream",
     "text": [
      "                   all         86         88      0.715      0.408      0.422      0.223\n"
     ]
    },
    {
     "name": "stderr",
     "output_type": "stream",
     "text": [
      "\n"
     ]
    },
    {
     "name": "stdout",
     "output_type": "stream",
     "text": [
      "\n",
      "      Epoch    GPU_mem   box_loss   cls_loss   dfl_loss  Instances       Size\n"
     ]
    },
    {
     "name": "stderr",
     "output_type": "stream",
     "text": [
      "     47/100      1.29G      1.231      6.198      1.326          3        416: 100%|██████████| 88/88 [00:03<00:00, 26.05it/s]\n",
      "                 Class     Images  Instances      Box(P          R      mAP50  mAP50-95): 100%|██████████| 11/11 [00:00<00:00, 42.00it/s]"
     ]
    },
    {
     "name": "stdout",
     "output_type": "stream",
     "text": [
      "                   all         86         88      0.571       0.52      0.435      0.254\n"
     ]
    },
    {
     "name": "stderr",
     "output_type": "stream",
     "text": [
      "\n"
     ]
    },
    {
     "name": "stdout",
     "output_type": "stream",
     "text": [
      "\n",
      "      Epoch    GPU_mem   box_loss   cls_loss   dfl_loss  Instances       Size\n"
     ]
    },
    {
     "name": "stderr",
     "output_type": "stream",
     "text": [
      "     48/100      1.29G      1.254      6.102      1.346          6        416: 100%|██████████| 88/88 [00:03<00:00, 26.11it/s]\n",
      "                 Class     Images  Instances      Box(P          R      mAP50  mAP50-95): 100%|██████████| 11/11 [00:00<00:00, 26.38it/s]"
     ]
    },
    {
     "name": "stdout",
     "output_type": "stream",
     "text": [
      "                   all         86         88      0.576      0.539      0.461      0.271\n"
     ]
    },
    {
     "name": "stderr",
     "output_type": "stream",
     "text": [
      "\n"
     ]
    },
    {
     "name": "stdout",
     "output_type": "stream",
     "text": [
      "\n",
      "      Epoch    GPU_mem   box_loss   cls_loss   dfl_loss  Instances       Size\n"
     ]
    },
    {
     "name": "stderr",
     "output_type": "stream",
     "text": [
      "     49/100      1.29G      1.174      5.823      1.311          5        416: 100%|██████████| 88/88 [00:03<00:00, 25.17it/s]\n",
      "                 Class     Images  Instances      Box(P          R      mAP50  mAP50-95): 100%|██████████| 11/11 [00:00<00:00, 41.71it/s]"
     ]
    },
    {
     "name": "stdout",
     "output_type": "stream",
     "text": [
      "                   all         86         88      0.826      0.354       0.44      0.249\n"
     ]
    },
    {
     "name": "stderr",
     "output_type": "stream",
     "text": [
      "\n"
     ]
    },
    {
     "name": "stdout",
     "output_type": "stream",
     "text": [
      "\n",
      "      Epoch    GPU_mem   box_loss   cls_loss   dfl_loss  Instances       Size\n"
     ]
    },
    {
     "name": "stderr",
     "output_type": "stream",
     "text": [
      "     50/100      1.29G      1.243      6.166      1.344          5        416: 100%|██████████| 88/88 [00:03<00:00, 26.11it/s]\n",
      "                 Class     Images  Instances      Box(P          R      mAP50  mAP50-95): 100%|██████████| 11/11 [00:00<00:00, 41.74it/s]"
     ]
    },
    {
     "name": "stdout",
     "output_type": "stream",
     "text": [
      "                   all         86         88      0.522      0.545      0.428      0.237\n"
     ]
    },
    {
     "name": "stderr",
     "output_type": "stream",
     "text": [
      "\n"
     ]
    },
    {
     "name": "stdout",
     "output_type": "stream",
     "text": [
      "\n",
      "      Epoch    GPU_mem   box_loss   cls_loss   dfl_loss  Instances       Size\n"
     ]
    },
    {
     "name": "stderr",
     "output_type": "stream",
     "text": [
      "     51/100      1.29G      1.227      5.957      1.362          3        416: 100%|██████████| 88/88 [00:03<00:00, 25.79it/s]\n",
      "                 Class     Images  Instances      Box(P          R      mAP50  mAP50-95): 100%|██████████| 11/11 [00:00<00:00, 39.99it/s]"
     ]
    },
    {
     "name": "stdout",
     "output_type": "stream",
     "text": [
      "                   all         86         88      0.581      0.517      0.504      0.292\n"
     ]
    },
    {
     "name": "stderr",
     "output_type": "stream",
     "text": [
      "\n"
     ]
    },
    {
     "name": "stdout",
     "output_type": "stream",
     "text": [
      "\n",
      "      Epoch    GPU_mem   box_loss   cls_loss   dfl_loss  Instances       Size\n"
     ]
    },
    {
     "name": "stderr",
     "output_type": "stream",
     "text": [
      "     52/100      1.29G      1.191      5.876      1.317          3        416: 100%|██████████| 88/88 [00:03<00:00, 26.02it/s]\n",
      "                 Class     Images  Instances      Box(P          R      mAP50  mAP50-95): 100%|██████████| 11/11 [00:00<00:00, 40.66it/s]"
     ]
    },
    {
     "name": "stdout",
     "output_type": "stream",
     "text": [
      "                   all         86         88      0.695      0.455      0.463      0.233\n"
     ]
    },
    {
     "name": "stderr",
     "output_type": "stream",
     "text": [
      "\n"
     ]
    },
    {
     "name": "stdout",
     "output_type": "stream",
     "text": [
      "\n",
      "      Epoch    GPU_mem   box_loss   cls_loss   dfl_loss  Instances       Size\n"
     ]
    },
    {
     "name": "stderr",
     "output_type": "stream",
     "text": [
      "     53/100      1.29G       1.25      6.224      1.362          2        416: 100%|██████████| 88/88 [00:03<00:00, 26.14it/s]\n",
      "                 Class     Images  Instances      Box(P          R      mAP50  mAP50-95): 100%|██████████| 11/11 [00:00<00:00, 41.44it/s]"
     ]
    },
    {
     "name": "stdout",
     "output_type": "stream",
     "text": [
      "                   all         86         88      0.495      0.725      0.621      0.342\n"
     ]
    },
    {
     "name": "stderr",
     "output_type": "stream",
     "text": [
      "\n"
     ]
    },
    {
     "name": "stdout",
     "output_type": "stream",
     "text": [
      "\n",
      "      Epoch    GPU_mem   box_loss   cls_loss   dfl_loss  Instances       Size\n"
     ]
    },
    {
     "name": "stderr",
     "output_type": "stream",
     "text": [
      "     54/100      1.29G       1.25      5.914      1.357          1        416: 100%|██████████| 88/88 [00:03<00:00, 26.25it/s]\n",
      "                 Class     Images  Instances      Box(P          R      mAP50  mAP50-95): 100%|██████████| 11/11 [00:00<00:00, 41.50it/s]"
     ]
    },
    {
     "name": "stdout",
     "output_type": "stream",
     "text": [
      "                   all         86         88      0.616      0.553        0.6      0.345\n"
     ]
    },
    {
     "name": "stderr",
     "output_type": "stream",
     "text": [
      "\n"
     ]
    },
    {
     "name": "stdout",
     "output_type": "stream",
     "text": [
      "\n",
      "      Epoch    GPU_mem   box_loss   cls_loss   dfl_loss  Instances       Size\n"
     ]
    },
    {
     "name": "stderr",
     "output_type": "stream",
     "text": [
      "     55/100      1.29G       1.19      5.977      1.314          5        416: 100%|██████████| 88/88 [00:03<00:00, 26.03it/s]\n",
      "                 Class     Images  Instances      Box(P          R      mAP50  mAP50-95): 100%|██████████| 11/11 [00:00<00:00, 41.78it/s]"
     ]
    },
    {
     "name": "stdout",
     "output_type": "stream",
     "text": [
      "                   all         86         88       0.68      0.542      0.636      0.363\n"
     ]
    },
    {
     "name": "stderr",
     "output_type": "stream",
     "text": [
      "\n"
     ]
    },
    {
     "name": "stdout",
     "output_type": "stream",
     "text": [
      "\n",
      "      Epoch    GPU_mem   box_loss   cls_loss   dfl_loss  Instances       Size\n"
     ]
    },
    {
     "name": "stderr",
     "output_type": "stream",
     "text": [
      "     56/100      1.29G       1.25      6.284      1.363          4        416: 100%|██████████| 88/88 [00:03<00:00, 25.10it/s]\n",
      "                 Class     Images  Instances      Box(P          R      mAP50  mAP50-95): 100%|██████████| 11/11 [00:00<00:00, 41.93it/s]"
     ]
    },
    {
     "name": "stdout",
     "output_type": "stream",
     "text": [
      "                   all         86         88      0.612      0.543      0.536       0.32\n"
     ]
    },
    {
     "name": "stderr",
     "output_type": "stream",
     "text": [
      "\n"
     ]
    },
    {
     "name": "stdout",
     "output_type": "stream",
     "text": [
      "\n",
      "      Epoch    GPU_mem   box_loss   cls_loss   dfl_loss  Instances       Size\n"
     ]
    },
    {
     "name": "stderr",
     "output_type": "stream",
     "text": [
      "     57/100      1.29G      1.142      5.856      1.282          0        416: 100%|██████████| 88/88 [00:03<00:00, 25.19it/s]\n",
      "                 Class     Images  Instances      Box(P          R      mAP50  mAP50-95): 100%|██████████| 11/11 [00:00<00:00, 41.84it/s]"
     ]
    },
    {
     "name": "stdout",
     "output_type": "stream",
     "text": [
      "                   all         86         88      0.496      0.479      0.488      0.285\n"
     ]
    },
    {
     "name": "stderr",
     "output_type": "stream",
     "text": [
      "\n"
     ]
    },
    {
     "name": "stdout",
     "output_type": "stream",
     "text": [
      "\n",
      "      Epoch    GPU_mem   box_loss   cls_loss   dfl_loss  Instances       Size\n"
     ]
    },
    {
     "name": "stderr",
     "output_type": "stream",
     "text": [
      "     58/100      1.29G      1.236      6.083      1.342          6        416: 100%|██████████| 88/88 [00:03<00:00, 26.43it/s]\n",
      "                 Class     Images  Instances      Box(P          R      mAP50  mAP50-95): 100%|██████████| 11/11 [00:00<00:00, 41.92it/s]"
     ]
    },
    {
     "name": "stdout",
     "output_type": "stream",
     "text": [
      "                   all         86         88      0.516      0.682      0.539      0.307\n"
     ]
    },
    {
     "name": "stderr",
     "output_type": "stream",
     "text": [
      "\n"
     ]
    },
    {
     "name": "stdout",
     "output_type": "stream",
     "text": [
      "\n",
      "      Epoch    GPU_mem   box_loss   cls_loss   dfl_loss  Instances       Size\n"
     ]
    },
    {
     "name": "stderr",
     "output_type": "stream",
     "text": [
      "     59/100      1.29G      1.192      5.971       1.33          3        416: 100%|██████████| 88/88 [00:03<00:00, 26.46it/s]\n",
      "                 Class     Images  Instances      Box(P          R      mAP50  mAP50-95): 100%|██████████| 11/11 [00:00<00:00, 41.81it/s]"
     ]
    },
    {
     "name": "stdout",
     "output_type": "stream",
     "text": [
      "                   all         86         88      0.463      0.689      0.524      0.302\n"
     ]
    },
    {
     "name": "stderr",
     "output_type": "stream",
     "text": [
      "\n"
     ]
    },
    {
     "name": "stdout",
     "output_type": "stream",
     "text": [
      "\n",
      "      Epoch    GPU_mem   box_loss   cls_loss   dfl_loss  Instances       Size\n"
     ]
    },
    {
     "name": "stderr",
     "output_type": "stream",
     "text": [
      "     60/100      1.29G      1.194      5.814      1.296          5        416: 100%|██████████| 88/88 [00:03<00:00, 25.58it/s]\n",
      "                 Class     Images  Instances      Box(P          R      mAP50  mAP50-95): 100%|██████████| 11/11 [00:00<00:00, 41.91it/s]"
     ]
    },
    {
     "name": "stdout",
     "output_type": "stream",
     "text": [
      "                   all         86         88      0.749      0.433       0.56       0.33\n"
     ]
    },
    {
     "name": "stderr",
     "output_type": "stream",
     "text": [
      "\n"
     ]
    },
    {
     "name": "stdout",
     "output_type": "stream",
     "text": [
      "\n",
      "      Epoch    GPU_mem   box_loss   cls_loss   dfl_loss  Instances       Size\n"
     ]
    },
    {
     "name": "stderr",
     "output_type": "stream",
     "text": [
      "     61/100      1.29G      1.151      5.577      1.284          5        416: 100%|██████████| 88/88 [00:03<00:00, 26.08it/s]\n",
      "                 Class     Images  Instances      Box(P          R      mAP50  mAP50-95): 100%|██████████| 11/11 [00:00<00:00, 41.32it/s]"
     ]
    },
    {
     "name": "stdout",
     "output_type": "stream",
     "text": [
      "                   all         86         88      0.408      0.585      0.545      0.297\n"
     ]
    },
    {
     "name": "stderr",
     "output_type": "stream",
     "text": [
      "\n"
     ]
    },
    {
     "name": "stdout",
     "output_type": "stream",
     "text": [
      "\n",
      "      Epoch    GPU_mem   box_loss   cls_loss   dfl_loss  Instances       Size\n"
     ]
    },
    {
     "name": "stderr",
     "output_type": "stream",
     "text": [
      "     62/100      1.29G      1.187      5.876      1.319          3        416: 100%|██████████| 88/88 [00:03<00:00, 26.07it/s]\n",
      "                 Class     Images  Instances      Box(P          R      mAP50  mAP50-95): 100%|██████████| 11/11 [00:00<00:00, 40.39it/s]"
     ]
    },
    {
     "name": "stdout",
     "output_type": "stream",
     "text": [
      "                   all         86         88      0.579      0.521      0.466      0.271\n"
     ]
    },
    {
     "name": "stderr",
     "output_type": "stream",
     "text": [
      "\n"
     ]
    },
    {
     "name": "stdout",
     "output_type": "stream",
     "text": [
      "\n",
      "      Epoch    GPU_mem   box_loss   cls_loss   dfl_loss  Instances       Size\n"
     ]
    },
    {
     "name": "stderr",
     "output_type": "stream",
     "text": [
      "     63/100      1.29G      1.219       5.76      1.372          2        416: 100%|██████████| 88/88 [00:03<00:00, 25.98it/s]\n",
      "                 Class     Images  Instances      Box(P          R      mAP50  mAP50-95): 100%|██████████| 11/11 [00:00<00:00, 40.72it/s]"
     ]
    },
    {
     "name": "stdout",
     "output_type": "stream",
     "text": [
      "                   all         86         88      0.722      0.419      0.477      0.283\n"
     ]
    },
    {
     "name": "stderr",
     "output_type": "stream",
     "text": [
      "\n"
     ]
    },
    {
     "name": "stdout",
     "output_type": "stream",
     "text": [
      "\n",
      "      Epoch    GPU_mem   box_loss   cls_loss   dfl_loss  Instances       Size\n"
     ]
    },
    {
     "name": "stderr",
     "output_type": "stream",
     "text": [
      "     64/100      1.29G       1.15      5.567      1.317          4        416: 100%|██████████| 88/88 [00:03<00:00, 24.08it/s]\n",
      "                 Class     Images  Instances      Box(P          R      mAP50  mAP50-95): 100%|██████████| 11/11 [00:00<00:00, 41.89it/s]"
     ]
    },
    {
     "name": "stdout",
     "output_type": "stream",
     "text": [
      "                   all         86         88      0.523      0.545       0.55      0.322\n"
     ]
    },
    {
     "name": "stderr",
     "output_type": "stream",
     "text": [
      "\n"
     ]
    },
    {
     "name": "stdout",
     "output_type": "stream",
     "text": [
      "\n",
      "      Epoch    GPU_mem   box_loss   cls_loss   dfl_loss  Instances       Size\n"
     ]
    },
    {
     "name": "stderr",
     "output_type": "stream",
     "text": [
      "     65/100      1.29G      1.161      5.714      1.313          6        416: 100%|██████████| 88/88 [00:03<00:00, 26.13it/s]\n",
      "                 Class     Images  Instances      Box(P          R      mAP50  mAP50-95): 100%|██████████| 11/11 [00:00<00:00, 41.54it/s]"
     ]
    },
    {
     "name": "stdout",
     "output_type": "stream",
     "text": [
      "                   all         86         88      0.763       0.46      0.467      0.255\n"
     ]
    },
    {
     "name": "stderr",
     "output_type": "stream",
     "text": [
      "\n"
     ]
    },
    {
     "name": "stdout",
     "output_type": "stream",
     "text": [
      "\n",
      "      Epoch    GPU_mem   box_loss   cls_loss   dfl_loss  Instances       Size\n"
     ]
    },
    {
     "name": "stderr",
     "output_type": "stream",
     "text": [
      "     66/100      1.29G      1.156      5.488       1.29          3        416: 100%|██████████| 88/88 [00:03<00:00, 25.72it/s]\n",
      "                 Class     Images  Instances      Box(P          R      mAP50  mAP50-95): 100%|██████████| 11/11 [00:00<00:00, 42.58it/s]"
     ]
    },
    {
     "name": "stdout",
     "output_type": "stream",
     "text": [
      "                   all         86         88       0.61      0.558      0.505      0.288\n"
     ]
    },
    {
     "name": "stderr",
     "output_type": "stream",
     "text": [
      "\n"
     ]
    },
    {
     "name": "stdout",
     "output_type": "stream",
     "text": [
      "\n",
      "      Epoch    GPU_mem   box_loss   cls_loss   dfl_loss  Instances       Size\n"
     ]
    },
    {
     "name": "stderr",
     "output_type": "stream",
     "text": [
      "     67/100      1.29G      1.161      5.542      1.305          5        416: 100%|██████████| 88/88 [00:03<00:00, 25.80it/s]\n",
      "                 Class     Images  Instances      Box(P          R      mAP50  mAP50-95): 100%|██████████| 11/11 [00:00<00:00, 42.25it/s]"
     ]
    },
    {
     "name": "stdout",
     "output_type": "stream",
     "text": [
      "                   all         86         88      0.584      0.563      0.481      0.292\n"
     ]
    },
    {
     "name": "stderr",
     "output_type": "stream",
     "text": [
      "\n"
     ]
    },
    {
     "name": "stdout",
     "output_type": "stream",
     "text": [
      "\n",
      "      Epoch    GPU_mem   box_loss   cls_loss   dfl_loss  Instances       Size\n"
     ]
    },
    {
     "name": "stderr",
     "output_type": "stream",
     "text": [
      "     68/100      1.35G      1.209      5.701      1.351          3        416: 100%|██████████| 88/88 [00:03<00:00, 25.20it/s]\n",
      "                 Class     Images  Instances      Box(P          R      mAP50  mAP50-95): 100%|██████████| 11/11 [00:00<00:00, 42.30it/s]"
     ]
    },
    {
     "name": "stdout",
     "output_type": "stream",
     "text": [
      "                   all         86         88      0.641      0.528       0.53      0.286\n"
     ]
    },
    {
     "name": "stderr",
     "output_type": "stream",
     "text": [
      "\n"
     ]
    },
    {
     "name": "stdout",
     "output_type": "stream",
     "text": [
      "\n",
      "      Epoch    GPU_mem   box_loss   cls_loss   dfl_loss  Instances       Size\n"
     ]
    },
    {
     "name": "stderr",
     "output_type": "stream",
     "text": [
      "     69/100      1.35G      1.123       5.25      1.302          4        416: 100%|██████████| 88/88 [00:03<00:00, 25.76it/s]\n",
      "                 Class     Images  Instances      Box(P          R      mAP50  mAP50-95): 100%|██████████| 11/11 [00:00<00:00, 40.83it/s]"
     ]
    },
    {
     "name": "stdout",
     "output_type": "stream",
     "text": [
      "                   all         86         88      0.602      0.542       0.48      0.289\n"
     ]
    },
    {
     "name": "stderr",
     "output_type": "stream",
     "text": [
      "\n"
     ]
    },
    {
     "name": "stdout",
     "output_type": "stream",
     "text": [
      "\n",
      "      Epoch    GPU_mem   box_loss   cls_loss   dfl_loss  Instances       Size\n"
     ]
    },
    {
     "name": "stderr",
     "output_type": "stream",
     "text": [
      "     70/100      1.35G      1.133      5.851      1.302         12        416: 100%|██████████| 88/88 [00:03<00:00, 23.43it/s]\n",
      "                 Class     Images  Instances      Box(P          R      mAP50  mAP50-95): 100%|██████████| 11/11 [00:00<00:00, 38.82it/s]"
     ]
    },
    {
     "name": "stdout",
     "output_type": "stream",
     "text": [
      "                   all         86         88      0.574      0.499      0.573      0.357\n"
     ]
    },
    {
     "name": "stderr",
     "output_type": "stream",
     "text": [
      "\n"
     ]
    },
    {
     "name": "stdout",
     "output_type": "stream",
     "text": [
      "\n",
      "      Epoch    GPU_mem   box_loss   cls_loss   dfl_loss  Instances       Size\n"
     ]
    },
    {
     "name": "stderr",
     "output_type": "stream",
     "text": [
      "     71/100      1.35G      1.093      5.105      1.248          4        416: 100%|██████████| 88/88 [00:03<00:00, 23.59it/s]\n",
      "                 Class     Images  Instances      Box(P          R      mAP50  mAP50-95): 100%|██████████| 11/11 [00:00<00:00, 38.64it/s]"
     ]
    },
    {
     "name": "stdout",
     "output_type": "stream",
     "text": [
      "                   all         86         88      0.744      0.506      0.647      0.404\n"
     ]
    },
    {
     "name": "stderr",
     "output_type": "stream",
     "text": [
      "\n"
     ]
    },
    {
     "name": "stdout",
     "output_type": "stream",
     "text": [
      "\n",
      "      Epoch    GPU_mem   box_loss   cls_loss   dfl_loss  Instances       Size\n"
     ]
    },
    {
     "name": "stderr",
     "output_type": "stream",
     "text": [
      "     72/100      1.35G      1.105      5.601      1.268          2        416: 100%|██████████| 88/88 [00:03<00:00, 24.59it/s]\n",
      "                 Class     Images  Instances      Box(P          R      mAP50  mAP50-95): 100%|██████████| 11/11 [00:00<00:00, 38.48it/s]"
     ]
    },
    {
     "name": "stdout",
     "output_type": "stream",
     "text": [
      "                   all         86         88      0.725       0.54      0.654       0.41\n"
     ]
    },
    {
     "name": "stderr",
     "output_type": "stream",
     "text": [
      "\n"
     ]
    },
    {
     "name": "stdout",
     "output_type": "stream",
     "text": [
      "\n",
      "      Epoch    GPU_mem   box_loss   cls_loss   dfl_loss  Instances       Size\n"
     ]
    },
    {
     "name": "stderr",
     "output_type": "stream",
     "text": [
      "     73/100      1.35G      1.081      4.904      1.255          4        416: 100%|██████████| 88/88 [00:03<00:00, 25.22it/s]\n",
      "                 Class     Images  Instances      Box(P          R      mAP50  mAP50-95): 100%|██████████| 11/11 [00:00<00:00, 38.66it/s]"
     ]
    },
    {
     "name": "stdout",
     "output_type": "stream",
     "text": [
      "                   all         86         88      0.628      0.592       0.52      0.318\n"
     ]
    },
    {
     "name": "stderr",
     "output_type": "stream",
     "text": [
      "\n"
     ]
    },
    {
     "name": "stdout",
     "output_type": "stream",
     "text": [
      "\n",
      "      Epoch    GPU_mem   box_loss   cls_loss   dfl_loss  Instances       Size\n"
     ]
    },
    {
     "name": "stderr",
     "output_type": "stream",
     "text": [
      "     74/100      1.35G      1.089       5.14      1.261          7        416: 100%|██████████| 88/88 [00:03<00:00, 23.55it/s]\n",
      "                 Class     Images  Instances      Box(P          R      mAP50  mAP50-95): 100%|██████████| 11/11 [00:00<00:00, 38.83it/s]"
     ]
    },
    {
     "name": "stdout",
     "output_type": "stream",
     "text": [
      "                   all         86         88      0.633      0.549      0.588      0.341\n"
     ]
    },
    {
     "name": "stderr",
     "output_type": "stream",
     "text": [
      "\n"
     ]
    },
    {
     "name": "stdout",
     "output_type": "stream",
     "text": [
      "\n",
      "      Epoch    GPU_mem   box_loss   cls_loss   dfl_loss  Instances       Size\n"
     ]
    },
    {
     "name": "stderr",
     "output_type": "stream",
     "text": [
      "     75/100      1.35G      1.087       5.04      1.251          6        416: 100%|██████████| 88/88 [00:03<00:00, 25.05it/s]\n",
      "                 Class     Images  Instances      Box(P          R      mAP50  mAP50-95): 100%|██████████| 11/11 [00:00<00:00, 38.87it/s]"
     ]
    },
    {
     "name": "stdout",
     "output_type": "stream",
     "text": [
      "                   all         86         88      0.745      0.572      0.597      0.363\n"
     ]
    },
    {
     "name": "stderr",
     "output_type": "stream",
     "text": [
      "\n"
     ]
    },
    {
     "name": "stdout",
     "output_type": "stream",
     "text": [
      "\n",
      "      Epoch    GPU_mem   box_loss   cls_loss   dfl_loss  Instances       Size\n"
     ]
    },
    {
     "name": "stderr",
     "output_type": "stream",
     "text": [
      "     76/100      1.35G      1.081      5.483      1.253          5        416: 100%|██████████| 88/88 [00:03<00:00, 23.63it/s]\n",
      "                 Class     Images  Instances      Box(P          R      mAP50  mAP50-95): 100%|██████████| 11/11 [00:00<00:00, 38.73it/s]"
     ]
    },
    {
     "name": "stdout",
     "output_type": "stream",
     "text": [
      "                   all         86         88      0.705      0.623      0.641        0.4\n"
     ]
    },
    {
     "name": "stderr",
     "output_type": "stream",
     "text": [
      "\n"
     ]
    },
    {
     "name": "stdout",
     "output_type": "stream",
     "text": [
      "\n",
      "      Epoch    GPU_mem   box_loss   cls_loss   dfl_loss  Instances       Size\n"
     ]
    },
    {
     "name": "stderr",
     "output_type": "stream",
     "text": [
      "     77/100      1.35G      1.134      5.295       1.29          4        416: 100%|██████████| 88/88 [00:03<00:00, 23.20it/s]\n",
      "                 Class     Images  Instances      Box(P          R      mAP50  mAP50-95): 100%|██████████| 11/11 [00:00<00:00, 38.81it/s]"
     ]
    },
    {
     "name": "stdout",
     "output_type": "stream",
     "text": [
      "                   all         86         88      0.675      0.557      0.572      0.347\n"
     ]
    },
    {
     "name": "stderr",
     "output_type": "stream",
     "text": [
      "\n"
     ]
    },
    {
     "name": "stdout",
     "output_type": "stream",
     "text": [
      "\n",
      "      Epoch    GPU_mem   box_loss   cls_loss   dfl_loss  Instances       Size\n"
     ]
    },
    {
     "name": "stderr",
     "output_type": "stream",
     "text": [
      "     78/100      1.35G      1.083       5.07      1.261          3        416: 100%|██████████| 88/88 [00:03<00:00, 23.36it/s]\n",
      "                 Class     Images  Instances      Box(P          R      mAP50  mAP50-95): 100%|██████████| 11/11 [00:00<00:00, 38.33it/s]"
     ]
    },
    {
     "name": "stdout",
     "output_type": "stream",
     "text": [
      "                   all         86         88      0.647      0.636      0.552      0.331\n"
     ]
    },
    {
     "name": "stderr",
     "output_type": "stream",
     "text": [
      "\n"
     ]
    },
    {
     "name": "stdout",
     "output_type": "stream",
     "text": [
      "\n",
      "      Epoch    GPU_mem   box_loss   cls_loss   dfl_loss  Instances       Size\n"
     ]
    },
    {
     "name": "stderr",
     "output_type": "stream",
     "text": [
      "     79/100      1.35G      1.054      4.788      1.238          3        416: 100%|██████████| 88/88 [00:03<00:00, 22.84it/s]\n",
      "                 Class     Images  Instances      Box(P          R      mAP50  mAP50-95): 100%|██████████| 11/11 [00:00<00:00, 39.21it/s]"
     ]
    },
    {
     "name": "stdout",
     "output_type": "stream",
     "text": [
      "                   all         86         88      0.653      0.526      0.524      0.308\n"
     ]
    },
    {
     "name": "stderr",
     "output_type": "stream",
     "text": [
      "\n"
     ]
    },
    {
     "name": "stdout",
     "output_type": "stream",
     "text": [
      "\n",
      "      Epoch    GPU_mem   box_loss   cls_loss   dfl_loss  Instances       Size\n"
     ]
    },
    {
     "name": "stderr",
     "output_type": "stream",
     "text": [
      "     80/100      1.35G      1.039      4.791      1.239          5        416: 100%|██████████| 88/88 [00:03<00:00, 23.52it/s]\n",
      "                 Class     Images  Instances      Box(P          R      mAP50  mAP50-95): 100%|██████████| 11/11 [00:00<00:00, 38.51it/s]"
     ]
    },
    {
     "name": "stdout",
     "output_type": "stream",
     "text": [
      "                   all         86         88       0.64      0.585      0.544      0.324\n"
     ]
    },
    {
     "name": "stderr",
     "output_type": "stream",
     "text": [
      "\n"
     ]
    },
    {
     "name": "stdout",
     "output_type": "stream",
     "text": [
      "\n",
      "      Epoch    GPU_mem   box_loss   cls_loss   dfl_loss  Instances       Size\n"
     ]
    },
    {
     "name": "stderr",
     "output_type": "stream",
     "text": [
      "     81/100      1.35G      1.111      4.932      1.273          4        416: 100%|██████████| 88/88 [00:03<00:00, 23.52it/s]\n",
      "                 Class     Images  Instances      Box(P          R      mAP50  mAP50-95): 100%|██████████| 11/11 [00:00<00:00, 38.49it/s]"
     ]
    },
    {
     "name": "stdout",
     "output_type": "stream",
     "text": [
      "                   all         86         88       0.65      0.573      0.552      0.316\n"
     ]
    },
    {
     "name": "stderr",
     "output_type": "stream",
     "text": [
      "\n"
     ]
    },
    {
     "name": "stdout",
     "output_type": "stream",
     "text": [
      "\n",
      "      Epoch    GPU_mem   box_loss   cls_loss   dfl_loss  Instances       Size\n"
     ]
    },
    {
     "name": "stderr",
     "output_type": "stream",
     "text": [
      "     82/100      1.35G       1.05      4.779      1.229          5        416: 100%|██████████| 88/88 [00:03<00:00, 23.38it/s]\n",
      "                 Class     Images  Instances      Box(P          R      mAP50  mAP50-95): 100%|██████████| 11/11 [00:00<00:00, 39.06it/s]"
     ]
    },
    {
     "name": "stdout",
     "output_type": "stream",
     "text": [
      "                   all         86         88      0.641      0.528      0.543      0.328\n"
     ]
    },
    {
     "name": "stderr",
     "output_type": "stream",
     "text": [
      "\n"
     ]
    },
    {
     "name": "stdout",
     "output_type": "stream",
     "text": [
      "\n",
      "      Epoch    GPU_mem   box_loss   cls_loss   dfl_loss  Instances       Size\n"
     ]
    },
    {
     "name": "stderr",
     "output_type": "stream",
     "text": [
      "     83/100      1.35G      1.089      4.912      1.253          5        416: 100%|██████████| 88/88 [00:03<00:00, 23.82it/s]\n",
      "                 Class     Images  Instances      Box(P          R      mAP50  mAP50-95): 100%|██████████| 11/11 [00:00<00:00, 39.02it/s]"
     ]
    },
    {
     "name": "stdout",
     "output_type": "stream",
     "text": [
      "                   all         86         88      0.679      0.519      0.513      0.302\n"
     ]
    },
    {
     "name": "stderr",
     "output_type": "stream",
     "text": [
      "\n"
     ]
    },
    {
     "name": "stdout",
     "output_type": "stream",
     "text": [
      "\n",
      "      Epoch    GPU_mem   box_loss   cls_loss   dfl_loss  Instances       Size\n"
     ]
    },
    {
     "name": "stderr",
     "output_type": "stream",
     "text": [
      "     84/100      1.35G       1.04      4.705      1.245          2        416: 100%|██████████| 88/88 [00:03<00:00, 23.78it/s]\n",
      "                 Class     Images  Instances      Box(P          R      mAP50  mAP50-95): 100%|██████████| 11/11 [00:00<00:00, 39.24it/s]"
     ]
    },
    {
     "name": "stdout",
     "output_type": "stream",
     "text": [
      "                   all         86         88      0.664      0.523      0.497      0.283\n"
     ]
    },
    {
     "name": "stderr",
     "output_type": "stream",
     "text": [
      "\n"
     ]
    },
    {
     "name": "stdout",
     "output_type": "stream",
     "text": [
      "\n",
      "      Epoch    GPU_mem   box_loss   cls_loss   dfl_loss  Instances       Size\n"
     ]
    },
    {
     "name": "stderr",
     "output_type": "stream",
     "text": [
      "     85/100      1.35G      1.037      4.582      1.235          4        416: 100%|██████████| 88/88 [00:03<00:00, 23.76it/s]\n",
      "                 Class     Images  Instances      Box(P          R      mAP50  mAP50-95): 100%|██████████| 11/11 [00:00<00:00, 38.95it/s]"
     ]
    },
    {
     "name": "stdout",
     "output_type": "stream",
     "text": [
      "                   all         86         88      0.743      0.562      0.563      0.347\n"
     ]
    },
    {
     "name": "stderr",
     "output_type": "stream",
     "text": [
      "\n"
     ]
    },
    {
     "name": "stdout",
     "output_type": "stream",
     "text": [
      "\n",
      "      Epoch    GPU_mem   box_loss   cls_loss   dfl_loss  Instances       Size\n"
     ]
    },
    {
     "name": "stderr",
     "output_type": "stream",
     "text": [
      "     86/100      1.35G      1.066      4.885      1.237          5        416: 100%|██████████| 88/88 [00:03<00:00, 23.49it/s]\n",
      "                 Class     Images  Instances      Box(P          R      mAP50  mAP50-95): 100%|██████████| 11/11 [00:00<00:00, 38.74it/s]"
     ]
    },
    {
     "name": "stdout",
     "output_type": "stream",
     "text": [
      "                   all         86         88       0.64      0.557      0.635      0.384\n"
     ]
    },
    {
     "name": "stderr",
     "output_type": "stream",
     "text": [
      "\n"
     ]
    },
    {
     "name": "stdout",
     "output_type": "stream",
     "text": [
      "\n",
      "      Epoch    GPU_mem   box_loss   cls_loss   dfl_loss  Instances       Size\n"
     ]
    },
    {
     "name": "stderr",
     "output_type": "stream",
     "text": [
      "     87/100      1.35G      1.051      4.834      1.247          4        416: 100%|██████████| 88/88 [00:03<00:00, 23.31it/s]\n",
      "                 Class     Images  Instances      Box(P          R      mAP50  mAP50-95): 100%|██████████| 11/11 [00:00<00:00, 38.82it/s]"
     ]
    },
    {
     "name": "stdout",
     "output_type": "stream",
     "text": [
      "                   all         86         88      0.628      0.607       0.61      0.365\n"
     ]
    },
    {
     "name": "stderr",
     "output_type": "stream",
     "text": [
      "\n"
     ]
    },
    {
     "name": "stdout",
     "output_type": "stream",
     "text": [
      "\n",
      "      Epoch    GPU_mem   box_loss   cls_loss   dfl_loss  Instances       Size\n"
     ]
    },
    {
     "name": "stderr",
     "output_type": "stream",
     "text": [
      "     88/100      1.35G      1.073      4.961      1.239          5        416: 100%|██████████| 88/88 [00:03<00:00, 23.54it/s]\n",
      "                 Class     Images  Instances      Box(P          R      mAP50  mAP50-95): 100%|██████████| 11/11 [00:00<00:00, 38.65it/s]"
     ]
    },
    {
     "name": "stdout",
     "output_type": "stream",
     "text": [
      "                   all         86         88      0.651      0.589      0.571      0.325\n"
     ]
    },
    {
     "name": "stderr",
     "output_type": "stream",
     "text": [
      "\n"
     ]
    },
    {
     "name": "stdout",
     "output_type": "stream",
     "text": [
      "\n",
      "      Epoch    GPU_mem   box_loss   cls_loss   dfl_loss  Instances       Size\n"
     ]
    },
    {
     "name": "stderr",
     "output_type": "stream",
     "text": [
      "     89/100      1.35G      1.059      4.698      1.236          5        416: 100%|██████████| 88/88 [00:03<00:00, 23.54it/s]\n",
      "                 Class     Images  Instances      Box(P          R      mAP50  mAP50-95): 100%|██████████| 11/11 [00:00<00:00, 38.43it/s]"
     ]
    },
    {
     "name": "stdout",
     "output_type": "stream",
     "text": [
      "                   all         86         88      0.563      0.614      0.603      0.353\n"
     ]
    },
    {
     "name": "stderr",
     "output_type": "stream",
     "text": [
      "\n"
     ]
    },
    {
     "name": "stdout",
     "output_type": "stream",
     "text": [
      "\n",
      "      Epoch    GPU_mem   box_loss   cls_loss   dfl_loss  Instances       Size\n"
     ]
    },
    {
     "name": "stderr",
     "output_type": "stream",
     "text": [
      "     90/100      1.35G      1.063      4.681      1.257          2        416: 100%|██████████| 88/88 [00:03<00:00, 22.74it/s]\n",
      "                 Class     Images  Instances      Box(P          R      mAP50  mAP50-95): 100%|██████████| 11/11 [00:00<00:00, 39.17it/s]"
     ]
    },
    {
     "name": "stdout",
     "output_type": "stream",
     "text": [
      "                   all         86         88      0.445      0.784      0.595      0.347\n"
     ]
    },
    {
     "name": "stderr",
     "output_type": "stream",
     "text": [
      "\n"
     ]
    },
    {
     "name": "stdout",
     "output_type": "stream",
     "text": [
      "Closing dataloader mosaic\n",
      "\u001b[34m\u001b[1malbumentations: \u001b[0mBlur(p=0.01, blur_limit=(3, 7)), MedianBlur(p=0.01, blur_limit=(3, 7)), ToGray(p=0.01, method='weighted_average', num_output_channels=3), CLAHE(p=0.01, clip_limit=(1.0, 4.0), tile_grid_size=(8, 8))\n",
      "\n",
      "      Epoch    GPU_mem   box_loss   cls_loss   dfl_loss  Instances       Size\n"
     ]
    },
    {
     "name": "stderr",
     "output_type": "stream",
     "text": [
      "     91/100      1.35G      1.348        6.5      1.467          2        416: 100%|██████████| 88/88 [00:03<00:00, 23.32it/s]\n",
      "                 Class     Images  Instances      Box(P          R      mAP50  mAP50-95): 100%|██████████| 11/11 [00:00<00:00, 38.39it/s]"
     ]
    },
    {
     "name": "stdout",
     "output_type": "stream",
     "text": [
      "                   all         86         88      0.711      0.539      0.545      0.338\n"
     ]
    },
    {
     "name": "stderr",
     "output_type": "stream",
     "text": [
      "\n"
     ]
    },
    {
     "name": "stdout",
     "output_type": "stream",
     "text": [
      "\n",
      "      Epoch    GPU_mem   box_loss   cls_loss   dfl_loss  Instances       Size\n"
     ]
    },
    {
     "name": "stderr",
     "output_type": "stream",
     "text": [
      "     92/100      1.35G      1.324      5.775      1.487          2        416: 100%|██████████| 88/88 [00:03<00:00, 23.45it/s]\n",
      "                 Class     Images  Instances      Box(P          R      mAP50  mAP50-95): 100%|██████████| 11/11 [00:00<00:00, 38.79it/s]"
     ]
    },
    {
     "name": "stdout",
     "output_type": "stream",
     "text": [
      "                   all         86         88      0.719      0.528      0.552      0.329\n"
     ]
    },
    {
     "name": "stderr",
     "output_type": "stream",
     "text": [
      "\n"
     ]
    },
    {
     "name": "stdout",
     "output_type": "stream",
     "text": [
      "\n",
      "      Epoch    GPU_mem   box_loss   cls_loss   dfl_loss  Instances       Size\n"
     ]
    },
    {
     "name": "stderr",
     "output_type": "stream",
     "text": [
      "     93/100      1.35G      1.305      6.017      1.442          2        416: 100%|██████████| 88/88 [00:03<00:00, 23.70it/s]\n",
      "                 Class     Images  Instances      Box(P          R      mAP50  mAP50-95): 100%|██████████| 11/11 [00:00<00:00, 39.14it/s]"
     ]
    },
    {
     "name": "stdout",
     "output_type": "stream",
     "text": [
      "                   all         86         88      0.816      0.482      0.576      0.341\n"
     ]
    },
    {
     "name": "stderr",
     "output_type": "stream",
     "text": [
      "\n"
     ]
    },
    {
     "name": "stdout",
     "output_type": "stream",
     "text": [
      "\n",
      "      Epoch    GPU_mem   box_loss   cls_loss   dfl_loss  Instances       Size\n"
     ]
    },
    {
     "name": "stderr",
     "output_type": "stream",
     "text": [
      "     94/100      1.35G      1.293       5.46      1.429          2        416: 100%|██████████| 88/88 [00:03<00:00, 23.68it/s]\n",
      "                 Class     Images  Instances      Box(P          R      mAP50  mAP50-95): 100%|██████████| 11/11 [00:00<00:00, 39.07it/s]"
     ]
    },
    {
     "name": "stdout",
     "output_type": "stream",
     "text": [
      "                   all         86         88      0.816      0.513      0.624      0.386\n"
     ]
    },
    {
     "name": "stderr",
     "output_type": "stream",
     "text": [
      "\n"
     ]
    },
    {
     "name": "stdout",
     "output_type": "stream",
     "text": [
      "\n",
      "      Epoch    GPU_mem   box_loss   cls_loss   dfl_loss  Instances       Size\n"
     ]
    },
    {
     "name": "stderr",
     "output_type": "stream",
     "text": [
      "     95/100      1.35G      1.275      5.291      1.422          2        416: 100%|██████████| 88/88 [00:03<00:00, 23.50it/s]\n",
      "                 Class     Images  Instances      Box(P          R      mAP50  mAP50-95): 100%|██████████| 11/11 [00:00<00:00, 38.91it/s]"
     ]
    },
    {
     "name": "stdout",
     "output_type": "stream",
     "text": [
      "                   all         86         88      0.785      0.549      0.602      0.363\n"
     ]
    },
    {
     "name": "stderr",
     "output_type": "stream",
     "text": [
      "\n"
     ]
    },
    {
     "name": "stdout",
     "output_type": "stream",
     "text": [
      "\n",
      "      Epoch    GPU_mem   box_loss   cls_loss   dfl_loss  Instances       Size\n"
     ]
    },
    {
     "name": "stderr",
     "output_type": "stream",
     "text": [
      "     96/100      1.35G      1.289      5.222      1.412          2        416: 100%|██████████| 88/88 [00:03<00:00, 23.34it/s]\n",
      "                 Class     Images  Instances      Box(P          R      mAP50  mAP50-95): 100%|██████████| 11/11 [00:00<00:00, 39.01it/s]"
     ]
    },
    {
     "name": "stdout",
     "output_type": "stream",
     "text": [
      "                   all         86         88      0.781      0.563      0.624      0.368\n"
     ]
    },
    {
     "name": "stderr",
     "output_type": "stream",
     "text": [
      "\n"
     ]
    },
    {
     "name": "stdout",
     "output_type": "stream",
     "text": [
      "\n",
      "      Epoch    GPU_mem   box_loss   cls_loss   dfl_loss  Instances       Size\n"
     ]
    },
    {
     "name": "stderr",
     "output_type": "stream",
     "text": [
      "     97/100      1.35G      1.276       5.17      1.415          2        416: 100%|██████████| 88/88 [00:03<00:00, 23.58it/s]\n",
      "                 Class     Images  Instances      Box(P          R      mAP50  mAP50-95): 100%|██████████| 11/11 [00:00<00:00, 38.93it/s]"
     ]
    },
    {
     "name": "stdout",
     "output_type": "stream",
     "text": [
      "                   all         86         88       0.82      0.535      0.624      0.387\n",
      "\u001b[34m\u001b[1mEarlyStopping: \u001b[0mTraining stopped early as no improvement observed in last 25 epochs. Best results observed at epoch 72, best model saved as best.pt.\n",
      "To update EarlyStopping(patience=25) pass a new patience value, i.e. `patience=300` or use `patience=0` to disable EarlyStopping.\n"
     ]
    },
    {
     "name": "stderr",
     "output_type": "stream",
     "text": [
      "\n"
     ]
    },
    {
     "name": "stdout",
     "output_type": "stream",
     "text": [
      "\n",
      "97 epochs completed in 0.108 hours.\n",
      "Optimizer stripped from /home/peter/Desktop/TU PHD/WildlifeDetectionSystem/models/trained/wildlife_detector_20250510_17062/weights/last.pt, 22.5MB\n",
      "Optimizer stripped from /home/peter/Desktop/TU PHD/WildlifeDetectionSystem/models/trained/wildlife_detector_20250510_17062/weights/best.pt, 22.5MB\n",
      "\n",
      "Validating /home/peter/Desktop/TU PHD/WildlifeDetectionSystem/models/trained/wildlife_detector_20250510_17062/weights/best.pt...\n",
      "Ultralytics 8.3.106 🚀 Python-3.12.3 torch-2.6.0+cu124 CUDA:0 (NVIDIA GeForce RTX 4050 Laptop GPU, 5898MiB)\n",
      "Model summary (fused): 72 layers, 11,137,194 parameters, 0 gradients, 28.5 GFLOPs\n"
     ]
    },
    {
     "name": "stderr",
     "output_type": "stream",
     "text": [
      "                 Class     Images  Instances      Box(P          R      mAP50  mAP50-95): 100%|██████████| 11/11 [00:00<00:00, 19.07it/s]\n"
     ]
    },
    {
     "name": "stdout",
     "output_type": "stream",
     "text": [
      "                   all         86         88      0.724       0.54      0.653      0.409\n",
      "         Male Roe Deer         23         23      0.504      0.565      0.619      0.365\n",
      "       Female Roe Deer         14         14      0.279      0.643      0.343      0.207\n",
      "                   Fox          8          8       0.71        0.5      0.618      0.367\n",
      "                Jackal          4          4          1      0.726      0.845      0.615\n",
      "                Weasel          1          1          1          0      0.995      0.697\n",
      "               Wildcat          1          1          1          0          0          0\n",
      "                Rabbit         26         27      0.654      0.889      0.874       0.49\n",
      "                 Human          9         10      0.645          1      0.931      0.532\n",
      "Speed: 0.1ms preprocess, 4.1ms inference, 0.0ms loss, 0.8ms postprocess per image\n",
      "Results saved to \u001b[1m/home/peter/Desktop/TU PHD/WildlifeDetectionSystem/models/trained/wildlife_detector_20250510_17062\u001b[0m\n",
      "\n",
      "Training completed in 0h 6m 45s\n",
      "Note: Model saved with modified path: /home/peter/Desktop/TU PHD/WildlifeDetectionSystem/models/trained/wildlife_detector_20250510_17062\n",
      "\n",
      "Standard model training results:\n",
      "- Best mAP50-95: 0.4090\n",
      "- Best mAP50: 0.3654\n",
      "- Best epoch: 0\n",
      "- Model saved to: /home/peter/Desktop/TU PHD/WildlifeDetectionSystem/models/trained/wildlife_detector_20250510_17062\n",
      "Training summary saved to: /home/peter/Desktop/TU PHD/WildlifeDetectionSystem/reports/standard_model_summary_20250510_1706.md\n"
     ]
    }
   ],
   "source": [
    "# Cell 5: Standard Model Training\n",
    "# Train the standard model with all species classes\n",
    "\n",
    "from ultralytics import YOLO \n",
    "import time\n",
    "import numpy as np\n",
    "\n",
    "# Function to handle out-of-memory errors during training\n",
    "def train_with_fallback(model, hyperparams, fallbacks=3):\n",
    "    \"\"\"Train with automatic fallback to lower resource config if OOM errors occur\"\"\"\n",
    "    for attempt in range(fallbacks + 1):\n",
    "        try:\n",
    "            print(f\"\\nTraining attempt {attempt + 1}/{fallbacks + 1}\")\n",
    "            # Start training timer\n",
    "            start_time = time.time()\n",
    "            \n",
    "            # Train the model with current hyperparams\n",
    "            results = model.train(**hyperparams)\n",
    "            \n",
    "            # If we get here, training was successful\n",
    "            training_time = time.time() - start_time\n",
    "            hours, remainder = divmod(training_time, 3600)\n",
    "            minutes, seconds = divmod(remainder, 60)\n",
    "            \n",
    "            print(f\"\\nTraining completed in {int(hours)}h {int(minutes)}m {int(seconds)}s\")\n",
    "            return results, hyperparams\n",
    "            \n",
    "        except RuntimeError as e:\n",
    "            if 'out of memory' in str(e).lower() and attempt < fallbacks:\n",
    "                print(\"\\n⚠️ GPU OUT OF MEMORY ERROR DETECTED ⚠️\")\n",
    "                print(\"Reducing resource usage and trying again...\")\n",
    "                \n",
    "                # Reduce resource usage\n",
    "                if hyperparams['batch'] > 1:\n",
    "                    hyperparams['batch'] = hyperparams['batch'] // 2\n",
    "                    print(f\"Reduced batch size to {hyperparams['batch']}\")\n",
    "                \n",
    "                if hyperparams['imgsz'] > 320:\n",
    "                    hyperparams['imgsz'] = max(320, hyperparams['imgsz'] - 64)\n",
    "                    print(f\"Reduced image size to {hyperparams['imgsz']}\")\n",
    "                \n",
    "                if hyperparams['device'] != 'cpu' and attempt == fallbacks - 1:\n",
    "                    print(\"Switching to CPU as last resort\")\n",
    "                    hyperparams['device'] = 'cpu'\n",
    "                    hyperparams['workers'] = 0\n",
    "                    hyperparams['amp'] = False\n",
    "                \n",
    "                # Free up GPU memory\n",
    "                torch.cuda.empty_cache()\n",
    "                import gc\n",
    "                gc.collect()\n",
    "                \n",
    "            else:\n",
    "                print(f\"\\nTraining error: {e}\")\n",
    "                return None, hyperparams\n",
    "    \n",
    "    return None, hyperparams\n",
    "\n",
    "# Create model output directories\n",
    "os.makedirs(os.path.join(model_save_dir), exist_ok=True)\n",
    "os.makedirs(standard_model_path, exist_ok=True)\n",
    "\n",
    "print(f\"Starting standard model training on all {len(class_names)} classes\")\n",
    "print(f\"Using base model: {base_model_path}\")\n",
    "print(f\"Dataset path: {standard_export_path}\")\n",
    "print(f\"Model will be saved to: {standard_model_path}\")\n",
    "\n",
    "try:\n",
    "    # Initialize YOLOv8 model\n",
    "    model = YOLO(base_model_path)\n",
    "    \n",
    "    # Set training parameters\n",
    "    standard_params = {\n",
    "        **standard_hyperparams,\n",
    "        'data': os.path.join(standard_export_path, 'data.yaml'),\n",
    "        'project': model_save_dir,\n",
    "        'name': os.path.basename(standard_model_path)\n",
    "    }\n",
    "    \n",
    "    print(\"\\nStarting training with the following settings:\")\n",
    "    print(f\"- Model: {base_model_path}\")\n",
    "    print(f\"- Epochs: {standard_params['epochs']}\")\n",
    "    print(f\"- Batch size: {standard_params['batch']}\")\n",
    "    print(f\"- Image size: {standard_params['imgsz']}px\")\n",
    "    print(f\"- Device: {'CPU' if standard_params['device'] == 'cpu' else 'GPU'}\")\n",
    "    print(f\"- Workers: {standard_params['workers']}\")\n",
    "    \n",
    "    # Train with automatic fallback on OOM errors\n",
    "    standard_results, final_params = train_with_fallback(model, standard_params)\n",
    "    \n",
    "    if standard_results:\n",
    "        # Get the best epoch (safely)\n",
    "        if hasattr(standard_results, 'best_epoch'):\n",
    "            best_epoch = standard_results.best_epoch\n",
    "        else:\n",
    "            # Try to infer best epoch from the early stopping message\n",
    "            import re\n",
    "            log_output = str(standard_results)\n",
    "            best_epoch_match = re.search(r'Best results observed at epoch (\\d+)', log_output)\n",
    "            best_epoch = int(best_epoch_match.group(1)) if best_epoch_match else 0\n",
    "        \n",
    "        # Get maps safely and convert to Python lists (not NumPy arrays)\n",
    "        if hasattr(standard_results, 'maps'):\n",
    "            maps = [float(m) for m in standard_results.maps]\n",
    "        else:\n",
    "            # Get from the box attribute\n",
    "            maps = [float(standard_results.box.map), float(standard_results.box.map50)] if hasattr(standard_results, 'box') else [0, 0]\n",
    "        \n",
    "        # Check for actual output directory path\n",
    "        actual_model_path = standard_model_path\n",
    "        for dir_name in os.listdir(model_save_dir):\n",
    "            if os.path.basename(standard_model_path) in dir_name:\n",
    "                actual_model_path = os.path.join(model_save_dir, dir_name)\n",
    "                if actual_model_path != standard_model_path:\n",
    "                    print(f\"Note: Model saved with modified path: {actual_model_path}\")\n",
    "        \n",
    "        # Save final hyperparameters actually used\n",
    "        training_config[\"standard_model\"] = {\n",
    "            \"train_results\": {\n",
    "                \"best_epoch\": best_epoch,\n",
    "                \"maps\": maps,  # Now using Python list instead of NumPy array\n",
    "                \"fitness\": float(getattr(standard_results, 'fitness', 0))\n",
    "            },\n",
    "            \"final_hyperparams\": final_params,\n",
    "            \"actual_model_path\": actual_model_path\n",
    "        }\n",
    "        \n",
    "        # Update training config with results\n",
    "        with open(training_config_path, 'w') as f:\n",
    "            json.dump(training_config, f, indent=2)\n",
    "        \n",
    "        print(\"\\nStandard model training results:\")\n",
    "        print(f\"- Best mAP50-95: {maps[0]:.4f}\")\n",
    "        print(f\"- Best mAP50: {maps[1]:.4f}\")\n",
    "        print(f\"- Best epoch: {best_epoch}\")\n",
    "        print(f\"- Model saved to: {actual_model_path}\")\n",
    "        \n",
    "        # Create a training summary report\n",
    "        summary_path = os.path.join(reports_dir, f\"standard_model_summary_{timestamp_now}.md\")\n",
    "        os.makedirs(os.path.dirname(summary_path), exist_ok=True)\n",
    "        \n",
    "        with open(summary_path, 'w') as f:\n",
    "            f.write(f\"# Standard Wildlife Detection Model Training Summary\\n\\n\")\n",
    "            f.write(f\"## Training Metadata\\n\")\n",
    "            f.write(f\"- **Date and Time**: {datetime.now().strftime('%Y-%m-%d %H:%M:%S')}\\n\")\n",
    "            f.write(f\"- **Model**: {base_model_path}\\n\")\n",
    "            f.write(f\"- **Dataset**: {standard_export_path}\\n\")\n",
    "            f.write(f\"- **Classes**: {len(class_names)}\\n\\n\")\n",
    "            \n",
    "            f.write(f\"## Training Configuration\\n\")\n",
    "            for param in ['epochs', 'batch', 'imgsz', 'device', 'optimizer', 'lr0']:\n",
    "                f.write(f\"- **{param}**: {final_params.get(param, 'N/A')}\\n\")\n",
    "            \n",
    "            f.write(f\"\\n## Performance Metrics\\n\")\n",
    "            f.write(f\"- **Best mAP50-95**: {maps[0]:.4f}\\n\")\n",
    "            f.write(f\"- **Best mAP50**: {maps[1]:.4f}\\n\")\n",
    "            f.write(f\"- **Best epoch**: {best_epoch}\\n\")\n",
    "\n",
    "        print(f\"Training summary saved to: {summary_path}\")\n",
    "        \n",
    "        # Save model path for future notebooks\n",
    "        standard_best_model_path = os.path.join(actual_model_path, \"weights\", \"best.pt\")\n",
    "        training_config[\"standard_best_model_path\"] = standard_best_model_path\n",
    "        training_config[\"standard_actual_model_path\"] = actual_model_path\n",
    "        \n",
    "        # Update training config with paths to result files\n",
    "        with open(training_config_path, 'w') as f:\n",
    "            json.dump(training_config, f, indent=2)\n",
    "    else:\n",
    "        print(\"\\nStandard model training failed.\")\n",
    "\n",
    "except Exception as e:\n",
    "    print(f\"Error during standard model training: {e}\")\n",
    "    import traceback\n",
    "    traceback.print_exc()"
   ]
  },
  {
   "cell_type": "code",
   "execution_count": 6,
   "id": "cb7c2da8-d3b2-458a-a3ec-e3b069657658",
   "metadata": {},
   "outputs": [
    {
     "name": "stdout",
     "output_type": "stream",
     "text": [
      "\n",
      "Starting hierarchical model training on 5 taxonomic groups\n",
      "Using base model: yolov8s.pt\n",
      "Dataset path: /home/peter/Desktop/TU PHD/WildlifeDetectionSystem/data/export/yolo_hierarchical_test_01_20250510_0038\n",
      "Model will be saved to: /home/peter/Desktop/TU PHD/WildlifeDetectionSystem/models/trained/wildlife_detector_hierarchical_20250510_1706\n",
      "\n",
      "Starting hierarchical training with the following settings:\n",
      "- Model: yolov8s.pt\n",
      "- Epochs: 50\n",
      "- Batch size: 4\n",
      "- Image size: 416px\n",
      "- Device: GPU\n",
      "- Workers: 2\n",
      "\n",
      "Training attempt 1/4\n",
      "New https://pypi.org/project/ultralytics/8.3.130 available 😃 Update with 'pip install -U ultralytics'\n",
      "Ultralytics 8.3.106 🚀 Python-3.12.3 torch-2.6.0+cu124 CUDA:0 (NVIDIA GeForce RTX 4050 Laptop GPU, 5898MiB)\n",
      "\u001b[34m\u001b[1mengine/trainer: \u001b[0mtask=detect, mode=train, model=yolov8s.pt, data=/home/peter/Desktop/TU PHD/WildlifeDetectionSystem/data/export/yolo_hierarchical_test_01_20250510_0038/data.yaml, epochs=50, time=None, patience=15, batch=4, imgsz=416, save=True, save_period=10, cache=ram, device=0, workers=2, project=/home/peter/Desktop/TU PHD/WildlifeDetectionSystem/models/trained, name=wildlife_detector_hierarchical_20250510_17062, exist_ok=False, pretrained=True, optimizer=AdamW, verbose=True, seed=0, deterministic=True, single_cls=False, rect=False, cos_lr=False, close_mosaic=10, resume=False, amp=True, fraction=1.0, profile=False, freeze=None, multi_scale=False, overlap_mask=True, mask_ratio=4, dropout=0.0, val=True, split=val, save_json=False, conf=None, iou=0.7, max_det=300, half=False, dnn=False, plots=True, source=None, vid_stride=1, stream_buffer=False, visualize=False, augment=False, agnostic_nms=False, classes=None, retina_masks=False, embed=None, show=False, save_frames=False, save_txt=False, save_conf=False, save_crop=False, show_labels=True, show_conf=True, show_boxes=True, line_width=None, format=torchscript, keras=False, optimize=False, int8=False, dynamic=False, simplify=True, opset=None, workspace=None, nms=False, lr0=0.001, lrf=0.01, momentum=0.937, weight_decay=0.0005, warmup_epochs=5, warmup_momentum=0.8, warmup_bias_lr=0.1, box=7.5, cls=2.0, dfl=1.5, pose=12.0, kobj=1.0, nbs=16, hsv_h=0.015, hsv_s=0.7, hsv_v=0.4, degrees=10.0, translate=0.2, scale=0.6, shear=0.0, perspective=0.0, flipud=0.0, fliplr=0.5, bgr=0.0, mosaic=1.0, mixup=0.1, copy_paste=0.1, copy_paste_mode=flip, auto_augment=randaugment, erasing=0.4, crop_fraction=1.0, cfg=None, tracker=botsort.yaml, save_dir=/home/peter/Desktop/TU PHD/WildlifeDetectionSystem/models/trained/wildlife_detector_hierarchical_20250510_17062\n",
      "Overriding model.yaml nc=80 with nc=5\n",
      "\n",
      "                   from  n    params  module                                       arguments                     \n",
      "  0                  -1  1       928  ultralytics.nn.modules.conv.Conv             [3, 32, 3, 2]                 \n",
      "  1                  -1  1     18560  ultralytics.nn.modules.conv.Conv             [32, 64, 3, 2]                \n",
      "  2                  -1  1     29056  ultralytics.nn.modules.block.C2f             [64, 64, 1, True]             \n",
      "  3                  -1  1     73984  ultralytics.nn.modules.conv.Conv             [64, 128, 3, 2]               \n",
      "  4                  -1  2    197632  ultralytics.nn.modules.block.C2f             [128, 128, 2, True]           \n",
      "  5                  -1  1    295424  ultralytics.nn.modules.conv.Conv             [128, 256, 3, 2]              \n",
      "  6                  -1  2    788480  ultralytics.nn.modules.block.C2f             [256, 256, 2, True]           \n",
      "  7                  -1  1   1180672  ultralytics.nn.modules.conv.Conv             [256, 512, 3, 2]              \n",
      "  8                  -1  1   1838080  ultralytics.nn.modules.block.C2f             [512, 512, 1, True]           \n",
      "  9                  -1  1    656896  ultralytics.nn.modules.block.SPPF            [512, 512, 5]                 \n",
      " 10                  -1  1         0  torch.nn.modules.upsampling.Upsample         [None, 2, 'nearest']          \n",
      " 11             [-1, 6]  1         0  ultralytics.nn.modules.conv.Concat           [1]                           \n",
      " 12                  -1  1    591360  ultralytics.nn.modules.block.C2f             [768, 256, 1]                 \n",
      " 13                  -1  1         0  torch.nn.modules.upsampling.Upsample         [None, 2, 'nearest']          \n",
      " 14             [-1, 4]  1         0  ultralytics.nn.modules.conv.Concat           [1]                           \n",
      " 15                  -1  1    148224  ultralytics.nn.modules.block.C2f             [384, 128, 1]                 \n",
      " 16                  -1  1    147712  ultralytics.nn.modules.conv.Conv             [128, 128, 3, 2]              \n",
      " 17            [-1, 12]  1         0  ultralytics.nn.modules.conv.Concat           [1]                           \n",
      " 18                  -1  1    493056  ultralytics.nn.modules.block.C2f             [384, 256, 1]                 \n",
      " 19                  -1  1    590336  ultralytics.nn.modules.conv.Conv             [256, 256, 3, 2]              \n",
      " 20             [-1, 9]  1         0  ultralytics.nn.modules.conv.Concat           [1]                           \n",
      " 21                  -1  1   1969152  ultralytics.nn.modules.block.C2f             [768, 512, 1]                 \n",
      " 22        [15, 18, 21]  1   2117983  ultralytics.nn.modules.head.Detect           [5, [128, 256, 512]]          \n",
      "Model summary: 129 layers, 11,137,535 parameters, 11,137,519 gradients, 28.7 GFLOPs\n",
      "\n",
      "Transferred 349/355 items from pretrained weights\n",
      "Freezing layer 'model.22.dfl.conv.weight'\n",
      "\u001b[34m\u001b[1mAMP: \u001b[0mrunning Automatic Mixed Precision (AMP) checks...\n",
      "\u001b[34m\u001b[1mAMP: \u001b[0mchecks passed ✅\n"
     ]
    },
    {
     "name": "stderr",
     "output_type": "stream",
     "text": [
      "\u001b[34m\u001b[1mtrain: \u001b[0mScanning /home/peter/Desktop/TU PHD/WildlifeDetectionSystem/data/export/yolo_hierarchical_test_01_20250510_0038/labels/train.cache... 356 images, 0 backgrounds, 6 corrupt: 100%|██████████| 356/356 [00:00<?, ?it/s]"
     ]
    },
    {
     "name": "stdout",
     "output_type": "stream",
     "text": [
      "\u001b[34m\u001b[1mtrain: \u001b[0mWARNING ⚠️ /home/peter/Desktop/TU PHD/WildlifeDetectionSystem/data/export/yolo_hierarchical_test_01_20250510_0038/images/train/0092_11_09_100BMCIM_IMAG0004.JPG: ignoring corrupt image/label: non-normalized or out of bounds coordinates [1.0016239]\n",
      "\u001b[34m\u001b[1mtrain: \u001b[0mWARNING ⚠️ /home/peter/Desktop/TU PHD/WildlifeDetectionSystem/data/export/yolo_hierarchical_test_01_20250510_0038/images/train/0870_x_IMAG0009.JPG: ignoring corrupt image/label: non-normalized or out of bounds coordinates [1.0185256]\n",
      "\u001b[34m\u001b[1mtrain: \u001b[0mWARNING ⚠️ /home/peter/Desktop/TU PHD/WildlifeDetectionSystem/data/export/yolo_hierarchical_test_01_20250510_0038/images/train/1099_21_05_IMAG0136.JPG: ignoring corrupt image/label: non-normalized or out of bounds coordinates [1.0162761]\n",
      "\u001b[34m\u001b[1mtrain: \u001b[0mWARNING ⚠️ /home/peter/Desktop/TU PHD/WildlifeDetectionSystem/data/export/yolo_hierarchical_test_01_20250510_0038/images/train/1102_21_05_IMAG0134.JPG: ignoring corrupt image/label: non-normalized or out of bounds coordinates [1.0192918]\n",
      "\u001b[34m\u001b[1mtrain: \u001b[0mWARNING ⚠️ /home/peter/Desktop/TU PHD/WildlifeDetectionSystem/data/export/yolo_hierarchical_test_01_20250510_0038/images/train/1694_21_10_IMAG0251.JPG: ignoring corrupt image/label: non-normalized or out of bounds coordinates [1.0092396]\n",
      "\u001b[34m\u001b[1mtrain: \u001b[0mWARNING ⚠️ /home/peter/Desktop/TU PHD/WildlifeDetectionSystem/data/export/yolo_hierarchical_test_01_20250510_0038/images/train/1878_21_10_IMAG0203.JPG: ignoring corrupt image/label: non-normalized or out of bounds coordinates [1.0273335]\n"
     ]
    },
    {
     "name": "stderr",
     "output_type": "stream",
     "text": [
      "\n"
     ]
    },
    {
     "name": "stdout",
     "output_type": "stream",
     "text": [
      "WARNING ⚠️ cache='ram' may produce non-deterministic training results. Consider cache='disk' as a deterministic alternative if your disk space allows.\n"
     ]
    },
    {
     "name": "stderr",
     "output_type": "stream",
     "text": [
      "\u001b[34m\u001b[1mtrain: \u001b[0mCaching images (0.1GB RAM): 100%|██████████| 350/350 [00:04<00:00, 80.64it/s] "
     ]
    },
    {
     "name": "stdout",
     "output_type": "stream",
     "text": [
      "\u001b[34m\u001b[1malbumentations: \u001b[0mBlur(p=0.01, blur_limit=(3, 7)), MedianBlur(p=0.01, blur_limit=(3, 7)), ToGray(p=0.01, method='weighted_average', num_output_channels=3), CLAHE(p=0.01, clip_limit=(1.0, 4.0), tile_grid_size=(8, 8))\n"
     ]
    },
    {
     "name": "stderr",
     "output_type": "stream",
     "text": [
      "\n",
      "\u001b[34m\u001b[1mval: \u001b[0mScanning /home/peter/Desktop/TU PHD/WildlifeDetectionSystem/data/export/yolo_hierarchical_test_01_20250510_0038/labels/val.cache... 89 images, 0 backgrounds, 3 corrupt: 100%|██████████| 89/89 [00:00<?, ?it/s]"
     ]
    },
    {
     "name": "stdout",
     "output_type": "stream",
     "text": [
      "\u001b[34m\u001b[1mval: \u001b[0mWARNING ⚠️ /home/peter/Desktop/TU PHD/WildlifeDetectionSystem/data/export/yolo_hierarchical_test_01_20250510_0038/images/val/0106_11_09_100BMCIM_IMAG0107.JPG: ignoring corrupt image/label: non-normalized or out of bounds coordinates [1.01125]\n",
      "\u001b[34m\u001b[1mval: \u001b[0mWARNING ⚠️ /home/peter/Desktop/TU PHD/WildlifeDetectionSystem/data/export/yolo_hierarchical_test_01_20250510_0038/images/val/0748_30_4_24_100BMCIM_IMAG0116.JPG: ignoring corrupt image/label: non-normalized or out of bounds coordinates [1.0214955]\n",
      "\u001b[34m\u001b[1mval: \u001b[0mWARNING ⚠️ /home/peter/Desktop/TU PHD/WildlifeDetectionSystem/data/export/yolo_hierarchical_test_01_20250510_0038/images/val/1345_15_03_24_Моллова_курия_IMAG0389.JPG: ignoring corrupt image/label: non-normalized or out of bounds coordinates [1.0072291]\n"
     ]
    },
    {
     "name": "stderr",
     "output_type": "stream",
     "text": [
      "\n"
     ]
    },
    {
     "name": "stdout",
     "output_type": "stream",
     "text": [
      "WARNING ⚠️ cache='ram' may produce non-deterministic training results. Consider cache='disk' as a deterministic alternative if your disk space allows.\n"
     ]
    },
    {
     "name": "stderr",
     "output_type": "stream",
     "text": [
      "\u001b[34m\u001b[1mval: \u001b[0mCaching images (0.0GB RAM): 100%|██████████| 86/86 [00:01<00:00, 75.16it/s]\n"
     ]
    },
    {
     "name": "stdout",
     "output_type": "stream",
     "text": [
      "Plotting labels to /home/peter/Desktop/TU PHD/WildlifeDetectionSystem/models/trained/wildlife_detector_hierarchical_20250510_17062/labels.jpg... \n",
      "\u001b[34m\u001b[1moptimizer:\u001b[0m AdamW(lr=0.001, momentum=0.937) with parameter groups 57 weight(decay=0.0), 64 weight(decay=0.0005), 63 bias(decay=0.0)\n",
      "Image sizes 416 train, 416 val\n",
      "Using 2 dataloader workers\n",
      "Logging results to \u001b[1m/home/peter/Desktop/TU PHD/WildlifeDetectionSystem/models/trained/wildlife_detector_hierarchical_20250510_17062\u001b[0m\n",
      "Starting training for 50 epochs...\n",
      "\n",
      "      Epoch    GPU_mem   box_loss   cls_loss   dfl_loss  Instances       Size\n"
     ]
    },
    {
     "name": "stderr",
     "output_type": "stream",
     "text": [
      "       1/50     0.844G      1.918      11.89      1.763          4        416: 100%|██████████| 88/88 [00:04<00:00, 20.64it/s]\n",
      "                 Class     Images  Instances      Box(P          R      mAP50  mAP50-95): 100%|██████████| 11/11 [00:00<00:00, 42.39it/s]"
     ]
    },
    {
     "name": "stdout",
     "output_type": "stream",
     "text": [
      "                   all         86         88      0.776      0.213      0.271      0.142\n"
     ]
    },
    {
     "name": "stderr",
     "output_type": "stream",
     "text": [
      "\n"
     ]
    },
    {
     "name": "stdout",
     "output_type": "stream",
     "text": [
      "\n",
      "      Epoch    GPU_mem   box_loss   cls_loss   dfl_loss  Instances       Size\n"
     ]
    },
    {
     "name": "stderr",
     "output_type": "stream",
     "text": [
      "       2/50     0.908G       1.92      9.558      1.739          5        416: 100%|██████████| 88/88 [00:03<00:00, 24.07it/s]\n",
      "                 Class     Images  Instances      Box(P          R      mAP50  mAP50-95): 100%|██████████| 11/11 [00:00<00:00, 41.56it/s]"
     ]
    },
    {
     "name": "stdout",
     "output_type": "stream",
     "text": [
      "                   all         86         88      0.239      0.535      0.251      0.142\n"
     ]
    },
    {
     "name": "stderr",
     "output_type": "stream",
     "text": [
      "\n"
     ]
    },
    {
     "name": "stdout",
     "output_type": "stream",
     "text": [
      "\n",
      "      Epoch    GPU_mem   box_loss   cls_loss   dfl_loss  Instances       Size\n"
     ]
    },
    {
     "name": "stderr",
     "output_type": "stream",
     "text": [
      "       3/50     0.908G      1.785      8.431      1.695          2        416: 100%|██████████| 88/88 [00:03<00:00, 23.53it/s]\n",
      "                 Class     Images  Instances      Box(P          R      mAP50  mAP50-95): 100%|██████████| 11/11 [00:00<00:00, 38.47it/s]"
     ]
    },
    {
     "name": "stdout",
     "output_type": "stream",
     "text": [
      "                   all         86         88       0.45      0.284      0.362      0.178\n"
     ]
    },
    {
     "name": "stderr",
     "output_type": "stream",
     "text": [
      "\n"
     ]
    },
    {
     "name": "stdout",
     "output_type": "stream",
     "text": [
      "\n",
      "      Epoch    GPU_mem   box_loss   cls_loss   dfl_loss  Instances       Size\n"
     ]
    },
    {
     "name": "stderr",
     "output_type": "stream",
     "text": [
      "       4/50     0.971G      1.907      8.718      1.785          6        416: 100%|██████████| 88/88 [00:03<00:00, 23.02it/s]\n",
      "                 Class     Images  Instances      Box(P          R      mAP50  mAP50-95): 100%|██████████| 11/11 [00:00<00:00, 38.64it/s]"
     ]
    },
    {
     "name": "stdout",
     "output_type": "stream",
     "text": [
      "                   all         86         88      0.423      0.431       0.46       0.22\n"
     ]
    },
    {
     "name": "stderr",
     "output_type": "stream",
     "text": [
      "\n"
     ]
    },
    {
     "name": "stdout",
     "output_type": "stream",
     "text": [
      "\n",
      "      Epoch    GPU_mem   box_loss   cls_loss   dfl_loss  Instances       Size\n"
     ]
    },
    {
     "name": "stderr",
     "output_type": "stream",
     "text": [
      "       5/50     0.971G      1.861      8.044      1.707          3        416: 100%|██████████| 88/88 [00:03<00:00, 24.38it/s]\n",
      "                 Class     Images  Instances      Box(P          R      mAP50  mAP50-95): 100%|██████████| 11/11 [00:00<00:00, 35.09it/s]\n"
     ]
    },
    {
     "name": "stdout",
     "output_type": "stream",
     "text": [
      "                   all         86         88      0.324      0.529      0.402      0.169\n",
      "\n",
      "      Epoch    GPU_mem   box_loss   cls_loss   dfl_loss  Instances       Size\n"
     ]
    },
    {
     "name": "stderr",
     "output_type": "stream",
     "text": [
      "       6/50     0.971G      1.816      8.092      1.709          2        416: 100%|██████████| 88/88 [00:03<00:00, 23.54it/s]\n",
      "                 Class     Images  Instances      Box(P          R      mAP50  mAP50-95): 100%|██████████| 11/11 [00:00<00:00, 35.52it/s]"
     ]
    },
    {
     "name": "stdout",
     "output_type": "stream",
     "text": [
      "                   all         86         88      0.522      0.488      0.507      0.277\n"
     ]
    },
    {
     "name": "stderr",
     "output_type": "stream",
     "text": [
      "\n"
     ]
    },
    {
     "name": "stdout",
     "output_type": "stream",
     "text": [
      "\n",
      "      Epoch    GPU_mem   box_loss   cls_loss   dfl_loss  Instances       Size\n"
     ]
    },
    {
     "name": "stderr",
     "output_type": "stream",
     "text": [
      "       7/50     0.971G      1.733      7.199      1.636          1        416: 100%|██████████| 88/88 [00:03<00:00, 23.27it/s]\n",
      "                 Class     Images  Instances      Box(P          R      mAP50  mAP50-95): 100%|██████████| 11/11 [00:00<00:00, 38.29it/s]"
     ]
    },
    {
     "name": "stdout",
     "output_type": "stream",
     "text": [
      "                   all         86         88      0.736      0.426        0.5      0.257\n"
     ]
    },
    {
     "name": "stderr",
     "output_type": "stream",
     "text": [
      "\n"
     ]
    },
    {
     "name": "stdout",
     "output_type": "stream",
     "text": [
      "\n",
      "      Epoch    GPU_mem   box_loss   cls_loss   dfl_loss  Instances       Size\n"
     ]
    },
    {
     "name": "stderr",
     "output_type": "stream",
     "text": [
      "       8/50     0.971G       1.71      7.114      1.635          2        416: 100%|██████████| 88/88 [00:03<00:00, 23.66it/s]\n",
      "                 Class     Images  Instances      Box(P          R      mAP50  mAP50-95): 100%|██████████| 11/11 [00:00<00:00, 38.57it/s]"
     ]
    },
    {
     "name": "stdout",
     "output_type": "stream",
     "text": [
      "                   all         86         88       0.34      0.433      0.346      0.163\n"
     ]
    },
    {
     "name": "stderr",
     "output_type": "stream",
     "text": [
      "\n"
     ]
    },
    {
     "name": "stdout",
     "output_type": "stream",
     "text": [
      "\n",
      "      Epoch    GPU_mem   box_loss   cls_loss   dfl_loss  Instances       Size\n"
     ]
    },
    {
     "name": "stderr",
     "output_type": "stream",
     "text": [
      "       9/50     0.971G      1.691      7.059      1.636          2        416: 100%|██████████| 88/88 [00:03<00:00, 23.79it/s]\n",
      "                 Class     Images  Instances      Box(P          R      mAP50  mAP50-95): 100%|██████████| 11/11 [00:00<00:00, 38.79it/s]"
     ]
    },
    {
     "name": "stdout",
     "output_type": "stream",
     "text": [
      "                   all         86         88      0.407      0.519      0.479      0.259\n"
     ]
    },
    {
     "name": "stderr",
     "output_type": "stream",
     "text": [
      "\n"
     ]
    },
    {
     "name": "stdout",
     "output_type": "stream",
     "text": [
      "\n",
      "      Epoch    GPU_mem   box_loss   cls_loss   dfl_loss  Instances       Size\n"
     ]
    },
    {
     "name": "stderr",
     "output_type": "stream",
     "text": [
      "      10/50     0.971G      1.615      6.453      1.535          1        416: 100%|██████████| 88/88 [00:03<00:00, 23.65it/s]\n",
      "                 Class     Images  Instances      Box(P          R      mAP50  mAP50-95): 100%|██████████| 11/11 [00:00<00:00, 38.70it/s]"
     ]
    },
    {
     "name": "stdout",
     "output_type": "stream",
     "text": [
      "                   all         86         88      0.449      0.573      0.554      0.299\n"
     ]
    },
    {
     "name": "stderr",
     "output_type": "stream",
     "text": [
      "\n"
     ]
    },
    {
     "name": "stdout",
     "output_type": "stream",
     "text": [
      "\n",
      "      Epoch    GPU_mem   box_loss   cls_loss   dfl_loss  Instances       Size\n"
     ]
    },
    {
     "name": "stderr",
     "output_type": "stream",
     "text": [
      "      11/50     0.971G       1.67      6.502      1.607          6        416: 100%|██████████| 88/88 [00:03<00:00, 23.72it/s]\n",
      "                 Class     Images  Instances      Box(P          R      mAP50  mAP50-95): 100%|██████████| 11/11 [00:00<00:00, 38.65it/s]"
     ]
    },
    {
     "name": "stdout",
     "output_type": "stream",
     "text": [
      "                   all         86         88      0.476       0.67       0.64       0.33\n"
     ]
    },
    {
     "name": "stderr",
     "output_type": "stream",
     "text": [
      "\n"
     ]
    },
    {
     "name": "stdout",
     "output_type": "stream",
     "text": [
      "\n",
      "      Epoch    GPU_mem   box_loss   cls_loss   dfl_loss  Instances       Size\n"
     ]
    },
    {
     "name": "stderr",
     "output_type": "stream",
     "text": [
      "      12/50     0.971G      1.657      6.327      1.582          9        416: 100%|██████████| 88/88 [00:03<00:00, 23.07it/s]\n",
      "                 Class     Images  Instances      Box(P          R      mAP50  mAP50-95): 100%|██████████| 11/11 [00:00<00:00, 38.72it/s]"
     ]
    },
    {
     "name": "stdout",
     "output_type": "stream",
     "text": [
      "                   all         86         88      0.521      0.515      0.551      0.269\n"
     ]
    },
    {
     "name": "stderr",
     "output_type": "stream",
     "text": [
      "\n"
     ]
    },
    {
     "name": "stdout",
     "output_type": "stream",
     "text": [
      "\n",
      "      Epoch    GPU_mem   box_loss   cls_loss   dfl_loss  Instances       Size\n"
     ]
    },
    {
     "name": "stderr",
     "output_type": "stream",
     "text": [
      "      13/50     0.971G      1.575      6.094      1.545          6        416: 100%|██████████| 88/88 [00:03<00:00, 23.49it/s]\n",
      "                 Class     Images  Instances      Box(P          R      mAP50  mAP50-95): 100%|██████████| 11/11 [00:00<00:00, 38.56it/s]"
     ]
    },
    {
     "name": "stdout",
     "output_type": "stream",
     "text": [
      "                   all         86         88      0.627      0.648      0.618      0.292\n"
     ]
    },
    {
     "name": "stderr",
     "output_type": "stream",
     "text": [
      "\n"
     ]
    },
    {
     "name": "stdout",
     "output_type": "stream",
     "text": [
      "\n",
      "      Epoch    GPU_mem   box_loss   cls_loss   dfl_loss  Instances       Size\n"
     ]
    },
    {
     "name": "stderr",
     "output_type": "stream",
     "text": [
      "      14/50     0.971G      1.539      5.697      1.523          4        416: 100%|██████████| 88/88 [00:03<00:00, 23.61it/s]\n",
      "                 Class     Images  Instances      Box(P          R      mAP50  mAP50-95): 100%|██████████| 11/11 [00:00<00:00, 38.73it/s]"
     ]
    },
    {
     "name": "stdout",
     "output_type": "stream",
     "text": [
      "                   all         86         88      0.658      0.656      0.632      0.339\n"
     ]
    },
    {
     "name": "stderr",
     "output_type": "stream",
     "text": [
      "\n"
     ]
    },
    {
     "name": "stdout",
     "output_type": "stream",
     "text": [
      "\n",
      "      Epoch    GPU_mem   box_loss   cls_loss   dfl_loss  Instances       Size\n"
     ]
    },
    {
     "name": "stderr",
     "output_type": "stream",
     "text": [
      "      15/50     0.971G      1.582      5.914      1.603          6        416: 100%|██████████| 88/88 [00:03<00:00, 23.56it/s]\n",
      "                 Class     Images  Instances      Box(P          R      mAP50  mAP50-95): 100%|██████████| 11/11 [00:00<00:00, 38.89it/s]"
     ]
    },
    {
     "name": "stdout",
     "output_type": "stream",
     "text": [
      "                   all         86         88      0.595      0.623      0.656      0.362\n"
     ]
    },
    {
     "name": "stderr",
     "output_type": "stream",
     "text": [
      "\n"
     ]
    },
    {
     "name": "stdout",
     "output_type": "stream",
     "text": [
      "\n",
      "      Epoch    GPU_mem   box_loss   cls_loss   dfl_loss  Instances       Size\n"
     ]
    },
    {
     "name": "stderr",
     "output_type": "stream",
     "text": [
      "      16/50     0.971G      1.459      5.406       1.49          4        416: 100%|██████████| 88/88 [00:03<00:00, 23.58it/s]\n",
      "                 Class     Images  Instances      Box(P          R      mAP50  mAP50-95): 100%|██████████| 11/11 [00:00<00:00, 38.87it/s]"
     ]
    },
    {
     "name": "stdout",
     "output_type": "stream",
     "text": [
      "                   all         86         88      0.623      0.665      0.711      0.421\n"
     ]
    },
    {
     "name": "stderr",
     "output_type": "stream",
     "text": [
      "\n"
     ]
    },
    {
     "name": "stdout",
     "output_type": "stream",
     "text": [
      "\n",
      "      Epoch    GPU_mem   box_loss   cls_loss   dfl_loss  Instances       Size\n"
     ]
    },
    {
     "name": "stderr",
     "output_type": "stream",
     "text": [
      "      17/50     0.971G      1.495      5.231      1.537          1        416: 100%|██████████| 88/88 [00:03<00:00, 23.63it/s]\n",
      "                 Class     Images  Instances      Box(P          R      mAP50  mAP50-95): 100%|██████████| 11/11 [00:00<00:00, 38.12it/s]"
     ]
    },
    {
     "name": "stdout",
     "output_type": "stream",
     "text": [
      "                   all         86         88      0.559      0.637       0.62      0.331\n"
     ]
    },
    {
     "name": "stderr",
     "output_type": "stream",
     "text": [
      "\n"
     ]
    },
    {
     "name": "stdout",
     "output_type": "stream",
     "text": [
      "\n",
      "      Epoch    GPU_mem   box_loss   cls_loss   dfl_loss  Instances       Size\n"
     ]
    },
    {
     "name": "stderr",
     "output_type": "stream",
     "text": [
      "      18/50     0.971G       1.47      5.129      1.471          3        416: 100%|██████████| 88/88 [00:03<00:00, 23.71it/s]\n",
      "                 Class     Images  Instances      Box(P          R      mAP50  mAP50-95): 100%|██████████| 11/11 [00:00<00:00, 38.99it/s]"
     ]
    },
    {
     "name": "stdout",
     "output_type": "stream",
     "text": [
      "                   all         86         88      0.687      0.705        0.7      0.349\n"
     ]
    },
    {
     "name": "stderr",
     "output_type": "stream",
     "text": [
      "\n"
     ]
    },
    {
     "name": "stdout",
     "output_type": "stream",
     "text": [
      "\n",
      "      Epoch    GPU_mem   box_loss   cls_loss   dfl_loss  Instances       Size\n"
     ]
    },
    {
     "name": "stderr",
     "output_type": "stream",
     "text": [
      "      19/50     0.971G      1.456      5.165      1.479          5        416: 100%|██████████| 88/88 [00:03<00:00, 23.70it/s]\n",
      "                 Class     Images  Instances      Box(P          R      mAP50  mAP50-95): 100%|██████████| 11/11 [00:00<00:00, 38.95it/s]"
     ]
    },
    {
     "name": "stdout",
     "output_type": "stream",
     "text": [
      "                   all         86         88      0.725      0.667      0.727      0.371\n"
     ]
    },
    {
     "name": "stderr",
     "output_type": "stream",
     "text": [
      "\n"
     ]
    },
    {
     "name": "stdout",
     "output_type": "stream",
     "text": [
      "\n",
      "      Epoch    GPU_mem   box_loss   cls_loss   dfl_loss  Instances       Size\n"
     ]
    },
    {
     "name": "stderr",
     "output_type": "stream",
     "text": [
      "      20/50     0.971G      1.466      5.059      1.481          1        416: 100%|██████████| 88/88 [00:03<00:00, 23.90it/s]\n",
      "                 Class     Images  Instances      Box(P          R      mAP50  mAP50-95): 100%|██████████| 11/11 [00:00<00:00, 38.77it/s]"
     ]
    },
    {
     "name": "stdout",
     "output_type": "stream",
     "text": [
      "                   all         86         88      0.688      0.751      0.733      0.402\n"
     ]
    },
    {
     "name": "stderr",
     "output_type": "stream",
     "text": [
      "\n"
     ]
    },
    {
     "name": "stdout",
     "output_type": "stream",
     "text": [
      "\n",
      "      Epoch    GPU_mem   box_loss   cls_loss   dfl_loss  Instances       Size\n"
     ]
    },
    {
     "name": "stderr",
     "output_type": "stream",
     "text": [
      "      21/50     0.971G      1.428      4.824      1.442          5        416: 100%|██████████| 88/88 [00:03<00:00, 22.75it/s]\n",
      "                 Class     Images  Instances      Box(P          R      mAP50  mAP50-95): 100%|██████████| 11/11 [00:00<00:00, 38.84it/s]"
     ]
    },
    {
     "name": "stdout",
     "output_type": "stream",
     "text": [
      "                   all         86         88      0.569      0.713      0.723      0.396\n"
     ]
    },
    {
     "name": "stderr",
     "output_type": "stream",
     "text": [
      "\n"
     ]
    },
    {
     "name": "stdout",
     "output_type": "stream",
     "text": [
      "\n",
      "      Epoch    GPU_mem   box_loss   cls_loss   dfl_loss  Instances       Size\n"
     ]
    },
    {
     "name": "stderr",
     "output_type": "stream",
     "text": [
      "      22/50     0.971G      1.408      4.846      1.426          1        416: 100%|██████████| 88/88 [00:03<00:00, 23.77it/s]\n",
      "                 Class     Images  Instances      Box(P          R      mAP50  mAP50-95): 100%|██████████| 11/11 [00:00<00:00, 39.20it/s]"
     ]
    },
    {
     "name": "stdout",
     "output_type": "stream",
     "text": [
      "                   all         86         88      0.776      0.572      0.689       0.37\n"
     ]
    },
    {
     "name": "stderr",
     "output_type": "stream",
     "text": [
      "\n"
     ]
    },
    {
     "name": "stdout",
     "output_type": "stream",
     "text": [
      "\n",
      "      Epoch    GPU_mem   box_loss   cls_loss   dfl_loss  Instances       Size\n"
     ]
    },
    {
     "name": "stderr",
     "output_type": "stream",
     "text": [
      "      23/50     0.971G      1.399      4.852      1.454          3        416: 100%|██████████| 88/88 [00:03<00:00, 23.70it/s]\n",
      "                 Class     Images  Instances      Box(P          R      mAP50  mAP50-95): 100%|██████████| 11/11 [00:00<00:00, 38.95it/s]"
     ]
    },
    {
     "name": "stdout",
     "output_type": "stream",
     "text": [
      "                   all         86         88       0.68      0.686      0.709      0.359\n"
     ]
    },
    {
     "name": "stderr",
     "output_type": "stream",
     "text": [
      "\n"
     ]
    },
    {
     "name": "stdout",
     "output_type": "stream",
     "text": [
      "\n",
      "      Epoch    GPU_mem   box_loss   cls_loss   dfl_loss  Instances       Size\n"
     ]
    },
    {
     "name": "stderr",
     "output_type": "stream",
     "text": [
      "      24/50      1.03G      1.342      4.772      1.432          3        416: 100%|██████████| 88/88 [00:03<00:00, 23.75it/s]\n",
      "                 Class     Images  Instances      Box(P          R      mAP50  mAP50-95): 100%|██████████| 11/11 [00:00<00:00, 39.40it/s]"
     ]
    },
    {
     "name": "stdout",
     "output_type": "stream",
     "text": [
      "                   all         86         88      0.706      0.688      0.738      0.429\n"
     ]
    },
    {
     "name": "stderr",
     "output_type": "stream",
     "text": [
      "\n"
     ]
    },
    {
     "name": "stdout",
     "output_type": "stream",
     "text": [
      "\n",
      "      Epoch    GPU_mem   box_loss   cls_loss   dfl_loss  Instances       Size\n"
     ]
    },
    {
     "name": "stderr",
     "output_type": "stream",
     "text": [
      "      25/50       1.1G      1.336      4.523      1.387          2        416: 100%|██████████| 88/88 [00:03<00:00, 23.68it/s]\n",
      "                 Class     Images  Instances      Box(P          R      mAP50  mAP50-95): 100%|██████████| 11/11 [00:00<00:00, 39.03it/s]"
     ]
    },
    {
     "name": "stdout",
     "output_type": "stream",
     "text": [
      "                   all         86         88      0.849      0.712       0.79      0.447\n"
     ]
    },
    {
     "name": "stderr",
     "output_type": "stream",
     "text": [
      "\n"
     ]
    },
    {
     "name": "stdout",
     "output_type": "stream",
     "text": [
      "\n",
      "      Epoch    GPU_mem   box_loss   cls_loss   dfl_loss  Instances       Size\n"
     ]
    },
    {
     "name": "stderr",
     "output_type": "stream",
     "text": [
      "      26/50      1.18G      1.315       4.41      1.388          6        416: 100%|██████████| 88/88 [00:03<00:00, 23.61it/s]\n",
      "                 Class     Images  Instances      Box(P          R      mAP50  mAP50-95): 100%|██████████| 11/11 [00:00<00:00, 38.26it/s]"
     ]
    },
    {
     "name": "stdout",
     "output_type": "stream",
     "text": [
      "                   all         86         88      0.708      0.661      0.698      0.374\n"
     ]
    },
    {
     "name": "stderr",
     "output_type": "stream",
     "text": [
      "\n"
     ]
    },
    {
     "name": "stdout",
     "output_type": "stream",
     "text": [
      "\n",
      "      Epoch    GPU_mem   box_loss   cls_loss   dfl_loss  Instances       Size\n"
     ]
    },
    {
     "name": "stderr",
     "output_type": "stream",
     "text": [
      "      27/50      1.23G      1.269      4.207      1.358          3        416: 100%|██████████| 88/88 [00:03<00:00, 23.65it/s]\n",
      "                 Class     Images  Instances      Box(P          R      mAP50  mAP50-95): 100%|██████████| 11/11 [00:00<00:00, 39.46it/s]"
     ]
    },
    {
     "name": "stdout",
     "output_type": "stream",
     "text": [
      "                   all         86         88      0.601      0.733      0.713      0.372\n"
     ]
    },
    {
     "name": "stderr",
     "output_type": "stream",
     "text": [
      "\n"
     ]
    },
    {
     "name": "stdout",
     "output_type": "stream",
     "text": [
      "\n",
      "      Epoch    GPU_mem   box_loss   cls_loss   dfl_loss  Instances       Size\n"
     ]
    },
    {
     "name": "stderr",
     "output_type": "stream",
     "text": [
      "      28/50      1.31G      1.284      4.253       1.39          4        416: 100%|██████████| 88/88 [00:03<00:00, 23.60it/s]\n",
      "                 Class     Images  Instances      Box(P          R      mAP50  mAP50-95): 100%|██████████| 11/11 [00:00<00:00, 39.03it/s]"
     ]
    },
    {
     "name": "stdout",
     "output_type": "stream",
     "text": [
      "                   all         86         88      0.709      0.693      0.725      0.407\n"
     ]
    },
    {
     "name": "stderr",
     "output_type": "stream",
     "text": [
      "\n"
     ]
    },
    {
     "name": "stdout",
     "output_type": "stream",
     "text": [
      "\n",
      "      Epoch    GPU_mem   box_loss   cls_loss   dfl_loss  Instances       Size\n"
     ]
    },
    {
     "name": "stderr",
     "output_type": "stream",
     "text": [
      "      29/50      1.36G      1.331      4.255        1.4          6        416: 100%|██████████| 88/88 [00:03<00:00, 23.71it/s]\n",
      "                 Class     Images  Instances      Box(P          R      mAP50  mAP50-95): 100%|██████████| 11/11 [00:00<00:00, 39.27it/s]"
     ]
    },
    {
     "name": "stdout",
     "output_type": "stream",
     "text": [
      "                   all         86         88      0.701      0.798      0.762      0.443\n"
     ]
    },
    {
     "name": "stderr",
     "output_type": "stream",
     "text": [
      "\n"
     ]
    },
    {
     "name": "stdout",
     "output_type": "stream",
     "text": [
      "\n",
      "      Epoch    GPU_mem   box_loss   cls_loss   dfl_loss  Instances       Size\n"
     ]
    },
    {
     "name": "stderr",
     "output_type": "stream",
     "text": [
      "      30/50      1.44G      1.324      4.349      1.382          3        416: 100%|██████████| 88/88 [00:03<00:00, 22.80it/s]\n",
      "                 Class     Images  Instances      Box(P          R      mAP50  mAP50-95): 100%|██████████| 11/11 [00:00<00:00, 37.64it/s]"
     ]
    },
    {
     "name": "stdout",
     "output_type": "stream",
     "text": [
      "                   all         86         88       0.69      0.754       0.78      0.457\n"
     ]
    },
    {
     "name": "stderr",
     "output_type": "stream",
     "text": [
      "\n"
     ]
    },
    {
     "name": "stdout",
     "output_type": "stream",
     "text": [
      "\n",
      "      Epoch    GPU_mem   box_loss   cls_loss   dfl_loss  Instances       Size\n"
     ]
    },
    {
     "name": "stderr",
     "output_type": "stream",
     "text": [
      "      31/50      1.49G      1.233      4.163       1.33          0        416: 100%|██████████| 88/88 [00:03<00:00, 23.46it/s]\n",
      "                 Class     Images  Instances      Box(P          R      mAP50  mAP50-95): 100%|██████████| 11/11 [00:00<00:00, 38.78it/s]"
     ]
    },
    {
     "name": "stdout",
     "output_type": "stream",
     "text": [
      "                   all         86         88      0.817      0.677      0.787      0.439\n"
     ]
    },
    {
     "name": "stderr",
     "output_type": "stream",
     "text": [
      "\n"
     ]
    },
    {
     "name": "stdout",
     "output_type": "stream",
     "text": [
      "\n",
      "      Epoch    GPU_mem   box_loss   cls_loss   dfl_loss  Instances       Size\n"
     ]
    },
    {
     "name": "stderr",
     "output_type": "stream",
     "text": [
      "      32/50      1.57G      1.193      3.761      1.307          6        416: 100%|██████████| 88/88 [00:03<00:00, 22.39it/s]\n",
      "                 Class     Images  Instances      Box(P          R      mAP50  mAP50-95): 100%|██████████| 11/11 [00:00<00:00, 36.47it/s]"
     ]
    },
    {
     "name": "stdout",
     "output_type": "stream",
     "text": [
      "                   all         86         88      0.773      0.833      0.837      0.471\n"
     ]
    },
    {
     "name": "stderr",
     "output_type": "stream",
     "text": [
      "\n"
     ]
    },
    {
     "name": "stdout",
     "output_type": "stream",
     "text": [
      "\n",
      "      Epoch    GPU_mem   box_loss   cls_loss   dfl_loss  Instances       Size\n"
     ]
    },
    {
     "name": "stderr",
     "output_type": "stream",
     "text": [
      "      33/50      1.57G      1.214      3.824      1.318          3        416: 100%|██████████| 88/88 [00:03<00:00, 23.57it/s]\n",
      "                 Class     Images  Instances      Box(P          R      mAP50  mAP50-95): 100%|██████████| 11/11 [00:00<00:00, 39.13it/s]"
     ]
    },
    {
     "name": "stdout",
     "output_type": "stream",
     "text": [
      "                   all         86         88      0.863      0.752      0.871      0.487\n"
     ]
    },
    {
     "name": "stderr",
     "output_type": "stream",
     "text": [
      "\n"
     ]
    },
    {
     "name": "stdout",
     "output_type": "stream",
     "text": [
      "\n",
      "      Epoch    GPU_mem   box_loss   cls_loss   dfl_loss  Instances       Size\n"
     ]
    },
    {
     "name": "stderr",
     "output_type": "stream",
     "text": [
      "      34/50      1.57G      1.178      3.851      1.282          0        416: 100%|██████████| 88/88 [00:03<00:00, 23.72it/s]\n",
      "                 Class     Images  Instances      Box(P          R      mAP50  mAP50-95): 100%|██████████| 11/11 [00:00<00:00, 38.96it/s]"
     ]
    },
    {
     "name": "stdout",
     "output_type": "stream",
     "text": [
      "                   all         86         88      0.721      0.835       0.82      0.453\n"
     ]
    },
    {
     "name": "stderr",
     "output_type": "stream",
     "text": [
      "\n"
     ]
    },
    {
     "name": "stdout",
     "output_type": "stream",
     "text": [
      "\n",
      "      Epoch    GPU_mem   box_loss   cls_loss   dfl_loss  Instances       Size\n"
     ]
    },
    {
     "name": "stderr",
     "output_type": "stream",
     "text": [
      "      35/50      1.57G      1.225      3.905      1.347          3        416: 100%|██████████| 88/88 [00:03<00:00, 23.94it/s]\n",
      "                 Class     Images  Instances      Box(P          R      mAP50  mAP50-95): 100%|██████████| 11/11 [00:00<00:00, 38.95it/s]"
     ]
    },
    {
     "name": "stdout",
     "output_type": "stream",
     "text": [
      "                   all         86         88      0.788      0.759      0.818      0.455\n"
     ]
    },
    {
     "name": "stderr",
     "output_type": "stream",
     "text": [
      "\n"
     ]
    },
    {
     "name": "stdout",
     "output_type": "stream",
     "text": [
      "\n",
      "      Epoch    GPU_mem   box_loss   cls_loss   dfl_loss  Instances       Size\n"
     ]
    },
    {
     "name": "stderr",
     "output_type": "stream",
     "text": [
      "      36/50      1.57G      1.194      3.744      1.305          6        416: 100%|██████████| 88/88 [00:03<00:00, 23.25it/s]\n",
      "                 Class     Images  Instances      Box(P          R      mAP50  mAP50-95): 100%|██████████| 11/11 [00:00<00:00, 37.20it/s]"
     ]
    },
    {
     "name": "stdout",
     "output_type": "stream",
     "text": [
      "                   all         86         88      0.836      0.845      0.854      0.485\n"
     ]
    },
    {
     "name": "stderr",
     "output_type": "stream",
     "text": [
      "\n"
     ]
    },
    {
     "name": "stdout",
     "output_type": "stream",
     "text": [
      "\n",
      "      Epoch    GPU_mem   box_loss   cls_loss   dfl_loss  Instances       Size\n"
     ]
    },
    {
     "name": "stderr",
     "output_type": "stream",
     "text": [
      "      37/50      1.57G      1.173      3.589      1.295          8        416: 100%|██████████| 88/88 [00:03<00:00, 22.87it/s]\n",
      "                 Class     Images  Instances      Box(P          R      mAP50  mAP50-95): 100%|██████████| 11/11 [00:00<00:00, 39.15it/s]"
     ]
    },
    {
     "name": "stdout",
     "output_type": "stream",
     "text": [
      "                   all         86         88      0.862      0.751      0.833      0.486\n"
     ]
    },
    {
     "name": "stderr",
     "output_type": "stream",
     "text": [
      "\n"
     ]
    },
    {
     "name": "stdout",
     "output_type": "stream",
     "text": [
      "\n",
      "      Epoch    GPU_mem   box_loss   cls_loss   dfl_loss  Instances       Size\n"
     ]
    },
    {
     "name": "stderr",
     "output_type": "stream",
     "text": [
      "      38/50      1.57G      1.158       3.45      1.265          1        416: 100%|██████████| 88/88 [00:03<00:00, 23.53it/s]\n",
      "                 Class     Images  Instances      Box(P          R      mAP50  mAP50-95): 100%|██████████| 11/11 [00:00<00:00, 39.06it/s]"
     ]
    },
    {
     "name": "stdout",
     "output_type": "stream",
     "text": [
      "                   all         86         88      0.787      0.814      0.857      0.478\n"
     ]
    },
    {
     "name": "stderr",
     "output_type": "stream",
     "text": [
      "\n"
     ]
    },
    {
     "name": "stdout",
     "output_type": "stream",
     "text": [
      "\n",
      "      Epoch    GPU_mem   box_loss   cls_loss   dfl_loss  Instances       Size\n"
     ]
    },
    {
     "name": "stderr",
     "output_type": "stream",
     "text": [
      "      39/50      1.57G      1.181      3.608      1.318          4        416: 100%|██████████| 88/88 [00:03<00:00, 23.68it/s]\n",
      "                 Class     Images  Instances      Box(P          R      mAP50  mAP50-95): 100%|██████████| 11/11 [00:00<00:00, 39.46it/s]"
     ]
    },
    {
     "name": "stdout",
     "output_type": "stream",
     "text": [
      "                   all         86         88      0.871      0.741      0.865      0.474\n"
     ]
    },
    {
     "name": "stderr",
     "output_type": "stream",
     "text": [
      "\n"
     ]
    },
    {
     "name": "stdout",
     "output_type": "stream",
     "text": [
      "\n",
      "      Epoch    GPU_mem   box_loss   cls_loss   dfl_loss  Instances       Size\n"
     ]
    },
    {
     "name": "stderr",
     "output_type": "stream",
     "text": [
      "      40/50      1.57G      1.143      3.495      1.258          2        416: 100%|██████████| 88/88 [00:03<00:00, 23.73it/s]\n",
      "                 Class     Images  Instances      Box(P          R      mAP50  mAP50-95): 100%|██████████| 11/11 [00:00<00:00, 38.88it/s]"
     ]
    },
    {
     "name": "stdout",
     "output_type": "stream",
     "text": [
      "                   all         86         88      0.826       0.82      0.856      0.553\n"
     ]
    },
    {
     "name": "stderr",
     "output_type": "stream",
     "text": [
      "\n"
     ]
    },
    {
     "name": "stdout",
     "output_type": "stream",
     "text": [
      "Closing dataloader mosaic\n",
      "\u001b[34m\u001b[1malbumentations: \u001b[0mBlur(p=0.01, blur_limit=(3, 7)), MedianBlur(p=0.01, blur_limit=(3, 7)), ToGray(p=0.01, method='weighted_average', num_output_channels=3), CLAHE(p=0.01, clip_limit=(1.0, 4.0), tile_grid_size=(8, 8))\n",
      "\n",
      "      Epoch    GPU_mem   box_loss   cls_loss   dfl_loss  Instances       Size\n"
     ]
    },
    {
     "name": "stderr",
     "output_type": "stream",
     "text": [
      "      41/50      1.57G      1.461      4.041      1.513          2        416: 100%|██████████| 88/88 [00:03<00:00, 23.95it/s]\n",
      "                 Class     Images  Instances      Box(P          R      mAP50  mAP50-95): 100%|██████████| 11/11 [00:00<00:00, 39.05it/s]"
     ]
    },
    {
     "name": "stdout",
     "output_type": "stream",
     "text": [
      "                   all         86         88      0.781       0.77      0.856       0.48\n"
     ]
    },
    {
     "name": "stderr",
     "output_type": "stream",
     "text": [
      "\n"
     ]
    },
    {
     "name": "stdout",
     "output_type": "stream",
     "text": [
      "\n",
      "      Epoch    GPU_mem   box_loss   cls_loss   dfl_loss  Instances       Size\n"
     ]
    },
    {
     "name": "stderr",
     "output_type": "stream",
     "text": [
      "      42/50      1.57G      1.414      4.013      1.481          2        416: 100%|██████████| 88/88 [00:03<00:00, 23.78it/s]\n",
      "                 Class     Images  Instances      Box(P          R      mAP50  mAP50-95): 100%|██████████| 11/11 [00:00<00:00, 39.21it/s]"
     ]
    },
    {
     "name": "stdout",
     "output_type": "stream",
     "text": [
      "                   all         86         88      0.823      0.792      0.837      0.525\n"
     ]
    },
    {
     "name": "stderr",
     "output_type": "stream",
     "text": [
      "\n"
     ]
    },
    {
     "name": "stdout",
     "output_type": "stream",
     "text": [
      "\n",
      "      Epoch    GPU_mem   box_loss   cls_loss   dfl_loss  Instances       Size\n"
     ]
    },
    {
     "name": "stderr",
     "output_type": "stream",
     "text": [
      "      43/50      1.57G      1.366      3.794      1.473          2        416: 100%|██████████| 88/88 [00:03<00:00, 22.71it/s]\n",
      "                 Class     Images  Instances      Box(P          R      mAP50  mAP50-95): 100%|██████████| 11/11 [00:00<00:00, 39.39it/s]"
     ]
    },
    {
     "name": "stdout",
     "output_type": "stream",
     "text": [
      "                   all         86         88      0.795      0.818      0.859      0.509\n"
     ]
    },
    {
     "name": "stderr",
     "output_type": "stream",
     "text": [
      "\n"
     ]
    },
    {
     "name": "stdout",
     "output_type": "stream",
     "text": [
      "\n",
      "      Epoch    GPU_mem   box_loss   cls_loss   dfl_loss  Instances       Size\n"
     ]
    },
    {
     "name": "stderr",
     "output_type": "stream",
     "text": [
      "      44/50      1.57G      1.364      3.401      1.426          2        416: 100%|██████████| 88/88 [00:03<00:00, 23.69it/s]\n",
      "                 Class     Images  Instances      Box(P          R      mAP50  mAP50-95): 100%|██████████| 11/11 [00:00<00:00, 39.54it/s]"
     ]
    },
    {
     "name": "stdout",
     "output_type": "stream",
     "text": [
      "                   all         86         88      0.896      0.786      0.893      0.563\n"
     ]
    },
    {
     "name": "stderr",
     "output_type": "stream",
     "text": [
      "\n"
     ]
    },
    {
     "name": "stdout",
     "output_type": "stream",
     "text": [
      "\n",
      "      Epoch    GPU_mem   box_loss   cls_loss   dfl_loss  Instances       Size\n"
     ]
    },
    {
     "name": "stderr",
     "output_type": "stream",
     "text": [
      "      45/50      1.57G      1.326      3.203      1.439          1        416: 100%|██████████| 88/88 [00:03<00:00, 23.70it/s]\n",
      "                 Class     Images  Instances      Box(P          R      mAP50  mAP50-95): 100%|██████████| 11/11 [00:00<00:00, 39.31it/s]"
     ]
    },
    {
     "name": "stdout",
     "output_type": "stream",
     "text": [
      "                   all         86         88      0.924      0.732      0.882      0.536\n"
     ]
    },
    {
     "name": "stderr",
     "output_type": "stream",
     "text": [
      "\n"
     ]
    },
    {
     "name": "stdout",
     "output_type": "stream",
     "text": [
      "\n",
      "      Epoch    GPU_mem   box_loss   cls_loss   dfl_loss  Instances       Size\n"
     ]
    },
    {
     "name": "stderr",
     "output_type": "stream",
     "text": [
      "      46/50      1.57G      1.315      3.207      1.397          2        416: 100%|██████████| 88/88 [00:03<00:00, 23.51it/s]\n",
      "                 Class     Images  Instances      Box(P          R      mAP50  mAP50-95): 100%|██████████| 11/11 [00:00<00:00, 39.61it/s]"
     ]
    },
    {
     "name": "stdout",
     "output_type": "stream",
     "text": [
      "                   all         86         88      0.892      0.706      0.852      0.515\n"
     ]
    },
    {
     "name": "stderr",
     "output_type": "stream",
     "text": [
      "\n"
     ]
    },
    {
     "name": "stdout",
     "output_type": "stream",
     "text": [
      "\n",
      "      Epoch    GPU_mem   box_loss   cls_loss   dfl_loss  Instances       Size\n"
     ]
    },
    {
     "name": "stderr",
     "output_type": "stream",
     "text": [
      "      47/50      1.57G      1.293      3.221      1.392          2        416: 100%|██████████| 88/88 [00:03<00:00, 23.62it/s]\n",
      "                 Class     Images  Instances      Box(P          R      mAP50  mAP50-95): 100%|██████████| 11/11 [00:00<00:00, 39.49it/s]"
     ]
    },
    {
     "name": "stdout",
     "output_type": "stream",
     "text": [
      "                   all         86         88      0.881      0.806      0.891      0.539\n"
     ]
    },
    {
     "name": "stderr",
     "output_type": "stream",
     "text": [
      "\n"
     ]
    },
    {
     "name": "stdout",
     "output_type": "stream",
     "text": [
      "\n",
      "      Epoch    GPU_mem   box_loss   cls_loss   dfl_loss  Instances       Size\n"
     ]
    },
    {
     "name": "stderr",
     "output_type": "stream",
     "text": [
      "      48/50      1.57G      1.284      3.114      1.364          2        416: 100%|██████████| 88/88 [00:03<00:00, 23.66it/s]\n",
      "                 Class     Images  Instances      Box(P          R      mAP50  mAP50-95): 100%|██████████| 11/11 [00:00<00:00, 39.36it/s]"
     ]
    },
    {
     "name": "stdout",
     "output_type": "stream",
     "text": [
      "                   all         86         88      0.778      0.815      0.862      0.523\n"
     ]
    },
    {
     "name": "stderr",
     "output_type": "stream",
     "text": [
      "\n"
     ]
    },
    {
     "name": "stdout",
     "output_type": "stream",
     "text": [
      "\n",
      "      Epoch    GPU_mem   box_loss   cls_loss   dfl_loss  Instances       Size\n"
     ]
    },
    {
     "name": "stderr",
     "output_type": "stream",
     "text": [
      "      49/50      1.57G      1.246      3.027      1.357          2        416: 100%|██████████| 88/88 [00:03<00:00, 23.31it/s]\n",
      "                 Class     Images  Instances      Box(P          R      mAP50  mAP50-95): 100%|██████████| 11/11 [00:00<00:00, 39.28it/s]"
     ]
    },
    {
     "name": "stdout",
     "output_type": "stream",
     "text": [
      "                   all         86         88      0.816      0.772      0.869      0.539\n"
     ]
    },
    {
     "name": "stderr",
     "output_type": "stream",
     "text": [
      "\n"
     ]
    },
    {
     "name": "stdout",
     "output_type": "stream",
     "text": [
      "\n",
      "      Epoch    GPU_mem   box_loss   cls_loss   dfl_loss  Instances       Size\n"
     ]
    },
    {
     "name": "stderr",
     "output_type": "stream",
     "text": [
      "      50/50      1.57G      1.246      2.932      1.364          2        416: 100%|██████████| 88/88 [00:03<00:00, 23.64it/s]\n",
      "                 Class     Images  Instances      Box(P          R      mAP50  mAP50-95): 100%|██████████| 11/11 [00:00<00:00, 39.35it/s]"
     ]
    },
    {
     "name": "stdout",
     "output_type": "stream",
     "text": [
      "                   all         86         88      0.873      0.769      0.891      0.548\n"
     ]
    },
    {
     "name": "stderr",
     "output_type": "stream",
     "text": [
      "\n"
     ]
    },
    {
     "name": "stdout",
     "output_type": "stream",
     "text": [
      "\n",
      "50 epochs completed in 0.060 hours.\n",
      "Optimizer stripped from /home/peter/Desktop/TU PHD/WildlifeDetectionSystem/models/trained/wildlife_detector_hierarchical_20250510_17062/weights/last.pt, 22.5MB\n",
      "Optimizer stripped from /home/peter/Desktop/TU PHD/WildlifeDetectionSystem/models/trained/wildlife_detector_hierarchical_20250510_17062/weights/best.pt, 22.5MB\n",
      "\n",
      "Validating /home/peter/Desktop/TU PHD/WildlifeDetectionSystem/models/trained/wildlife_detector_hierarchical_20250510_17062/weights/best.pt...\n",
      "Ultralytics 8.3.106 🚀 Python-3.12.3 torch-2.6.0+cu124 CUDA:0 (NVIDIA GeForce RTX 4050 Laptop GPU, 5898MiB)\n",
      "Model summary (fused): 72 layers, 11,127,519 parameters, 0 gradients, 28.4 GFLOPs\n"
     ]
    },
    {
     "name": "stderr",
     "output_type": "stream",
     "text": [
      "                 Class     Images  Instances      Box(P          R      mAP50  mAP50-95): 100%|██████████| 11/11 [00:00<00:00, 31.76it/s]\n"
     ]
    },
    {
     "name": "stdout",
     "output_type": "stream",
     "text": [
      "                   all         86         88       0.91      0.771      0.895      0.563\n",
      "                  Deer         37         37      0.942      0.874      0.972      0.629\n",
      "            Carnivores         14         14      0.895      0.643      0.773      0.536\n",
      "         Small_Mammals         26         27      0.874      0.768      0.885      0.509\n",
      "                 Other          9         10       0.93        0.8      0.949      0.579\n",
      "Speed: 0.1ms preprocess, 1.6ms inference, 0.0ms loss, 0.6ms postprocess per image\n",
      "Results saved to \u001b[1m/home/peter/Desktop/TU PHD/WildlifeDetectionSystem/models/trained/wildlife_detector_hierarchical_20250510_17062\u001b[0m\n",
      "\n",
      "Training completed in 0h 3m 48s\n",
      "Note: Model saved with modified path: /home/peter/Desktop/TU PHD/WildlifeDetectionSystem/models/trained/wildlife_detector_hierarchical_20250510_17062\n",
      "\n",
      "Hierarchical model training results:\n",
      "- Best mAP50-95: 0.6290\n",
      "- Best mAP50: 0.5364\n",
      "- Best epoch: 0\n",
      "- Model saved to: /home/peter/Desktop/TU PHD/WildlifeDetectionSystem/models/trained/wildlife_detector_hierarchical_20250510_1706\n",
      "Hierarchical training summary saved to: /home/peter/Desktop/TU PHD/WildlifeDetectionSystem/reports/hierarchical_model_summary_20250510_1706.md\n"
     ]
    }
   ],
   "source": [
    "# Cell 6: Hierarchical Model Training\n",
    "# Train the hierarchical model with taxonomic groups as classes\n",
    "\n",
    "# Create model output directories\n",
    "os.makedirs(hierarchical_model_path, exist_ok=True)\n",
    "\n",
    "print(f\"\\nStarting hierarchical model training on {len(taxonomic_groups)} taxonomic groups\")\n",
    "print(f\"Using base model: {base_model_path}\")\n",
    "print(f\"Dataset path: {hierarchical_export_path}\")\n",
    "print(f\"Model will be saved to: {hierarchical_model_path}\")\n",
    "\n",
    "try:\n",
    "    # Initialize YOLOv8 model\n",
    "    hierarchical_model = YOLO(base_model_path)\n",
    "    \n",
    "    # Set training parameters\n",
    "    hierarchical_params = {\n",
    "        **hierarchical_hyperparams,\n",
    "        'data': os.path.join(hierarchical_export_path, 'data.yaml'),\n",
    "        'project': model_save_dir,\n",
    "        'name': os.path.basename(hierarchical_model_path)\n",
    "    }\n",
    "    \n",
    "    print(\"\\nStarting hierarchical training with the following settings:\")\n",
    "    print(f\"- Model: {base_model_path}\")\n",
    "    print(f\"- Epochs: {hierarchical_params['epochs']}\")\n",
    "    print(f\"- Batch size: {hierarchical_params['batch']}\")\n",
    "    print(f\"- Image size: {hierarchical_params['imgsz']}px\")  # Using 'imgsz' instead of 'image_size'\n",
    "    print(f\"- Device: {'CPU' if hierarchical_params['device'] == 'cpu' else 'GPU'}\")\n",
    "    print(f\"- Workers: {hierarchical_params['workers']}\")\n",
    "    \n",
    "    # Train with automatic fallback on OOM errors\n",
    "    hierarchical_results, final_hierarchical_params = train_with_fallback(hierarchical_model, hierarchical_params)\n",
    "    \n",
    "    if hierarchical_results:\n",
    "        # Get the best epoch (safely)\n",
    "        if hasattr(hierarchical_results, 'best_epoch'):\n",
    "            best_epoch = hierarchical_results.best_epoch\n",
    "        else:\n",
    "            # Try to infer best epoch from the early stopping message\n",
    "            import re\n",
    "            log_output = str(hierarchical_results)\n",
    "            best_epoch_match = re.search(r'Best results observed at epoch (\\d+)', log_output)\n",
    "            best_epoch = int(best_epoch_match.group(1)) if best_epoch_match else 0\n",
    "        \n",
    "        # Get maps safely and convert to Python lists (not NumPy arrays)\n",
    "        if hasattr(hierarchical_results, 'maps'):\n",
    "            maps = [float(m) for m in hierarchical_results.maps]\n",
    "        else:\n",
    "            # Get from the box attribute\n",
    "            maps = [float(hierarchical_results.box.map), float(hierarchical_results.box.map50)] if hasattr(hierarchical_results, 'box') else [0, 0]\n",
    "        \n",
    "        # Check for actual output directory path\n",
    "        actual_model_path = hierarchical_model_path\n",
    "        for dir_name in os.listdir(model_save_dir):\n",
    "            if os.path.basename(hierarchical_model_path) in dir_name:\n",
    "                actual_model_path = os.path.join(model_save_dir, dir_name)\n",
    "                if actual_model_path != hierarchical_model_path:\n",
    "                    print(f\"Note: Model saved with modified path: {actual_model_path}\")\n",
    "        \n",
    "        # Save final hyperparameters actually used\n",
    "        training_config[\"hierarchical_model\"] = {\n",
    "            \"train_results\": {\n",
    "                \"best_epoch\": best_epoch,\n",
    "                \"maps\": maps,  # Now using Python list instead of NumPy array\n",
    "                \"fitness\": float(getattr(hierarchical_results, 'fitness', 0))\n",
    "            },\n",
    "            \"final_hyperparams\": final_hierarchical_params,\n",
    "            \"actual_model_path\": actual_model_path\n",
    "        }\n",
    "        \n",
    "        # Update training config with results\n",
    "        with open(training_config_path, 'w') as f:\n",
    "            json.dump(training_config, f, indent=2)\n",
    "        \n",
    "        print(\"\\nHierarchical model training results:\")\n",
    "        print(f\"- Best mAP50-95: {maps[0]:.4f}\")\n",
    "        print(f\"- Best mAP50: {maps[1]:.4f}\")\n",
    "        print(f\"- Best epoch: {best_epoch}\")\n",
    "        print(f\"- Model saved to: {actual_model_path}\")\n",
    "        \n",
    "        # Create a training summary report\n",
    "        hierarchical_summary_path = os.path.join(reports_dir, f\"hierarchical_model_summary_{timestamp_now}.md\")\n",
    "        os.makedirs(os.path.dirname(hierarchical_summary_path), exist_ok=True)\n",
    "        \n",
    "        with open(hierarchical_summary_path, 'w') as f:\n",
    "            f.write(f\"# Hierarchical Wildlife Detection Model Training Summary\\n\\n\")\n",
    "            f.write(f\"## Training Metadata\\n\")\n",
    "            f.write(f\"- **Date and Time**: {datetime.now().strftime('%Y-%m-%d %H:%M:%S')}\\n\")\n",
    "            f.write(f\"- **Model**: {base_model_path}\\n\")\n",
    "            f.write(f\"- **Dataset**: {hierarchical_export_path}\\n\")\n",
    "            f.write(f\"- **Taxonomic Groups**: {len(taxonomic_groups)}\\n\\n\")\n",
    "            \n",
    "            f.write(f\"## Training Configuration\\n\")\n",
    "            for param in ['epochs', 'batch', 'imgsz', 'device', 'optimizer', 'lr0']:\n",
    "                f.write(f\"- **{param}**: {final_hierarchical_params.get(param, 'N/A')}\\n\")\n",
    "            \n",
    "            f.write(f\"\\n## Performance Metrics\\n\")\n",
    "            f.write(f\"- **Best mAP50-95**: {maps[0]:.4f}\\n\")\n",
    "            f.write(f\"- **Best mAP50**: {maps[1]:.4f}\\n\")\n",
    "            f.write(f\"- **Best epoch**: {best_epoch}\\n\")\n",
    "            \n",
    "            f.write(f\"\\n## Taxonomic Groups\\n\")\n",
    "            for group, class_ids in taxonomic_groups.items():\n",
    "                species = [class_names[idx] for idx in class_ids if idx < len(class_names)]\n",
    "                f.write(f\"- **{group}**: {', '.join(species[:5])}\")\n",
    "                if len(species) > 5:\n",
    "                    f.write(f\" and {len(species)-5} more\")\n",
    "                f.write(f\" ({len(species)} species)\\n\")\n",
    "\n",
    "        print(f\"Hierarchical training summary saved to: {hierarchical_summary_path}\")\n",
    "        \n",
    "        # Save model path for future notebooks\n",
    "        hierarchical_best_model_path = os.path.join(actual_model_path, \"weights\", \"best.pt\")\n",
    "        training_config[\"hierarchical_best_model_path\"] = hierarchical_best_model_path\n",
    "        \n",
    "        # Update training config with paths to result files\n",
    "        with open(training_config_path, 'w') as f:\n",
    "            json.dump(training_config, f, indent=2)\n",
    "    else:\n",
    "        print(\"\\nHierarchical model training failed.\")\n",
    "\n",
    "except Exception as e:\n",
    "    print(f\"Error during hierarchical model training: {e}\")\n",
    "    import traceback\n",
    "    traceback.print_exc()"
   ]
  },
  {
   "cell_type": "code",
   "execution_count": 7,
   "id": "b6450711-5f52-4140-8d1a-98b0c1b179b7",
   "metadata": {},
   "outputs": [
    {
     "name": "stdout",
     "output_type": "stream",
     "text": [
      "\n",
      "Looking for model directories:\n",
      "Found potential standard model dir: wildlife_detector_20250510_1706\n",
      "Found potential hierarchical model dir: wildlife_detector_hierarchical_20250510_17062\n",
      "Found potential hierarchical model dir: wildlife_detector_hierarchical_20250510_1706\n",
      "\n",
      "Loading training results...\n",
      "Loading results from fallback path: /home/peter/Desktop/TU PHD/WildlifeDetectionSystem/models/trained/wildlife_detector_20250510_17062/results.csv\n",
      "Loading results from fallback path: /home/peter/Desktop/TU PHD/WildlifeDetectionSystem/models/trained/wildlife_detector_hierarchical_20250510_17062/results.csv\n",
      "Loaded standard model results: 97 epochs\n",
      "Available metrics: epoch, time, train/box_loss, train/cls_loss, train/dfl_loss, metrics/precision(B), metrics/recall(B), metrics/mAP50(B), metrics/mAP50-95(B), val/box_loss, val/cls_loss, val/dfl_loss, lr/pg0, lr/pg1, lr/pg2\n",
      "Loaded hierarchical model results: 50 epochs\n",
      "Available metrics: epoch, time, train/box_loss, train/cls_loss, train/dfl_loss, metrics/precision(B), metrics/recall(B), metrics/mAP50(B), metrics/mAP50-95(B), val/box_loss, val/cls_loss, val/dfl_loss, lr/pg0, lr/pg1, lr/pg2\n",
      "\n",
      "Generating training metrics visualization...\n",
      "Saved training metrics plot to: /home/peter/Desktop/TU PHD/WildlifeDetectionSystem/reports/plots/training_metrics_20250510_1706.png\n",
      "Training visualization complete: /home/peter/Desktop/TU PHD/WildlifeDetectionSystem/reports/plots/training_metrics_20250510_1706.png\n"
     ]
    }
   ],
   "source": [
    "# Cell 7: Training Visualization\n",
    "# Visualize and compare training results\n",
    "\n",
    "def make_json_serializable(obj):\n",
    "    \"\"\"Convert NumPy types to Python types for JSON serialization\"\"\"\n",
    "    import numpy as np\n",
    "    if isinstance(obj, np.ndarray):\n",
    "        return obj.tolist()\n",
    "    elif isinstance(obj, np.integer):\n",
    "        return int(obj)\n",
    "    elif isinstance(obj, np.floating):\n",
    "        return float(obj)\n",
    "    elif isinstance(obj, dict):\n",
    "        return {k: make_json_serializable(v) for k, v in obj.items()}\n",
    "    elif isinstance(obj, list):\n",
    "        return [make_json_serializable(i) for i in obj]\n",
    "    else:\n",
    "        return obj\n",
    "\n",
    "def load_results_csv(model_path, fallback_paths=None):\n",
    "    \"\"\"Load and parse the results.csv file from model training with fallback paths\"\"\"\n",
    "    # Try the main path first\n",
    "    results_path = os.path.join(model_path, 'results.csv')\n",
    "    if os.path.exists(results_path):\n",
    "        try:\n",
    "            print(f\"Loading results from: {results_path}\")\n",
    "            return pd.read_csv(results_path)\n",
    "        except Exception as e:\n",
    "            print(f\"Error loading results from {results_path}: {e}\")\n",
    "    \n",
    "    # If not found, check if there's a similar path (with suffix)\n",
    "    if fallback_paths is None:\n",
    "        base_name = os.path.basename(model_path)\n",
    "        fallback_paths = []\n",
    "        if os.path.exists(model_save_dir):\n",
    "            for dir_name in os.listdir(model_save_dir):\n",
    "                if base_name in dir_name and dir_name != base_name:\n",
    "                    fallback_paths.append(os.path.join(model_save_dir, dir_name))\n",
    "    \n",
    "    # Try each fallback path\n",
    "    for path in fallback_paths:\n",
    "        fallback_results_path = os.path.join(path, 'results.csv')\n",
    "        if os.path.exists(fallback_results_path):\n",
    "            try:\n",
    "                print(f\"Loading results from fallback path: {fallback_results_path}\")\n",
    "                return pd.read_csv(fallback_results_path)\n",
    "            except Exception as e:\n",
    "                print(f\"Error loading results from {fallback_results_path}: {e}\")\n",
    "    \n",
    "    print(f\"No results.csv found for {model_path} or fallbacks\")\n",
    "    return None\n",
    "\n",
    "def plot_training_metrics(standard_df, hierarchical_df=None, metrics=None):\n",
    "    \"\"\"Plot training metrics from results dataframes\"\"\"\n",
    "    if metrics is None:\n",
    "        # Default metrics to plot (handle different column names in YOLOv8)\n",
    "        metrics = []\n",
    "        if standard_df is not None:\n",
    "            cols = standard_df.columns\n",
    "            for metric, patterns in {\n",
    "                'loss': ['train/box_loss', 'box_loss', 'loss'],\n",
    "                'precision': ['metrics/precision(B)', 'precision', 'val/precision'],\n",
    "                'recall': ['metrics/recall(B)', 'recall', 'val/recall'],\n",
    "                'mAP50': ['metrics/mAP50(B)', 'mAP50', 'val/mAP50'],\n",
    "                'mAP50-95': ['metrics/mAP50-95(B)', 'mAP50-95', 'val/mAP50-95'] \n",
    "            }.items():\n",
    "                # Find the first matching column pattern\n",
    "                matching_cols = [col for col in cols if any(pattern in col for pattern in patterns)]\n",
    "                if matching_cols:\n",
    "                    metrics.append((metric, matching_cols[0]))\n",
    "    \n",
    "    # Create subplots for each metric\n",
    "    if not metrics:\n",
    "        print(\"No metrics found in results files\")\n",
    "        return\n",
    "    \n",
    "    n_metrics = len(metrics)\n",
    "    fig, axs = plt.subplots(n_metrics, 1, figsize=(12, 4 * n_metrics))\n",
    "    if n_metrics == 1:\n",
    "        axs = [axs]\n",
    "    \n",
    "    # Plot each metric\n",
    "    for i, (metric_name, col_name) in enumerate(metrics):\n",
    "        ax = axs[i]\n",
    "        \n",
    "        # Plot standard model\n",
    "        if standard_df is not None and col_name in standard_df.columns:\n",
    "            ax.plot(standard_df['epoch'], standard_df[col_name], 'b-', label='Standard')\n",
    "            # Mark best epoch\n",
    "            if 'standard_model' in training_config and 'train_results' in training_config['standard_model']:\n",
    "                best_epoch = training_config['standard_model']['train_results'].get('best_epoch', 0)\n",
    "                if best_epoch < len(standard_df):\n",
    "                    best_value = standard_df.iloc[best_epoch][col_name]\n",
    "                    ax.plot(best_epoch, best_value, 'bo', markersize=8)\n",
    "                    ax.axvline(x=best_epoch, color='b', linestyle='--', alpha=0.3)\n",
    "        \n",
    "        # Plot hierarchical model if available\n",
    "        if hierarchical_df is not None and col_name in hierarchical_df.columns:\n",
    "            ax.plot(hierarchical_df['epoch'], hierarchical_df[col_name], 'r-', label='Hierarchical')\n",
    "            # Mark best epoch\n",
    "            if 'hierarchical_model' in training_config and 'train_results' in training_config['hierarchical_model']:\n",
    "                best_epoch = training_config['hierarchical_model']['train_results'].get('best_epoch', 0)\n",
    "                if best_epoch < len(hierarchical_df):\n",
    "                    best_value = hierarchical_df.iloc[best_epoch][col_name]\n",
    "                    ax.plot(best_epoch, best_value, 'ro', markersize=8)\n",
    "                    ax.axvline(x=best_epoch, color='r', linestyle='--', alpha=0.3)\n",
    "        \n",
    "        ax.set_xlabel('Epoch')\n",
    "        ax.set_ylabel(metric_name)\n",
    "        ax.set_title(f'{metric_name.upper()} vs. Epoch')\n",
    "        ax.grid(True, alpha=0.3)\n",
    "        if standard_df is not None and hierarchical_df is not None:\n",
    "            ax.legend()\n",
    "    \n",
    "    plt.tight_layout()\n",
    "    \n",
    "    # Save the plot\n",
    "    plots_dir = os.path.join(reports_dir, \"plots\")\n",
    "    os.makedirs(plots_dir, exist_ok=True)\n",
    "    \n",
    "    plot_path = os.path.join(plots_dir, f\"training_metrics_{timestamp_now}.png\")\n",
    "    plt.savefig(plot_path)\n",
    "    print(f\"Saved training metrics plot to: {plot_path}\")\n",
    "    \n",
    "    # Add plot path to training config (with JSON serialization fix)\n",
    "    training_config[\"plots\"] = training_config.get(\"plots\", {})\n",
    "    training_config[\"plots\"][\"training_metrics\"] = plot_path\n",
    "    \n",
    "    # Fix JSON serialization issue by converting all NumPy types\n",
    "    serializable_config = make_json_serializable(training_config)\n",
    "    \n",
    "    with open(training_config_path, 'w') as f:\n",
    "        json.dump(serializable_config, f, indent=2)\n",
    "    \n",
    "    return plot_path\n",
    "\n",
    "# Get potential actual paths\n",
    "standard_actual_path = training_config.get('standard_actual_model_path', standard_model_path)\n",
    "standard_fallback_paths = [standard_actual_path] if standard_actual_path != standard_model_path else []\n",
    "\n",
    "hierarchical_actual_path = training_config.get('hierarchical_model', {}).get('actual_model_path', hierarchical_model_path)\n",
    "hierarchical_fallback_paths = [hierarchical_actual_path] if hierarchical_actual_path != hierarchical_model_path else []\n",
    "\n",
    "# Check for any directories that match the base names\n",
    "base_standard_name = os.path.basename(standard_model_path)\n",
    "base_hierarchical_name = os.path.basename(hierarchical_model_path)\n",
    "\n",
    "print(\"\\nLooking for model directories:\")\n",
    "if os.path.exists(model_save_dir):\n",
    "    for dir_name in os.listdir(model_save_dir):\n",
    "        dir_path = os.path.join(model_save_dir, dir_name)\n",
    "        if os.path.isdir(dir_path):\n",
    "            if base_standard_name in dir_name and dir_path not in standard_fallback_paths:\n",
    "                print(f\"Found potential standard model dir: {dir_name}\")\n",
    "                standard_fallback_paths.append(dir_path)\n",
    "            elif base_hierarchical_name in dir_name and dir_path not in hierarchical_fallback_paths:\n",
    "                print(f\"Found potential hierarchical model dir: {dir_name}\")\n",
    "                hierarchical_fallback_paths.append(dir_path)\n",
    "\n",
    "# Load results\n",
    "print(\"\\nLoading training results...\")\n",
    "standard_results_df = load_results_csv(standard_model_path, standard_fallback_paths)\n",
    "hierarchical_results_df = load_results_csv(hierarchical_model_path, hierarchical_fallback_paths)\n",
    "\n",
    "if standard_results_df is not None:\n",
    "    print(f\"Loaded standard model results: {len(standard_results_df)} epochs\")\n",
    "    print(f\"Available metrics: {', '.join(standard_results_df.columns)}\")\n",
    "else:\n",
    "    print(\"Standard model results not found\")\n",
    "\n",
    "if hierarchical_results_df is not None:\n",
    "    print(f\"Loaded hierarchical model results: {len(hierarchical_results_df)} epochs\")\n",
    "    print(f\"Available metrics: {', '.join(hierarchical_results_df.columns)}\")\n",
    "else:\n",
    "    print(\"Hierarchical model results not found\")\n",
    "\n",
    "# Plot training metrics\n",
    "if standard_results_df is not None or hierarchical_results_df is not None:\n",
    "    print(\"\\nGenerating training metrics visualization...\")\n",
    "    plot_path = plot_training_metrics(standard_results_df, hierarchical_results_df)\n",
    "    print(f\"Training visualization complete: {plot_path}\")\n",
    "else:\n",
    "    print(\"Cannot generate visualizations: No results data available\")"
   ]
  },
  {
   "cell_type": "code",
   "execution_count": 8,
   "id": "29050738-a741-4e9c-adfa-401350605807",
   "metadata": {},
   "outputs": [
    {
     "name": "stdout",
     "output_type": "stream",
     "text": [
      "\n",
      "Output tracking files created:\n",
      "- JSON tracking: /home/peter/Desktop/TU PHD/WildlifeDetectionSystem/tracking/notebook2_outputs_20250510_1706.json\n",
      "- Markdown summary: /home/peter/Desktop/TU PHD/WildlifeDetectionSystem/tracking/notebook2_summary_20250510_1706.md\n",
      "\n",
      "These files document all outputs from this notebook for long-term project organization.\n",
      "\n",
      "Model training complete!\n",
      "The trained models are ready for evaluation.\n",
      "Please proceed to the model evaluation notebook (03_model_evaluation.ipynb).\n"
     ]
    }
   ],
   "source": [
    "# Cell 8: Output Tracking for Long-Term Project Management\n",
    "# Create detailed tracking of all generated files and models\n",
    "\n",
    "# Create tracking directory if it doesn't exist\n",
    "tracking_dir = os.path.join(project_root, \"tracking\")\n",
    "os.makedirs(tracking_dir, exist_ok=True)\n",
    "\n",
    "# Get actual model paths (from training config if available)\n",
    "standard_actual_path = training_config.get('standard_actual_model_path', standard_model_path)\n",
    "hierarchical_actual_path = training_config.get('hierarchical_model', {}).get('actual_model_path', hierarchical_model_path)\n",
    "\n",
    "# Collect all generated files and their purposes\n",
    "generated_files = {\n",
    "    \"configuration\": {\n",
    "        \"training_config\": training_config_path\n",
    "    },\n",
    "    \"standard_model\": {\n",
    "        \"base_path\": standard_model_path,\n",
    "        \"actual_path\": standard_actual_path,\n",
    "        \"best_weights\": os.path.join(standard_actual_path, \"weights\", \"best.pt\"),\n",
    "        \"last_weights\": os.path.join(standard_actual_path, \"weights\", \"last.pt\"),\n",
    "        \"results_csv\": os.path.join(standard_actual_path, \"results.csv\"),\n",
    "        \"summary_report\": os.path.join(reports_dir, f\"standard_model_summary_{timestamp_now}.md\")\n",
    "    },\n",
    "    \"hierarchical_model\": {\n",
    "        \"base_path\": hierarchical_model_path,\n",
    "        \"actual_path\": hierarchical_actual_path,\n",
    "        \"best_weights\": os.path.join(hierarchical_actual_path, \"weights\", \"best.pt\"),\n",
    "        \"last_weights\": os.path.join(hierarchical_actual_path, \"weights\", \"last.pt\"),\n",
    "        \"results_csv\": os.path.join(hierarchical_actual_path, \"results.csv\"),\n",
    "        \"summary_report\": os.path.join(reports_dir, f\"hierarchical_model_summary_{timestamp_now}.md\")\n",
    "    },\n",
    "    \"visualizations\": {\n",
    "        \"training_metrics\": os.path.join(reports_dir, \"plots\", f\"training_metrics_{timestamp_now}.png\")\n",
    "    }\n",
    "}\n",
    "\n",
    "# Create a comprehensive output tracking file\n",
    "tracking_file = os.path.join(tracking_dir, f\"notebook2_outputs_{timestamp_now}.json\")\n",
    "with open(tracking_file, 'w') as f:\n",
    "    json.dump({\n",
    "        \"notebook\": \"02_model_training\",\n",
    "        \"execution_timestamp\": timestamp_now,\n",
    "        \"description\": \"Model training for wildlife detection\",\n",
    "        \"generated_files\": generated_files,\n",
    "        \"training_config\": training_config,\n",
    "        \"next_steps\": {\n",
    "            \"notebook\": \"03_model_evaluation.ipynb\",\n",
    "            \"required_inputs\": [training_config_path]\n",
    "        }\n",
    "    }, f, indent=2)\n",
    "\n",
    "# Create a simple Markdown summary for human-readable reference\n",
    "summary_file = os.path.join(tracking_dir, f\"notebook2_summary_{timestamp_now}.md\")\n",
    "with open(summary_file, 'w') as f:\n",
    "    f.write(f\"# Model Training Notebook Outputs\\n\\n\")\n",
    "    f.write(f\"**Execution Date:** {datetime.now().strftime('%Y-%m-%d %H:%M')}\\n\\n\")\n",
    "    \n",
    "    f.write(f\"## Configuration\\n\\n\")\n",
    "    f.write(f\"- Training Config: `{training_config_path}`\\n\")\n",
    "    f.write(f\"- Model Size: {training_config['model']['name']} ({training_config['model']['description']})\\n\")\n",
    "    f.write(f\"- Hardware: {training_config['hardware']['device']} | Batch Size: {training_config['hardware']['batch_size']} | Image Size: {training_config['hardware']['image_size']}px\\n\\n\")\n",
    "    \n",
    "    # Standard model results\n",
    "    if 'standard_model' in training_config and 'train_results' in training_config['standard_model']:\n",
    "        std_results = training_config['standard_model']['train_results'] \n",
    "        f.write(f\"## Standard Model Results\\n\\n\")\n",
    "        f.write(f\"- Base Path: `{standard_model_path}`\\n\")\n",
    "        f.write(f\"- Actual Path: `{standard_actual_path}`\\n\")\n",
    "        f.write(f\"- Best Weights: `weights/best.pt`\\n\")\n",
    "        f.write(f\"- Classes: {len(class_names)}\\n\")\n",
    "        \n",
    "        # Safely get best epoch and map values\n",
    "        best_epoch = std_results.get('best_epoch', 'N/A')\n",
    "        maps = std_results.get('maps', [0, 0])\n",
    "        map50_95 = maps[0] if len(maps) > 0 else 0\n",
    "        map50 = maps[1] if len(maps) > 1 else 0\n",
    "        \n",
    "        f.write(f\"- Best Epoch: {best_epoch}\\n\")\n",
    "        f.write(f\"- mAP50: {map50:.4f}\\n\")\n",
    "        f.write(f\"- mAP50-95: {map50_95:.4f}\\n\\n\")\n",
    "    else:\n",
    "        f.write(f\"## Standard Model\\n\\n\")\n",
    "        f.write(f\"- Path: `{standard_model_path}`\\n\")\n",
    "        f.write(f\"- Status: Training results not available\\n\\n\")\n",
    "    \n",
    "    # Hierarchical model results\n",
    "    if 'hierarchical_model' in training_config and 'train_results' in training_config['hierarchical_model']:\n",
    "        hier_results = training_config['hierarchical_model']['train_results']\n",
    "        f.write(f\"## Hierarchical Model Results\\n\\n\")\n",
    "        f.write(f\"- Base Path: `{hierarchical_model_path}`\\n\")\n",
    "        f.write(f\"- Actual Path: `{hierarchical_actual_path}`\\n\")\n",
    "        f.write(f\"- Best Weights: `weights/best.pt`\\n\")\n",
    "        f.write(f\"- Taxonomic Groups: {len(taxonomic_groups)}\\n\")\n",
    "        \n",
    "        # Safely get best epoch and map values\n",
    "        best_epoch = hier_results.get('best_epoch', 'N/A')\n",
    "        maps = hier_results.get('maps', [0, 0])\n",
    "        map50_95 = maps[0] if len(maps) > 0 else 0\n",
    "        map50 = maps[1] if len(maps) > 1 else 0\n",
    "        \n",
    "        f.write(f\"- Best Epoch: {best_epoch}\\n\")\n",
    "        f.write(f\"- mAP50: {map50:.4f}\\n\")\n",
    "        f.write(f\"- mAP50-95: {map50_95:.4f}\\n\\n\")\n",
    "    else:\n",
    "        f.write(f\"## Hierarchical Model\\n\\n\")\n",
    "        f.write(f\"- Path: `{hierarchical_model_path}`\\n\")\n",
    "        f.write(f\"- Status: Training results not available\\n\\n\")\n",
    "    \n",
    "    f.write(f\"## Next Steps\\n\\n\")\n",
    "    f.write(f\"Proceed to notebook 3 (Model Evaluation) using the training config: `{os.path.basename(training_config_path)}`\")\n",
    "\n",
    "print(f\"\\nOutput tracking files created:\")\n",
    "print(f\"- JSON tracking: {tracking_file}\")\n",
    "print(f\"- Markdown summary: {summary_file}\")\n",
    "print(f\"\\nThese files document all outputs from this notebook for long-term project organization.\")\n",
    "\n",
    "print(\"\\nModel training complete!\")\n",
    "print(\"The trained models are ready for evaluation.\")\n",
    "print(\"Please proceed to the model evaluation notebook (03_model_evaluation.ipynb).\")"
   ]
  },
  {
   "cell_type": "code",
   "execution_count": null,
   "id": "5f5b451e-c824-49d6-a9ea-41dd3709b913",
   "metadata": {},
   "outputs": [],
   "source": []
  }
 ],
 "metadata": {
  "kernelspec": {
   "display_name": "venv",
   "language": "python",
   "name": "python3"
  },
  "language_info": {
   "codemirror_mode": {
    "name": "ipython",
    "version": 3
   },
   "file_extension": ".py",
   "mimetype": "text/x-python",
   "name": "python",
   "nbconvert_exporter": "python",
   "pygments_lexer": "ipython3",
   "version": "3.12.3"
  }
 },
 "nbformat": 4,
 "nbformat_minor": 5
}
